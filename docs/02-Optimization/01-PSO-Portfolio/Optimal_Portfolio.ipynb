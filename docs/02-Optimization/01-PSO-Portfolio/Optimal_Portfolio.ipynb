{
 "cells": [
  {
   "cell_type": "markdown",
   "id": "1bb4a04c",
   "metadata": {},
   "source": [
    "# Stock Portfolio Optimization with Particle Swarm Optimizer\n",
    "*Author:* **Daniel Carpenter**  \n",
    "\n",
    "\n",
    "## Overview of Code\n",
    "1. Inputs for model:\n",
    "    * Stock tickers from publically traded companies, investment funds, etc. available on Yahoo Finance \n",
    "    * Date range of Stocks to include in sample (Default last 10 years)\n",
    "    * Minimum desired return on portfolio as a soft constraint\n",
    "    * Some Metaheuristic inputs   \n",
    "    \n",
    "2. `StockFinanceMPT.py`: Calls `PullStockData.py` to pull stock data, then prepares stock data to get excess returns, variance-covariance matrix, etc. for **Modern Porfolio Theory**. *Must be in working directory*\n",
    "\n",
    "3. `SimulateOptimalPortfolios.py`: \n",
    "    * Runs individual Particle Swarm Optimization routine, searching for the global minimum risk. Specifically, it creates many `OptimizePortfolioPSO` class objects.\n",
    "    * Repeatedly simulate PSO modeling as desired.\n",
    "    * Returns optimal allocation of weights to invest into stocks and associated investment weights.\n",
    "\n",
    "    \n",
    "4.  `ViewSimulatedPortfolios.py`: Class that processes results of the simulations, which yields the following performance plots:\n",
    "    * Displays variance characteristics across all simulations.\n",
    "    * Across all simulations, plots:\n",
    "        * Global minimum risk portfolio and maximum Sharpe portfolios against all non-optimal portfolios.\n",
    "        * Global minimum risk portfolio and maximum Sharpe portfolios against all investable tickers, or funds.\n",
    "    * Frontier of all simulated portfolios. I.e., risk vs. return of all simulated portfolios.\n",
    "\n",
    "6. Exports CSVs of inputs, performance data, weights, etc."
   ]
  },
  {
   "cell_type": "markdown",
   "id": "b4232243",
   "metadata": {},
   "source": [
    "## Primary Packages"
   ]
  },
  {
   "cell_type": "code",
   "execution_count": 1,
   "id": "d81522ac",
   "metadata": {},
   "outputs": [],
   "source": [
    "import datetime                  as dt  # For dates\n",
    "import StockFinanceMPT           as mpt # Stock pull from yfinance in current wrkdir\n",
    "import SimulateOptimalPortfolios as sop # Run simulations of global best portfolios\n",
    "import ViewSimulatedPortfolios   as vsp # Wrapper class to plot, export, etc., simulations"
   ]
  },
  {
   "cell_type": "markdown",
   "id": "58975746",
   "metadata": {},
   "source": [
    "## Stock Pull"
   ]
  },
  {
   "cell_type": "code",
   "execution_count": 2,
   "id": "9cff440b",
   "metadata": {},
   "outputs": [
    {
     "name": "stdout",
     "output_type": "stream",
     "text": [
      "YF.download() has changed argument auto_adjust default to True\n"
     ]
    },
    {
     "name": "stderr",
     "output_type": "stream",
     "text": [
      "[*********************100%***********************]  21 of 21 completed\n",
      "[*********************100%***********************]  1 of 1 completed\n"
     ]
    }
   ],
   "source": [
    "# List of stock tickers to pull data\n",
    "StockTickers = ['NVDA', 'MSFT', 'AAPL', 'AMZN', 'META', \n",
    "                'AVGO', 'GOOGL', 'GOOG', 'TSLA','JPM', \n",
    "                'WMT', 'V', 'LLY', 'ORCL', 'MA', 'NFLX', \n",
    "                'XOM', 'JNJ', 'COST', 'HD', 'BAC'\n",
    "]\n",
    "\n",
    "# Date range for stock & t-bill data pull - default last 10 years\n",
    "maxDate = dt.datetime.today()                    # Max date to pull from\n",
    "minDate = maxDate - dt.timedelta(days = 15*365) # Min date to pull from\n",
    "\n",
    "# Pull stock data\n",
    "PulledStockData = mpt.StockFinanceMPT(StockTickers, minDate, maxDate)"
   ]
  },
  {
   "cell_type": "markdown",
   "id": "d40e462c",
   "metadata": {},
   "source": [
    "## Run Simulations"
   ]
  },
  {
   "cell_type": "code",
   "execution_count": 3,
   "id": "f8f991a1",
   "metadata": {},
   "outputs": [],
   "source": [
    "# Create the simulation\n",
    "simulatedPortfolios = sop.SimulateOptimalPortfolios(    \n",
    "    PulledStockData,               # Using the pulled stock data above\n",
    "    totalSimulations    = 1500,    # Number of min risk portfolio's to simulate\n",
    "    totalIterations     = 15,      # Total number of iterations (or movements within one simulation)\n",
    "    numPorfolios        = 25,      # Total number of portfolios in a swarm. \n",
    "    minDesiredReturn    = 0.07     # Targeted expected return, soft constraint\n",
    "    )\n",
    "\n",
    "simulatedPortfolios.runSimulation() # Run the simulation given parameters above\n"
   ]
  },
  {
   "cell_type": "markdown",
   "id": "7e64abe7",
   "metadata": {},
   "source": [
    "## View Results\n",
    "\n",
    "### Create viewer wrapper class"
   ]
  },
  {
   "cell_type": "code",
   "execution_count": 4,
   "id": "ec8407b9",
   "metadata": {},
   "outputs": [
    {
     "name": "stdout",
     "output_type": "stream",
     "text": [
      "\n",
      "Minimum Risk Portfolio over all Simulations ----- \n",
      "Risk:\t\t9.2%  \n",
      "Return:\t\t19.3%  \n",
      "Sharpe:\t\t1.987 \n",
      "Num. Tickers:   11 \n",
      "\n",
      "Optimal Weights:\n",
      " Ticker\n",
      "NVDA     0.02\n",
      "MSFT     0.09\n",
      "AAPL     0.00\n",
      "AMZN     0.05\n",
      "META     0.00\n",
      "AVGO     0.00\n",
      "GOOGL    0.00\n",
      "GOOG     0.01\n",
      "TSLA     0.14\n",
      "JPM      0.00\n",
      "WMT      0.09\n",
      "V        0.10\n",
      "LLY      0.00\n",
      "ORCL     0.06\n",
      "MA       0.00\n",
      "NFLX     0.00\n",
      "XOM      0.00\n",
      "JNJ      0.00\n",
      "COST     0.11\n",
      "HD       0.15\n",
      "BAC      0.18\n",
      "Name: Simulation_1370, dtype: float64 \n",
      "Column Index of Optimal Weights: 1370\n",
      "\n",
      "Maximum Sharpe Portfolio over all Simulations ----- \n",
      "Risk:\t\t10.8%  \n",
      "Return:\t\t23.6%  \n",
      "Sharpe:\t\t2.075 \n",
      "Num. Tickers:   16 \n",
      "\n",
      "Optimal Weights:\n",
      " Ticker\n",
      "NVDA     0.07\n",
      "MSFT     0.04\n",
      "AAPL     0.08\n",
      "AMZN     0.00\n",
      "META     0.07\n",
      "AVGO     0.01\n",
      "GOOGL    0.04\n",
      "GOOG     0.08\n",
      "TSLA     0.04\n",
      "JPM      0.02\n",
      "WMT      0.04\n",
      "V        0.10\n",
      "LLY      0.00\n",
      "ORCL     0.11\n",
      "MA       0.00\n",
      "NFLX     0.00\n",
      "XOM      0.03\n",
      "JNJ      0.00\n",
      "COST     0.09\n",
      "HD       0.04\n",
      "BAC      0.14\n",
      "Name: Simulation_902, dtype: float64 \n",
      "Column Index of Optimal Weights: 902\n"
     ]
    }
   ],
   "source": [
    "# Create the viewer wrapper class\n",
    "simulationViewer = vsp.ViewSimulatedPortfolios(simulatedPortfolios)\n",
    "\n",
    "# Note you can view all plots and export data like this, or... (see below chunk)\n",
    "# simulationViewer.processAllOutputAtOnce()"
   ]
  },
  {
   "cell_type": "markdown",
   "id": "b9d82a58",
   "metadata": {},
   "source": [
    "### Check that Constraints were met"
   ]
  },
  {
   "cell_type": "code",
   "execution_count": 5,
   "id": "c39f5646",
   "metadata": {},
   "outputs": [
    {
     "name": "stdout",
     "output_type": "stream",
     "text": [
      "Max Sum of Weights\t 1.0000000000000004\n",
      "Min Sum of Weights\t 0.9999999999999996\n",
      "\n",
      "Min investment in each stock\n",
      " Ticker\n",
      "NVDA     0.0\n",
      "MSFT     0.0\n",
      "AAPL     0.0\n",
      "AMZN     0.0\n",
      "META     0.0\n",
      "AVGO     0.0\n",
      "GOOGL    0.0\n",
      "GOOG     0.0\n",
      "TSLA     0.0\n",
      "JPM      0.0\n",
      "WMT      0.0\n",
      "V        0.0\n",
      "LLY      0.0\n",
      "ORCL     0.0\n",
      "MA       0.0\n",
      "NFLX     0.0\n",
      "XOM      0.0\n",
      "JNJ      0.0\n",
      "COST     0.0\n",
      "HD       0.0\n",
      "BAC      0.0\n",
      "dtype: float64\n",
      "\n",
      "Max investment in each stock\n",
      " Ticker\n",
      "NVDA     0.16\n",
      "MSFT     0.20\n",
      "AAPL     0.16\n",
      "AMZN     0.18\n",
      "META     0.17\n",
      "AVGO     0.20\n",
      "GOOGL    0.14\n",
      "GOOG     0.20\n",
      "TSLA     0.23\n",
      "JPM      0.15\n",
      "WMT      0.20\n",
      "V        0.22\n",
      "LLY      0.15\n",
      "ORCL     0.18\n",
      "MA       0.13\n",
      "NFLX     0.12\n",
      "XOM      0.16\n",
      "JNJ      0.09\n",
      "COST     0.21\n",
      "HD       0.20\n",
      "BAC      0.21\n",
      "dtype: float64\n"
     ]
    }
   ],
   "source": [
    "# Or view each individually\n",
    "simulationViewer.checkSumOfWeights()"
   ]
  },
  {
   "cell_type": "markdown",
   "id": "e3c46876",
   "metadata": {},
   "source": [
    "### View Variability across all Simulated Portfolios"
   ]
  },
  {
   "cell_type": "code",
   "execution_count": 6,
   "id": "99e28055",
   "metadata": {},
   "outputs": [],
   "source": [
    "# simulationViewer.plotPortfolioVarianceStats(figHeight=7, figWidth=5)"
   ]
  },
  {
   "cell_type": "markdown",
   "id": "d7bd3e6c",
   "metadata": {},
   "source": [
    "### Max. Sharpe and Min Risk Portfolios\n",
    "> These portfolios were identified across all simulated portfolios"
   ]
  },
  {
   "cell_type": "code",
   "execution_count": 7,
   "id": "e73b3831",
   "metadata": {},
   "outputs": [
    {
     "data": {
      "image/png": "[encoded data removed]",
      "text/plain": [
       "<Figure size 1600x900 with 1 Axes>"
      ]
     },
     "metadata": {},
     "output_type": "display_data"
    }
   ],
   "source": [
    "simulationViewer.plotOptimalVsNonOptSimulations()"
   ]
  },
  {
   "cell_type": "markdown",
   "id": "8a10fb2f",
   "metadata": {},
   "source": [
    "### Max. Sharpe and Min Risk Portfolios vs. Realized Returns of Investible Funds\n"
   ]
  },
  {
   "cell_type": "code",
   "execution_count": 8,
   "id": "514ec971",
   "metadata": {},
   "outputs": [
    {
     "data": {
      "image/png": "[encoded data removed]",
      "text/plain": [
       "<Figure size 1600x900 with 1 Axes>"
      ]
     },
     "metadata": {},
     "output_type": "display_data"
    }
   ],
   "source": [
    "simulationViewer.plotOptimalVsRealizedReturns()"
   ]
  },
  {
   "cell_type": "markdown",
   "id": "974b9abf",
   "metadata": {},
   "source": [
    "### Efficient Frontier: Display all Simulated Portfolios"
   ]
  },
  {
   "cell_type": "code",
   "execution_count": 9,
   "id": "9900939a",
   "metadata": {},
   "outputs": [
    {
     "data": {
      "application/vnd.plotly.v1+json": {
       "config": {
        "plotlyServerURL": "https://plot.ly"
       },
       "data": [
        {
         "customdata": [
          [
           "Simulation 0"
          ],
          [
           "Simulation 1"
          ],
          [
           "Simulation 2"
          ],
          [
           "Simulation 3"
          ],
          [
           "Simulation 4"
          ],
          [
           "Simulation 5"
          ],
          [
           "Simulation 6"
          ],
          [
           "Simulation 7"
          ],
          [
           "Simulation 8"
          ],
          [
           "Simulation 9"
          ],
          [
           "Simulation 10"
          ],
          [
           "Simulation 11"
          ],
          [
           "Simulation 12"
          ],
          [
           "Simulation 13"
          ],
          [
           "Simulation 14"
          ],
          [
           "Simulation 15"
          ],
          [
           "Simulation 16"
          ],
          [
           "Simulation 17"
          ],
          [
           "Simulation 18"
          ],
          [
           "Simulation 19"
          ],
          [
           "Simulation 20"
          ],
          [
           "Simulation 21"
          ],
          [
           "Simulation 22"
          ],
          [
           "Simulation 23"
          ],
          [
           "Simulation 24"
          ],
          [
           "Simulation 25"
          ],
          [
           "Simulation 26"
          ],
          [
           "Simulation 27"
          ],
          [
           "Simulation 28"
          ],
          [
           "Simulation 29"
          ],
          [
           "Simulation 30"
          ],
          [
           "Simulation 31"
          ],
          [
           "Simulation 32"
          ],
          [
           "Simulation 33"
          ],
          [
           "Simulation 34"
          ],
          [
           "Simulation 35"
          ],
          [
           "Simulation 36"
          ],
          [
           "Simulation 37"
          ],
          [
           "Simulation 38"
          ],
          [
           "Simulation 39"
          ],
          [
           "Simulation 40"
          ],
          [
           "Simulation 41"
          ],
          [
           "Simulation 42"
          ],
          [
           "Simulation 43"
          ],
          [
           "Simulation 44"
          ],
          [
           "Simulation 45"
          ],
          [
           "Simulation 46"
          ],
          [
           "Simulation 47"
          ],
          [
           "Simulation 48"
          ],
          [
           "Simulation 49"
          ],
          [
           "Simulation 50"
          ],
          [
           "Simulation 51"
          ],
          [
           "Simulation 52"
          ],
          [
           "Simulation 53"
          ],
          [
           "Simulation 54"
          ],
          [
           "Simulation 55"
          ],
          [
           "Simulation 56"
          ],
          [
           "Simulation 57"
          ],
          [
           "Simulation 58"
          ],
          [
           "Simulation 59"
          ],
          [
           "Simulation 60"
          ],
          [
           "Simulation 61"
          ],
          [
           "Simulation 62"
          ],
          [
           "Simulation 63"
          ],
          [
           "Simulation 64"
          ],
          [
           "Simulation 65"
          ],
          [
           "Simulation 66"
          ],
          [
           "Simulation 67"
          ],
          [
           "Simulation 68"
          ],
          [
           "Simulation 69"
          ],
          [
           "Simulation 70"
          ],
          [
           "Simulation 71"
          ],
          [
           "Simulation 72"
          ],
          [
           "Simulation 73"
          ],
          [
           "Simulation 74"
          ],
          [
           "Simulation 75"
          ],
          [
           "Simulation 76"
          ],
          [
           "Simulation 77"
          ],
          [
           "Simulation 78"
          ],
          [
           "Simulation 79"
          ],
          [
           "Simulation 80"
          ],
          [
           "Simulation 81"
          ],
          [
           "Simulation 82"
          ],
          [
           "Simulation 83"
          ],
          [
           "Simulation 84"
          ],
          [
           "Simulation 85"
          ],
          [
           "Simulation 86"
          ],
          [
           "Simulation 87"
          ],
          [
           "Simulation 88"
          ],
          [
           "Simulation 89"
          ],
          [
           "Simulation 90"
          ],
          [
           "Simulation 91"
          ],
          [
           "Simulation 92"
          ],
          [
           "Simulation 93"
          ],
          [
           "Simulation 94"
          ],
          [
           "Simulation 95"
          ],
          [
           "Simulation 96"
          ],
          [
           "Simulation 97"
          ],
          [
           "Simulation 98"
          ],
          [
           "Simulation 99"
          ],
          [
           "Simulation 100"
          ],
          [
           "Simulation 101"
          ],
          [
           "Simulation 102"
          ],
          [
           "Simulation 103"
          ],
          [
           "Simulation 104"
          ],
          [
           "Simulation 105"
          ],
          [
           "Simulation 106"
          ],
          [
           "Simulation 107"
          ],
          [
           "Simulation 108"
          ],
          [
           "Simulation 109"
          ],
          [
           "Simulation 110"
          ],
          [
           "Simulation 111"
          ],
          [
           "Simulation 112"
          ],
          [
           "Simulation 113"
          ],
          [
           "Simulation 114"
          ],
          [
           "Simulation 115"
          ],
          [
           "Simulation 116"
          ],
          [
           "Simulation 117"
          ],
          [
           "Simulation 118"
          ],
          [
           "Simulation 119"
          ],
          [
           "Simulation 120"
          ],
          [
           "Simulation 121"
          ],
          [
           "Simulation 122"
          ],
          [
           "Simulation 123"
          ],
          [
           "Simulation 124"
          ],
          [
           "Simulation 125"
          ],
          [
           "Simulation 126"
          ],
          [
           "Simulation 127"
          ],
          [
           "Simulation 128"
          ],
          [
           "Simulation 129"
          ],
          [
           "Simulation 130"
          ],
          [
           "Simulation 131"
          ],
          [
           "Simulation 132"
          ],
          [
           "Simulation 133"
          ],
          [
           "Simulation 134"
          ],
          [
           "Simulation 135"
          ],
          [
           "Simulation 136"
          ],
          [
           "Simulation 137"
          ],
          [
           "Simulation 138"
          ],
          [
           "Simulation 139"
          ],
          [
           "Simulation 140"
          ],
          [
           "Simulation 141"
          ],
          [
           "Simulation 142"
          ],
          [
           "Simulation 143"
          ],
          [
           "Simulation 144"
          ],
          [
           "Simulation 145"
          ],
          [
           "Simulation 146"
          ],
          [
           "Simulation 147"
          ],
          [
           "Simulation 148"
          ],
          [
           "Simulation 149"
          ],
          [
           "Simulation 150"
          ],
          [
           "Simulation 151"
          ],
          [
           "Simulation 152"
          ],
          [
           "Simulation 153"
          ],
          [
           "Simulation 154"
          ],
          [
           "Simulation 155"
          ],
          [
           "Simulation 156"
          ],
          [
           "Simulation 157"
          ],
          [
           "Simulation 158"
          ],
          [
           "Simulation 159"
          ],
          [
           "Simulation 160"
          ],
          [
           "Simulation 161"
          ],
          [
           "Simulation 162"
          ],
          [
           "Simulation 163"
          ],
          [
           "Simulation 164"
          ],
          [
           "Simulation 165"
          ],
          [
           "Simulation 166"
          ],
          [
           "Simulation 167"
          ],
          [
           "Simulation 168"
          ],
          [
           "Simulation 169"
          ],
          [
           "Simulation 170"
          ],
          [
           "Simulation 171"
          ],
          [
           "Simulation 172"
          ],
          [
           "Simulation 173"
          ],
          [
           "Simulation 174"
          ],
          [
           "Simulation 175"
          ],
          [
           "Simulation 176"
          ],
          [
           "Simulation 177"
          ],
          [
           "Simulation 178"
          ],
          [
           "Simulation 179"
          ],
          [
           "Simulation 180"
          ],
          [
           "Simulation 181"
          ],
          [
           "Simulation 182"
          ],
          [
           "Simulation 183"
          ],
          [
           "Simulation 184"
          ],
          [
           "Simulation 185"
          ],
          [
           "Simulation 186"
          ],
          [
           "Simulation 187"
          ],
          [
           "Simulation 188"
          ],
          [
           "Simulation 189"
          ],
          [
           "Simulation 190"
          ],
          [
           "Simulation 191"
          ],
          [
           "Simulation 192"
          ],
          [
           "Simulation 193"
          ],
          [
           "Simulation 194"
          ],
          [
           "Simulation 195"
          ],
          [
           "Simulation 196"
          ],
          [
           "Simulation 197"
          ],
          [
           "Simulation 198"
          ],
          [
           "Simulation 199"
          ],
          [
           "Simulation 200"
          ],
          [
           "Simulation 201"
          ],
          [
           "Simulation 202"
          ],
          [
           "Simulation 203"
          ],
          [
           "Simulation 204"
          ],
          [
           "Simulation 205"
          ],
          [
           "Simulation 206"
          ],
          [
           "Simulation 207"
          ],
          [
           "Simulation 208"
          ],
          [
           "Simulation 209"
          ],
          [
           "Simulation 210"
          ],
          [
           "Simulation 211"
          ],
          [
           "Simulation 212"
          ],
          [
           "Simulation 213"
          ],
          [
           "Simulation 214"
          ],
          [
           "Simulation 215"
          ],
          [
           "Simulation 216"
          ],
          [
           "Simulation 217"
          ],
          [
           "Simulation 218"
          ],
          [
           "Simulation 219"
          ],
          [
           "Simulation 220"
          ],
          [
           "Simulation 221"
          ],
          [
           "Simulation 222"
          ],
          [
           "Simulation 223"
          ],
          [
           "Simulation 224"
          ],
          [
           "Simulation 225"
          ],
          [
           "Simulation 226"
          ],
          [
           "Simulation 227"
          ],
          [
           "Simulation 228"
          ],
          [
           "Simulation 229"
          ],
          [
           "Simulation 230"
          ],
          [
           "Simulation 231"
          ],
          [
           "Simulation 232"
          ],
          [
           "Simulation 233"
          ],
          [
           "Simulation 234"
          ],
          [
           "Simulation 235"
          ],
          [
           "Simulation 236"
          ],
          [
           "Simulation 237"
          ],
          [
           "Simulation 238"
          ],
          [
           "Simulation 239"
          ],
          [
           "Simulation 240"
          ],
          [
           "Simulation 241"
          ],
          [
           "Simulation 242"
          ],
          [
           "Simulation 243"
          ],
          [
           "Simulation 244"
          ],
          [
           "Simulation 245"
          ],
          [
           "Simulation 246"
          ],
          [
           "Simulation 247"
          ],
          [
           "Simulation 248"
          ],
          [
           "Simulation 249"
          ],
          [
           "Simulation 250"
          ],
          [
           "Simulation 251"
          ],
          [
           "Simulation 252"
          ],
          [
           "Simulation 253"
          ],
          [
           "Simulation 254"
          ],
          [
           "Simulation 255"
          ],
          [
           "Simulation 256"
          ],
          [
           "Simulation 257"
          ],
          [
           "Simulation 258"
          ],
          [
           "Simulation 259"
          ],
          [
           "Simulation 260"
          ],
          [
           "Simulation 261"
          ],
          [
           "Simulation 262"
          ],
          [
           "Simulation 263"
          ],
          [
           "Simulation 264"
          ],
          [
           "Simulation 265"
          ],
          [
           "Simulation 266"
          ],
          [
           "Simulation 267"
          ],
          [
           "Simulation 268"
          ],
          [
           "Simulation 269"
          ],
          [
           "Simulation 270"
          ],
          [
           "Simulation 271"
          ],
          [
           "Simulation 272"
          ],
          [
           "Simulation 273"
          ],
          [
           "Simulation 274"
          ],
          [
           "Simulation 275"
          ],
          [
           "Simulation 276"
          ],
          [
           "Simulation 277"
          ],
          [
           "Simulation 278"
          ],
          [
           "Simulation 279"
          ],
          [
           "Simulation 280"
          ],
          [
           "Simulation 281"
          ],
          [
           "Simulation 282"
          ],
          [
           "Simulation 283"
          ],
          [
           "Simulation 284"
          ],
          [
           "Simulation 285"
          ],
          [
           "Simulation 286"
          ],
          [
           "Simulation 287"
          ],
          [
           "Simulation 288"
          ],
          [
           "Simulation 289"
          ],
          [
           "Simulation 290"
          ],
          [
           "Simulation 291"
          ],
          [
           "Simulation 292"
          ],
          [
           "Simulation 293"
          ],
          [
           "Simulation 294"
          ],
          [
           "Simulation 295"
          ],
          [
           "Simulation 296"
          ],
          [
           "Simulation 297"
          ],
          [
           "Simulation 298"
          ],
          [
           "Simulation 299"
          ],
          [
           "Simulation 300"
          ],
          [
           "Simulation 301"
          ],
          [
           "Simulation 302"
          ],
          [
           "Simulation 303"
          ],
          [
           "Simulation 304"
          ],
          [
           "Simulation 305"
          ],
          [
           "Simulation 306"
          ],
          [
           "Simulation 307"
          ],
          [
           "Simulation 308"
          ],
          [
           "Simulation 309"
          ],
          [
           "Simulation 310"
          ],
          [
           "Simulation 311"
          ],
          [
           "Simulation 312"
          ],
          [
           "Simulation 313"
          ],
          [
           "Simulation 314"
          ],
          [
           "Simulation 315"
          ],
          [
           "Simulation 316"
          ],
          [
           "Simulation 317"
          ],
          [
           "Simulation 318"
          ],
          [
           "Simulation 319"
          ],
          [
           "Simulation 320"
          ],
          [
           "Simulation 321"
          ],
          [
           "Simulation 322"
          ],
          [
           "Simulation 323"
          ],
          [
           "Simulation 324"
          ],
          [
           "Simulation 325"
          ],
          [
           "Simulation 326"
          ],
          [
           "Simulation 327"
          ],
          [
           "Simulation 328"
          ],
          [
           "Simulation 329"
          ],
          [
           "Simulation 330"
          ],
          [
           "Simulation 331"
          ],
          [
           "Simulation 332"
          ],
          [
           "Simulation 333"
          ],
          [
           "Simulation 334"
          ],
          [
           "Simulation 335"
          ],
          [
           "Simulation 336"
          ],
          [
           "Simulation 337"
          ],
          [
           "Simulation 338"
          ],
          [
           "Simulation 339"
          ],
          [
           "Simulation 340"
          ],
          [
           "Simulation 341"
          ],
          [
           "Simulation 342"
          ],
          [
           "Simulation 343"
          ],
          [
           "Simulation 344"
          ],
          [
           "Simulation 345"
          ],
          [
           "Simulation 346"
          ],
          [
           "Simulation 347"
          ],
          [
           "Simulation 348"
          ],
          [
           "Simulation 349"
          ],
          [
           "Simulation 350"
          ],
          [
           "Simulation 351"
          ],
          [
           "Simulation 352"
          ],
          [
           "Simulation 353"
          ],
          [
           "Simulation 354"
          ],
          [
           "Simulation 355"
          ],
          [
           "Simulation 356"
          ],
          [
           "Simulation 357"
          ],
          [
           "Simulation 358"
          ],
          [
           "Simulation 359"
          ],
          [
           "Simulation 360"
          ],
          [
           "Simulation 361"
          ],
          [
           "Simulation 362"
          ],
          [
           "Simulation 363"
          ],
          [
           "Simulation 364"
          ],
          [
           "Simulation 365"
          ],
          [
           "Simulation 366"
          ],
          [
           "Simulation 367"
          ],
          [
           "Simulation 368"
          ],
          [
           "Simulation 369"
          ],
          [
           "Simulation 370"
          ],
          [
           "Simulation 371"
          ],
          [
           "Simulation 372"
          ],
          [
           "Simulation 373"
          ],
          [
           "Simulation 374"
          ],
          [
           "Simulation 375"
          ],
          [
           "Simulation 376"
          ],
          [
           "Simulation 377"
          ],
          [
           "Simulation 378"
          ],
          [
           "Simulation 379"
          ],
          [
           "Simulation 380"
          ],
          [
           "Simulation 381"
          ],
          [
           "Simulation 382"
          ],
          [
           "Simulation 383"
          ],
          [
           "Simulation 384"
          ],
          [
           "Simulation 385"
          ],
          [
           "Simulation 386"
          ],
          [
           "Simulation 387"
          ],
          [
           "Simulation 388"
          ],
          [
           "Simulation 389"
          ],
          [
           "Simulation 390"
          ],
          [
           "Simulation 391"
          ],
          [
           "Simulation 392"
          ],
          [
           "Simulation 393"
          ],
          [
           "Simulation 394"
          ],
          [
           "Simulation 395"
          ],
          [
           "Simulation 396"
          ],
          [
           "Simulation 397"
          ],
          [
           "Simulation 398"
          ],
          [
           "Simulation 399"
          ],
          [
           "Simulation 400"
          ],
          [
           "Simulation 401"
          ],
          [
           "Simulation 402"
          ],
          [
           "Simulation 403"
          ],
          [
           "Simulation 404"
          ],
          [
           "Simulation 405"
          ],
          [
           "Simulation 406"
          ],
          [
           "Simulation 407"
          ],
          [
           "Simulation 408"
          ],
          [
           "Simulation 409"
          ],
          [
           "Simulation 410"
          ],
          [
           "Simulation 411"
          ],
          [
           "Simulation 412"
          ],
          [
           "Simulation 413"
          ],
          [
           "Simulation 414"
          ],
          [
           "Simulation 415"
          ],
          [
           "Simulation 416"
          ],
          [
           "Simulation 417"
          ],
          [
           "Simulation 418"
          ],
          [
           "Simulation 419"
          ],
          [
           "Simulation 420"
          ],
          [
           "Simulation 421"
          ],
          [
           "Simulation 422"
          ],
          [
           "Simulation 423"
          ],
          [
           "Simulation 424"
          ],
          [
           "Simulation 425"
          ],
          [
           "Simulation 426"
          ],
          [
           "Simulation 427"
          ],
          [
           "Simulation 428"
          ],
          [
           "Simulation 429"
          ],
          [
           "Simulation 430"
          ],
          [
           "Simulation 431"
          ],
          [
           "Simulation 432"
          ],
          [
           "Simulation 433"
          ],
          [
           "Simulation 434"
          ],
          [
           "Simulation 435"
          ],
          [
           "Simulation 436"
          ],
          [
           "Simulation 437"
          ],
          [
           "Simulation 438"
          ],
          [
           "Simulation 439"
          ],
          [
           "Simulation 440"
          ],
          [
           "Simulation 441"
          ],
          [
           "Simulation 442"
          ],
          [
           "Simulation 443"
          ],
          [
           "Simulation 444"
          ],
          [
           "Simulation 445"
          ],
          [
           "Simulation 446"
          ],
          [
           "Simulation 447"
          ],
          [
           "Simulation 448"
          ],
          [
           "Simulation 449"
          ],
          [
           "Simulation 450"
          ],
          [
           "Simulation 451"
          ],
          [
           "Simulation 452"
          ],
          [
           "Simulation 453"
          ],
          [
           "Simulation 454"
          ],
          [
           "Simulation 455"
          ],
          [
           "Simulation 456"
          ],
          [
           "Simulation 457"
          ],
          [
           "Simulation 458"
          ],
          [
           "Simulation 459"
          ],
          [
           "Simulation 460"
          ],
          [
           "Simulation 461"
          ],
          [
           "Simulation 462"
          ],
          [
           "Simulation 463"
          ],
          [
           "Simulation 464"
          ],
          [
           "Simulation 465"
          ],
          [
           "Simulation 466"
          ],
          [
           "Simulation 467"
          ],
          [
           "Simulation 468"
          ],
          [
           "Simulation 469"
          ],
          [
           "Simulation 470"
          ],
          [
           "Simulation 471"
          ],
          [
           "Simulation 472"
          ],
          [
           "Simulation 473"
          ],
          [
           "Simulation 474"
          ],
          [
           "Simulation 475"
          ],
          [
           "Simulation 476"
          ],
          [
           "Simulation 477"
          ],
          [
           "Simulation 478"
          ],
          [
           "Simulation 479"
          ],
          [
           "Simulation 480"
          ],
          [
           "Simulation 481"
          ],
          [
           "Simulation 482"
          ],
          [
           "Simulation 483"
          ],
          [
           "Simulation 484"
          ],
          [
           "Simulation 485"
          ],
          [
           "Simulation 486"
          ],
          [
           "Simulation 487"
          ],
          [
           "Simulation 488"
          ],
          [
           "Simulation 489"
          ],
          [
           "Simulation 490"
          ],
          [
           "Simulation 491"
          ],
          [
           "Simulation 492"
          ],
          [
           "Simulation 493"
          ],
          [
           "Simulation 494"
          ],
          [
           "Simulation 495"
          ],
          [
           "Simulation 496"
          ],
          [
           "Simulation 497"
          ],
          [
           "Simulation 498"
          ],
          [
           "Simulation 499"
          ],
          [
           "Simulation 500"
          ],
          [
           "Simulation 501"
          ],
          [
           "Simulation 502"
          ],
          [
           "Simulation 503"
          ],
          [
           "Simulation 504"
          ],
          [
           "Simulation 505"
          ],
          [
           "Simulation 506"
          ],
          [
           "Simulation 507"
          ],
          [
           "Simulation 508"
          ],
          [
           "Simulation 509"
          ],
          [
           "Simulation 510"
          ],
          [
           "Simulation 511"
          ],
          [
           "Simulation 512"
          ],
          [
           "Simulation 513"
          ],
          [
           "Simulation 514"
          ],
          [
           "Simulation 515"
          ],
          [
           "Simulation 516"
          ],
          [
           "Simulation 517"
          ],
          [
           "Simulation 518"
          ],
          [
           "Simulation 519"
          ],
          [
           "Simulation 520"
          ],
          [
           "Simulation 521"
          ],
          [
           "Simulation 522"
          ],
          [
           "Simulation 523"
          ],
          [
           "Simulation 524"
          ],
          [
           "Simulation 525"
          ],
          [
           "Simulation 526"
          ],
          [
           "Simulation 527"
          ],
          [
           "Simulation 528"
          ],
          [
           "Simulation 529"
          ],
          [
           "Simulation 530"
          ],
          [
           "Simulation 531"
          ],
          [
           "Simulation 532"
          ],
          [
           "Simulation 533"
          ],
          [
           "Simulation 534"
          ],
          [
           "Simulation 535"
          ],
          [
           "Simulation 536"
          ],
          [
           "Simulation 537"
          ],
          [
           "Simulation 538"
          ],
          [
           "Simulation 539"
          ],
          [
           "Simulation 540"
          ],
          [
           "Simulation 541"
          ],
          [
           "Simulation 542"
          ],
          [
           "Simulation 543"
          ],
          [
           "Simulation 544"
          ],
          [
           "Simulation 545"
          ],
          [
           "Simulation 546"
          ],
          [
           "Simulation 547"
          ],
          [
           "Simulation 548"
          ],
          [
           "Simulation 549"
          ],
          [
           "Simulation 550"
          ],
          [
           "Simulation 551"
          ],
          [
           "Simulation 552"
          ],
          [
           "Simulation 553"
          ],
          [
           "Simulation 554"
          ],
          [
           "Simulation 555"
          ],
          [
           "Simulation 556"
          ],
          [
           "Simulation 557"
          ],
          [
           "Simulation 558"
          ],
          [
           "Simulation 559"
          ],
          [
           "Simulation 560"
          ],
          [
           "Simulation 561"
          ],
          [
           "Simulation 562"
          ],
          [
           "Simulation 563"
          ],
          [
           "Simulation 564"
          ],
          [
           "Simulation 565"
          ],
          [
           "Simulation 566"
          ],
          [
           "Simulation 567"
          ],
          [
           "Simulation 568"
          ],
          [
           "Simulation 569"
          ],
          [
           "Simulation 570"
          ],
          [
           "Simulation 571"
          ],
          [
           "Simulation 572"
          ],
          [
           "Simulation 573"
          ],
          [
           "Simulation 574"
          ],
          [
           "Simulation 575"
          ],
          [
           "Simulation 576"
          ],
          [
           "Simulation 577"
          ],
          [
           "Simulation 578"
          ],
          [
           "Simulation 579"
          ],
          [
           "Simulation 580"
          ],
          [
           "Simulation 581"
          ],
          [
           "Simulation 582"
          ],
          [
           "Simulation 583"
          ],
          [
           "Simulation 584"
          ],
          [
           "Simulation 585"
          ],
          [
           "Simulation 586"
          ],
          [
           "Simulation 587"
          ],
          [
           "Simulation 588"
          ],
          [
           "Simulation 589"
          ],
          [
           "Simulation 590"
          ],
          [
           "Simulation 591"
          ],
          [
           "Simulation 592"
          ],
          [
           "Simulation 593"
          ],
          [
           "Simulation 594"
          ],
          [
           "Simulation 595"
          ],
          [
           "Simulation 596"
          ],
          [
           "Simulation 597"
          ],
          [
           "Simulation 598"
          ],
          [
           "Simulation 599"
          ],
          [
           "Simulation 600"
          ],
          [
           "Simulation 601"
          ],
          [
           "Simulation 602"
          ],
          [
           "Simulation 603"
          ],
          [
           "Simulation 604"
          ],
          [
           "Simulation 605"
          ],
          [
           "Simulation 606"
          ],
          [
           "Simulation 607"
          ],
          [
           "Simulation 608"
          ],
          [
           "Simulation 609"
          ],
          [
           "Simulation 610"
          ],
          [
           "Simulation 611"
          ],
          [
           "Simulation 612"
          ],
          [
           "Simulation 613"
          ],
          [
           "Simulation 614"
          ],
          [
           "Simulation 615"
          ],
          [
           "Simulation 616"
          ],
          [
           "Simulation 617"
          ],
          [
           "Simulation 618"
          ],
          [
           "Simulation 619"
          ],
          [
           "Simulation 620"
          ],
          [
           "Simulation 621"
          ],
          [
           "Simulation 622"
          ],
          [
           "Simulation 623"
          ],
          [
           "Simulation 624"
          ],
          [
           "Simulation 625"
          ],
          [
           "Simulation 626"
          ],
          [
           "Simulation 627"
          ],
          [
           "Simulation 628"
          ],
          [
           "Simulation 629"
          ],
          [
           "Simulation 630"
          ],
          [
           "Simulation 631"
          ],
          [
           "Simulation 632"
          ],
          [
           "Simulation 633"
          ],
          [
           "Simulation 634"
          ],
          [
           "Simulation 635"
          ],
          [
           "Simulation 636"
          ],
          [
           "Simulation 637"
          ],
          [
           "Simulation 638"
          ],
          [
           "Simulation 639"
          ],
          [
           "Simulation 640"
          ],
          [
           "Simulation 641"
          ],
          [
           "Simulation 642"
          ],
          [
           "Simulation 643"
          ],
          [
           "Simulation 644"
          ],
          [
           "Simulation 645"
          ],
          [
           "Simulation 646"
          ],
          [
           "Simulation 647"
          ],
          [
           "Simulation 648"
          ],
          [
           "Simulation 649"
          ],
          [
           "Simulation 650"
          ],
          [
           "Simulation 651"
          ],
          [
           "Simulation 652"
          ],
          [
           "Simulation 653"
          ],
          [
           "Simulation 654"
          ],
          [
           "Simulation 655"
          ],
          [
           "Simulation 656"
          ],
          [
           "Simulation 657"
          ],
          [
           "Simulation 658"
          ],
          [
           "Simulation 659"
          ],
          [
           "Simulation 660"
          ],
          [
           "Simulation 661"
          ],
          [
           "Simulation 662"
          ],
          [
           "Simulation 663"
          ],
          [
           "Simulation 664"
          ],
          [
           "Simulation 665"
          ],
          [
           "Simulation 666"
          ],
          [
           "Simulation 667"
          ],
          [
           "Simulation 668"
          ],
          [
           "Simulation 669"
          ],
          [
           "Simulation 670"
          ],
          [
           "Simulation 671"
          ],
          [
           "Simulation 672"
          ],
          [
           "Simulation 673"
          ],
          [
           "Simulation 674"
          ],
          [
           "Simulation 675"
          ],
          [
           "Simulation 676"
          ],
          [
           "Simulation 677"
          ],
          [
           "Simulation 678"
          ],
          [
           "Simulation 679"
          ],
          [
           "Simulation 680"
          ],
          [
           "Simulation 681"
          ],
          [
           "Simulation 682"
          ],
          [
           "Simulation 683"
          ],
          [
           "Simulation 684"
          ],
          [
           "Simulation 685"
          ],
          [
           "Simulation 686"
          ],
          [
           "Simulation 687"
          ],
          [
           "Simulation 688"
          ],
          [
           "Simulation 689"
          ],
          [
           "Simulation 690"
          ],
          [
           "Simulation 691"
          ],
          [
           "Simulation 692"
          ],
          [
           "Simulation 693"
          ],
          [
           "Simulation 694"
          ],
          [
           "Simulation 695"
          ],
          [
           "Simulation 696"
          ],
          [
           "Simulation 697"
          ],
          [
           "Simulation 698"
          ],
          [
           "Simulation 699"
          ],
          [
           "Simulation 700"
          ],
          [
           "Simulation 701"
          ],
          [
           "Simulation 702"
          ],
          [
           "Simulation 703"
          ],
          [
           "Simulation 704"
          ],
          [
           "Simulation 705"
          ],
          [
           "Simulation 706"
          ],
          [
           "Simulation 707"
          ],
          [
           "Simulation 708"
          ],
          [
           "Simulation 709"
          ],
          [
           "Simulation 710"
          ],
          [
           "Simulation 711"
          ],
          [
           "Simulation 712"
          ],
          [
           "Simulation 713"
          ],
          [
           "Simulation 714"
          ],
          [
           "Simulation 715"
          ],
          [
           "Simulation 716"
          ],
          [
           "Simulation 717"
          ],
          [
           "Simulation 718"
          ],
          [
           "Simulation 719"
          ],
          [
           "Simulation 720"
          ],
          [
           "Simulation 721"
          ],
          [
           "Simulation 722"
          ],
          [
           "Simulation 723"
          ],
          [
           "Simulation 724"
          ],
          [
           "Simulation 725"
          ],
          [
           "Simulation 726"
          ],
          [
           "Simulation 727"
          ],
          [
           "Simulation 728"
          ],
          [
           "Simulation 729"
          ],
          [
           "Simulation 730"
          ],
          [
           "Simulation 731"
          ],
          [
           "Simulation 732"
          ],
          [
           "Simulation 733"
          ],
          [
           "Simulation 734"
          ],
          [
           "Simulation 735"
          ],
          [
           "Simulation 736"
          ],
          [
           "Simulation 737"
          ],
          [
           "Simulation 738"
          ],
          [
           "Simulation 739"
          ],
          [
           "Simulation 740"
          ],
          [
           "Simulation 741"
          ],
          [
           "Simulation 742"
          ],
          [
           "Simulation 743"
          ],
          [
           "Simulation 744"
          ],
          [
           "Simulation 745"
          ],
          [
           "Simulation 746"
          ],
          [
           "Simulation 747"
          ],
          [
           "Simulation 748"
          ],
          [
           "Simulation 749"
          ],
          [
           "Simulation 750"
          ],
          [
           "Simulation 751"
          ],
          [
           "Simulation 752"
          ],
          [
           "Simulation 753"
          ],
          [
           "Simulation 754"
          ],
          [
           "Simulation 755"
          ],
          [
           "Simulation 756"
          ],
          [
           "Simulation 757"
          ],
          [
           "Simulation 758"
          ],
          [
           "Simulation 759"
          ],
          [
           "Simulation 760"
          ],
          [
           "Simulation 761"
          ],
          [
           "Simulation 762"
          ],
          [
           "Simulation 763"
          ],
          [
           "Simulation 764"
          ],
          [
           "Simulation 765"
          ],
          [
           "Simulation 766"
          ],
          [
           "Simulation 767"
          ],
          [
           "Simulation 768"
          ],
          [
           "Simulation 769"
          ],
          [
           "Simulation 770"
          ],
          [
           "Simulation 771"
          ],
          [
           "Simulation 772"
          ],
          [
           "Simulation 773"
          ],
          [
           "Simulation 774"
          ],
          [
           "Simulation 775"
          ],
          [
           "Simulation 776"
          ],
          [
           "Simulation 777"
          ],
          [
           "Simulation 778"
          ],
          [
           "Simulation 779"
          ],
          [
           "Simulation 780"
          ],
          [
           "Simulation 781"
          ],
          [
           "Simulation 782"
          ],
          [
           "Simulation 783"
          ],
          [
           "Simulation 784"
          ],
          [
           "Simulation 785"
          ],
          [
           "Simulation 786"
          ],
          [
           "Simulation 787"
          ],
          [
           "Simulation 788"
          ],
          [
           "Simulation 789"
          ],
          [
           "Simulation 790"
          ],
          [
           "Simulation 791"
          ],
          [
           "Simulation 792"
          ],
          [
           "Simulation 793"
          ],
          [
           "Simulation 794"
          ],
          [
           "Simulation 795"
          ],
          [
           "Simulation 796"
          ],
          [
           "Simulation 797"
          ],
          [
           "Simulation 798"
          ],
          [
           "Simulation 799"
          ],
          [
           "Simulation 800"
          ],
          [
           "Simulation 801"
          ],
          [
           "Simulation 802"
          ],
          [
           "Simulation 803"
          ],
          [
           "Simulation 804"
          ],
          [
           "Simulation 805"
          ],
          [
           "Simulation 806"
          ],
          [
           "Simulation 807"
          ],
          [
           "Simulation 808"
          ],
          [
           "Simulation 809"
          ],
          [
           "Simulation 810"
          ],
          [
           "Simulation 811"
          ],
          [
           "Simulation 812"
          ],
          [
           "Simulation 813"
          ],
          [
           "Simulation 814"
          ],
          [
           "Simulation 815"
          ],
          [
           "Simulation 816"
          ],
          [
           "Simulation 817"
          ],
          [
           "Simulation 818"
          ],
          [
           "Simulation 819"
          ],
          [
           "Simulation 820"
          ],
          [
           "Simulation 821"
          ],
          [
           "Simulation 822"
          ],
          [
           "Simulation 823"
          ],
          [
           "Simulation 824"
          ],
          [
           "Simulation 825"
          ],
          [
           "Simulation 826"
          ],
          [
           "Simulation 827"
          ],
          [
           "Simulation 828"
          ],
          [
           "Simulation 829"
          ],
          [
           "Simulation 830"
          ],
          [
           "Simulation 831"
          ],
          [
           "Simulation 832"
          ],
          [
           "Simulation 833"
          ],
          [
           "Simulation 834"
          ],
          [
           "Simulation 835"
          ],
          [
           "Simulation 836"
          ],
          [
           "Simulation 837"
          ],
          [
           "Simulation 838"
          ],
          [
           "Simulation 839"
          ],
          [
           "Simulation 840"
          ],
          [
           "Simulation 841"
          ],
          [
           "Simulation 842"
          ],
          [
           "Simulation 843"
          ],
          [
           "Simulation 844"
          ],
          [
           "Simulation 845"
          ],
          [
           "Simulation 846"
          ],
          [
           "Simulation 847"
          ],
          [
           "Simulation 848"
          ],
          [
           "Simulation 849"
          ],
          [
           "Simulation 850"
          ],
          [
           "Simulation 851"
          ],
          [
           "Simulation 852"
          ],
          [
           "Simulation 853"
          ],
          [
           "Simulation 854"
          ],
          [
           "Simulation 855"
          ],
          [
           "Simulation 856"
          ],
          [
           "Simulation 857"
          ],
          [
           "Simulation 858"
          ],
          [
           "Simulation 859"
          ],
          [
           "Simulation 860"
          ],
          [
           "Simulation 861"
          ],
          [
           "Simulation 862"
          ],
          [
           "Simulation 863"
          ],
          [
           "Simulation 864"
          ],
          [
           "Simulation 865"
          ],
          [
           "Simulation 866"
          ],
          [
           "Simulation 867"
          ],
          [
           "Simulation 868"
          ],
          [
           "Simulation 869"
          ],
          [
           "Simulation 870"
          ],
          [
           "Simulation 871"
          ],
          [
           "Simulation 872"
          ],
          [
           "Simulation 873"
          ],
          [
           "Simulation 874"
          ],
          [
           "Simulation 875"
          ],
          [
           "Simulation 876"
          ],
          [
           "Simulation 877"
          ],
          [
           "Simulation 878"
          ],
          [
           "Simulation 879"
          ],
          [
           "Simulation 880"
          ],
          [
           "Simulation 881"
          ],
          [
           "Simulation 882"
          ],
          [
           "Simulation 883"
          ],
          [
           "Simulation 884"
          ],
          [
           "Simulation 885"
          ],
          [
           "Simulation 886"
          ],
          [
           "Simulation 887"
          ],
          [
           "Simulation 888"
          ],
          [
           "Simulation 889"
          ],
          [
           "Simulation 890"
          ],
          [
           "Simulation 891"
          ],
          [
           "Simulation 892"
          ],
          [
           "Simulation 893"
          ],
          [
           "Simulation 894"
          ],
          [
           "Simulation 895"
          ],
          [
           "Simulation 896"
          ],
          [
           "Simulation 897"
          ],
          [
           "Simulation 898"
          ],
          [
           "Simulation 899"
          ],
          [
           "Simulation 900"
          ],
          [
           "Simulation 901"
          ],
          [
           "Simulation 902"
          ],
          [
           "Simulation 903"
          ],
          [
           "Simulation 904"
          ],
          [
           "Simulation 905"
          ],
          [
           "Simulation 906"
          ],
          [
           "Simulation 907"
          ],
          [
           "Simulation 908"
          ],
          [
           "Simulation 909"
          ],
          [
           "Simulation 910"
          ],
          [
           "Simulation 911"
          ],
          [
           "Simulation 912"
          ],
          [
           "Simulation 913"
          ],
          [
           "Simulation 914"
          ],
          [
           "Simulation 915"
          ],
          [
           "Simulation 916"
          ],
          [
           "Simulation 917"
          ],
          [
           "Simulation 918"
          ],
          [
           "Simulation 919"
          ],
          [
           "Simulation 920"
          ],
          [
           "Simulation 921"
          ],
          [
           "Simulation 922"
          ],
          [
           "Simulation 923"
          ],
          [
           "Simulation 924"
          ],
          [
           "Simulation 925"
          ],
          [
           "Simulation 926"
          ],
          [
           "Simulation 927"
          ],
          [
           "Simulation 928"
          ],
          [
           "Simulation 929"
          ],
          [
           "Simulation 930"
          ],
          [
           "Simulation 931"
          ],
          [
           "Simulation 932"
          ],
          [
           "Simulation 933"
          ],
          [
           "Simulation 934"
          ],
          [
           "Simulation 935"
          ],
          [
           "Simulation 936"
          ],
          [
           "Simulation 937"
          ],
          [
           "Simulation 938"
          ],
          [
           "Simulation 939"
          ],
          [
           "Simulation 940"
          ],
          [
           "Simulation 941"
          ],
          [
           "Simulation 942"
          ],
          [
           "Simulation 943"
          ],
          [
           "Simulation 944"
          ],
          [
           "Simulation 945"
          ],
          [
           "Simulation 946"
          ],
          [
           "Simulation 947"
          ],
          [
           "Simulation 948"
          ],
          [
           "Simulation 949"
          ],
          [
           "Simulation 950"
          ],
          [
           "Simulation 951"
          ],
          [
           "Simulation 952"
          ],
          [
           "Simulation 953"
          ],
          [
           "Simulation 954"
          ],
          [
           "Simulation 955"
          ],
          [
           "Simulation 956"
          ],
          [
           "Simulation 957"
          ],
          [
           "Simulation 958"
          ],
          [
           "Simulation 959"
          ],
          [
           "Simulation 960"
          ],
          [
           "Simulation 961"
          ],
          [
           "Simulation 962"
          ],
          [
           "Simulation 963"
          ],
          [
           "Simulation 964"
          ],
          [
           "Simulation 965"
          ],
          [
           "Simulation 966"
          ],
          [
           "Simulation 967"
          ],
          [
           "Simulation 968"
          ],
          [
           "Simulation 969"
          ],
          [
           "Simulation 970"
          ],
          [
           "Simulation 971"
          ],
          [
           "Simulation 972"
          ],
          [
           "Simulation 973"
          ],
          [
           "Simulation 974"
          ],
          [
           "Simulation 975"
          ],
          [
           "Simulation 976"
          ],
          [
           "Simulation 977"
          ],
          [
           "Simulation 978"
          ],
          [
           "Simulation 979"
          ],
          [
           "Simulation 980"
          ],
          [
           "Simulation 981"
          ],
          [
           "Simulation 982"
          ],
          [
           "Simulation 983"
          ],
          [
           "Simulation 984"
          ],
          [
           "Simulation 985"
          ],
          [
           "Simulation 986"
          ],
          [
           "Simulation 987"
          ],
          [
           "Simulation 988"
          ],
          [
           "Simulation 989"
          ],
          [
           "Simulation 990"
          ],
          [
           "Simulation 991"
          ],
          [
           "Simulation 992"
          ],
          [
           "Simulation 993"
          ],
          [
           "Simulation 994"
          ],
          [
           "Simulation 995"
          ],
          [
           "Simulation 996"
          ],
          [
           "Simulation 997"
          ],
          [
           "Simulation 998"
          ],
          [
           "Simulation 999"
          ],
          [
           "Simulation 1000"
          ],
          [
           "Simulation 1001"
          ],
          [
           "Simulation 1002"
          ],
          [
           "Simulation 1003"
          ],
          [
           "Simulation 1004"
          ],
          [
           "Simulation 1005"
          ],
          [
           "Simulation 1006"
          ],
          [
           "Simulation 1007"
          ],
          [
           "Simulation 1008"
          ],
          [
           "Simulation 1009"
          ],
          [
           "Simulation 1010"
          ],
          [
           "Simulation 1011"
          ],
          [
           "Simulation 1012"
          ],
          [
           "Simulation 1013"
          ],
          [
           "Simulation 1014"
          ],
          [
           "Simulation 1015"
          ],
          [
           "Simulation 1016"
          ],
          [
           "Simulation 1017"
          ],
          [
           "Simulation 1018"
          ],
          [
           "Simulation 1019"
          ],
          [
           "Simulation 1020"
          ],
          [
           "Simulation 1021"
          ],
          [
           "Simulation 1022"
          ],
          [
           "Simulation 1023"
          ],
          [
           "Simulation 1024"
          ],
          [
           "Simulation 1025"
          ],
          [
           "Simulation 1026"
          ],
          [
           "Simulation 1027"
          ],
          [
           "Simulation 1028"
          ],
          [
           "Simulation 1029"
          ],
          [
           "Simulation 1030"
          ],
          [
           "Simulation 1031"
          ],
          [
           "Simulation 1032"
          ],
          [
           "Simulation 1033"
          ],
          [
           "Simulation 1034"
          ],
          [
           "Simulation 1035"
          ],
          [
           "Simulation 1036"
          ],
          [
           "Simulation 1037"
          ],
          [
           "Simulation 1038"
          ],
          [
           "Simulation 1039"
          ],
          [
           "Simulation 1040"
          ],
          [
           "Simulation 1041"
          ],
          [
           "Simulation 1042"
          ],
          [
           "Simulation 1043"
          ],
          [
           "Simulation 1044"
          ],
          [
           "Simulation 1045"
          ],
          [
           "Simulation 1046"
          ],
          [
           "Simulation 1047"
          ],
          [
           "Simulation 1048"
          ],
          [
           "Simulation 1049"
          ],
          [
           "Simulation 1050"
          ],
          [
           "Simulation 1051"
          ],
          [
           "Simulation 1052"
          ],
          [
           "Simulation 1053"
          ],
          [
           "Simulation 1054"
          ],
          [
           "Simulation 1055"
          ],
          [
           "Simulation 1056"
          ],
          [
           "Simulation 1057"
          ],
          [
           "Simulation 1058"
          ],
          [
           "Simulation 1059"
          ],
          [
           "Simulation 1060"
          ],
          [
           "Simulation 1061"
          ],
          [
           "Simulation 1062"
          ],
          [
           "Simulation 1063"
          ],
          [
           "Simulation 1064"
          ],
          [
           "Simulation 1065"
          ],
          [
           "Simulation 1066"
          ],
          [
           "Simulation 1067"
          ],
          [
           "Simulation 1068"
          ],
          [
           "Simulation 1069"
          ],
          [
           "Simulation 1070"
          ],
          [
           "Simulation 1071"
          ],
          [
           "Simulation 1072"
          ],
          [
           "Simulation 1073"
          ],
          [
           "Simulation 1074"
          ],
          [
           "Simulation 1075"
          ],
          [
           "Simulation 1076"
          ],
          [
           "Simulation 1077"
          ],
          [
           "Simulation 1078"
          ],
          [
           "Simulation 1079"
          ],
          [
           "Simulation 1080"
          ],
          [
           "Simulation 1081"
          ],
          [
           "Simulation 1082"
          ],
          [
           "Simulation 1083"
          ],
          [
           "Simulation 1084"
          ],
          [
           "Simulation 1085"
          ],
          [
           "Simulation 1086"
          ],
          [
           "Simulation 1087"
          ],
          [
           "Simulation 1088"
          ],
          [
           "Simulation 1089"
          ],
          [
           "Simulation 1090"
          ],
          [
           "Simulation 1091"
          ],
          [
           "Simulation 1092"
          ],
          [
           "Simulation 1093"
          ],
          [
           "Simulation 1094"
          ],
          [
           "Simulation 1095"
          ],
          [
           "Simulation 1096"
          ],
          [
           "Simulation 1097"
          ],
          [
           "Simulation 1098"
          ],
          [
           "Simulation 1099"
          ],
          [
           "Simulation 1100"
          ],
          [
           "Simulation 1101"
          ],
          [
           "Simulation 1102"
          ],
          [
           "Simulation 1103"
          ],
          [
           "Simulation 1104"
          ],
          [
           "Simulation 1105"
          ],
          [
           "Simulation 1106"
          ],
          [
           "Simulation 1107"
          ],
          [
           "Simulation 1108"
          ],
          [
           "Simulation 1109"
          ],
          [
           "Simulation 1110"
          ],
          [
           "Simulation 1111"
          ],
          [
           "Simulation 1112"
          ],
          [
           "Simulation 1113"
          ],
          [
           "Simulation 1114"
          ],
          [
           "Simulation 1115"
          ],
          [
           "Simulation 1116"
          ],
          [
           "Simulation 1117"
          ],
          [
           "Simulation 1118"
          ],
          [
           "Simulation 1119"
          ],
          [
           "Simulation 1120"
          ],
          [
           "Simulation 1121"
          ],
          [
           "Simulation 1122"
          ],
          [
           "Simulation 1123"
          ],
          [
           "Simulation 1124"
          ],
          [
           "Simulation 1125"
          ],
          [
           "Simulation 1126"
          ],
          [
           "Simulation 1127"
          ],
          [
           "Simulation 1128"
          ],
          [
           "Simulation 1129"
          ],
          [
           "Simulation 1130"
          ],
          [
           "Simulation 1131"
          ],
          [
           "Simulation 1132"
          ],
          [
           "Simulation 1133"
          ],
          [
           "Simulation 1134"
          ],
          [
           "Simulation 1135"
          ],
          [
           "Simulation 1136"
          ],
          [
           "Simulation 1137"
          ],
          [
           "Simulation 1138"
          ],
          [
           "Simulation 1139"
          ],
          [
           "Simulation 1140"
          ],
          [
           "Simulation 1141"
          ],
          [
           "Simulation 1142"
          ],
          [
           "Simulation 1143"
          ],
          [
           "Simulation 1144"
          ],
          [
           "Simulation 1145"
          ],
          [
           "Simulation 1146"
          ],
          [
           "Simulation 1147"
          ],
          [
           "Simulation 1148"
          ],
          [
           "Simulation 1149"
          ],
          [
           "Simulation 1150"
          ],
          [
           "Simulation 1151"
          ],
          [
           "Simulation 1152"
          ],
          [
           "Simulation 1153"
          ],
          [
           "Simulation 1154"
          ],
          [
           "Simulation 1155"
          ],
          [
           "Simulation 1156"
          ],
          [
           "Simulation 1157"
          ],
          [
           "Simulation 1158"
          ],
          [
           "Simulation 1159"
          ],
          [
           "Simulation 1160"
          ],
          [
           "Simulation 1161"
          ],
          [
           "Simulation 1162"
          ],
          [
           "Simulation 1163"
          ],
          [
           "Simulation 1164"
          ],
          [
           "Simulation 1165"
          ],
          [
           "Simulation 1166"
          ],
          [
           "Simulation 1167"
          ],
          [
           "Simulation 1168"
          ],
          [
           "Simulation 1169"
          ],
          [
           "Simulation 1170"
          ],
          [
           "Simulation 1171"
          ],
          [
           "Simulation 1172"
          ],
          [
           "Simulation 1173"
          ],
          [
           "Simulation 1174"
          ],
          [
           "Simulation 1175"
          ],
          [
           "Simulation 1176"
          ],
          [
           "Simulation 1177"
          ],
          [
           "Simulation 1178"
          ],
          [
           "Simulation 1179"
          ],
          [
           "Simulation 1180"
          ],
          [
           "Simulation 1181"
          ],
          [
           "Simulation 1182"
          ],
          [
           "Simulation 1183"
          ],
          [
           "Simulation 1184"
          ],
          [
           "Simulation 1185"
          ],
          [
           "Simulation 1186"
          ],
          [
           "Simulation 1187"
          ],
          [
           "Simulation 1188"
          ],
          [
           "Simulation 1189"
          ],
          [
           "Simulation 1190"
          ],
          [
           "Simulation 1191"
          ],
          [
           "Simulation 1192"
          ],
          [
           "Simulation 1193"
          ],
          [
           "Simulation 1194"
          ],
          [
           "Simulation 1195"
          ],
          [
           "Simulation 1196"
          ],
          [
           "Simulation 1197"
          ],
          [
           "Simulation 1198"
          ],
          [
           "Simulation 1199"
          ],
          [
           "Simulation 1200"
          ],
          [
           "Simulation 1201"
          ],
          [
           "Simulation 1202"
          ],
          [
           "Simulation 1203"
          ],
          [
           "Simulation 1204"
          ],
          [
           "Simulation 1205"
          ],
          [
           "Simulation 1206"
          ],
          [
           "Simulation 1207"
          ],
          [
           "Simulation 1208"
          ],
          [
           "Simulation 1209"
          ],
          [
           "Simulation 1210"
          ],
          [
           "Simulation 1211"
          ],
          [
           "Simulation 1212"
          ],
          [
           "Simulation 1213"
          ],
          [
           "Simulation 1214"
          ],
          [
           "Simulation 1215"
          ],
          [
           "Simulation 1216"
          ],
          [
           "Simulation 1217"
          ],
          [
           "Simulation 1218"
          ],
          [
           "Simulation 1219"
          ],
          [
           "Simulation 1220"
          ],
          [
           "Simulation 1221"
          ],
          [
           "Simulation 1222"
          ],
          [
           "Simulation 1223"
          ],
          [
           "Simulation 1224"
          ],
          [
           "Simulation 1225"
          ],
          [
           "Simulation 1226"
          ],
          [
           "Simulation 1227"
          ],
          [
           "Simulation 1228"
          ],
          [
           "Simulation 1229"
          ],
          [
           "Simulation 1230"
          ],
          [
           "Simulation 1231"
          ],
          [
           "Simulation 1232"
          ],
          [
           "Simulation 1233"
          ],
          [
           "Simulation 1234"
          ],
          [
           "Simulation 1235"
          ],
          [
           "Simulation 1236"
          ],
          [
           "Simulation 1237"
          ],
          [
           "Simulation 1238"
          ],
          [
           "Simulation 1239"
          ],
          [
           "Simulation 1240"
          ],
          [
           "Simulation 1241"
          ],
          [
           "Simulation 1242"
          ],
          [
           "Simulation 1243"
          ],
          [
           "Simulation 1244"
          ],
          [
           "Simulation 1245"
          ],
          [
           "Simulation 1246"
          ],
          [
           "Simulation 1247"
          ],
          [
           "Simulation 1248"
          ],
          [
           "Simulation 1249"
          ],
          [
           "Simulation 1250"
          ],
          [
           "Simulation 1251"
          ],
          [
           "Simulation 1252"
          ],
          [
           "Simulation 1253"
          ],
          [
           "Simulation 1254"
          ],
          [
           "Simulation 1255"
          ],
          [
           "Simulation 1256"
          ],
          [
           "Simulation 1257"
          ],
          [
           "Simulation 1258"
          ],
          [
           "Simulation 1259"
          ],
          [
           "Simulation 1260"
          ],
          [
           "Simulation 1261"
          ],
          [
           "Simulation 1262"
          ],
          [
           "Simulation 1263"
          ],
          [
           "Simulation 1264"
          ],
          [
           "Simulation 1265"
          ],
          [
           "Simulation 1266"
          ],
          [
           "Simulation 1267"
          ],
          [
           "Simulation 1268"
          ],
          [
           "Simulation 1269"
          ],
          [
           "Simulation 1270"
          ],
          [
           "Simulation 1271"
          ],
          [
           "Simulation 1272"
          ],
          [
           "Simulation 1273"
          ],
          [
           "Simulation 1274"
          ],
          [
           "Simulation 1275"
          ],
          [
           "Simulation 1276"
          ],
          [
           "Simulation 1277"
          ],
          [
           "Simulation 1278"
          ],
          [
           "Simulation 1279"
          ],
          [
           "Simulation 1280"
          ],
          [
           "Simulation 1281"
          ],
          [
           "Simulation 1282"
          ],
          [
           "Simulation 1283"
          ],
          [
           "Simulation 1284"
          ],
          [
           "Simulation 1285"
          ],
          [
           "Simulation 1286"
          ],
          [
           "Simulation 1287"
          ],
          [
           "Simulation 1288"
          ],
          [
           "Simulation 1289"
          ],
          [
           "Simulation 1290"
          ],
          [
           "Simulation 1291"
          ],
          [
           "Simulation 1292"
          ],
          [
           "Simulation 1293"
          ],
          [
           "Simulation 1294"
          ],
          [
           "Simulation 1295"
          ],
          [
           "Simulation 1296"
          ],
          [
           "Simulation 1297"
          ],
          [
           "Simulation 1298"
          ],
          [
           "Simulation 1299"
          ],
          [
           "Simulation 1300"
          ],
          [
           "Simulation 1301"
          ],
          [
           "Simulation 1302"
          ],
          [
           "Simulation 1303"
          ],
          [
           "Simulation 1304"
          ],
          [
           "Simulation 1305"
          ],
          [
           "Simulation 1306"
          ],
          [
           "Simulation 1307"
          ],
          [
           "Simulation 1308"
          ],
          [
           "Simulation 1309"
          ],
          [
           "Simulation 1310"
          ],
          [
           "Simulation 1311"
          ],
          [
           "Simulation 1312"
          ],
          [
           "Simulation 1313"
          ],
          [
           "Simulation 1314"
          ],
          [
           "Simulation 1315"
          ],
          [
           "Simulation 1316"
          ],
          [
           "Simulation 1317"
          ],
          [
           "Simulation 1318"
          ],
          [
           "Simulation 1319"
          ],
          [
           "Simulation 1320"
          ],
          [
           "Simulation 1321"
          ],
          [
           "Simulation 1322"
          ],
          [
           "Simulation 1323"
          ],
          [
           "Simulation 1324"
          ],
          [
           "Simulation 1325"
          ],
          [
           "Simulation 1326"
          ],
          [
           "Simulation 1327"
          ],
          [
           "Simulation 1328"
          ],
          [
           "Simulation 1329"
          ],
          [
           "Simulation 1330"
          ],
          [
           "Simulation 1331"
          ],
          [
           "Simulation 1332"
          ],
          [
           "Simulation 1333"
          ],
          [
           "Simulation 1334"
          ],
          [
           "Simulation 1335"
          ],
          [
           "Simulation 1336"
          ],
          [
           "Simulation 1337"
          ],
          [
           "Simulation 1338"
          ],
          [
           "Simulation 1339"
          ],
          [
           "Simulation 1340"
          ],
          [
           "Simulation 1341"
          ],
          [
           "Simulation 1342"
          ],
          [
           "Simulation 1343"
          ],
          [
           "Simulation 1344"
          ],
          [
           "Simulation 1345"
          ],
          [
           "Simulation 1346"
          ],
          [
           "Simulation 1347"
          ],
          [
           "Simulation 1348"
          ],
          [
           "Simulation 1349"
          ],
          [
           "Simulation 1350"
          ],
          [
           "Simulation 1351"
          ],
          [
           "Simulation 1352"
          ],
          [
           "Simulation 1353"
          ],
          [
           "Simulation 1354"
          ],
          [
           "Simulation 1355"
          ],
          [
           "Simulation 1356"
          ],
          [
           "Simulation 1357"
          ],
          [
           "Simulation 1358"
          ],
          [
           "Simulation 1359"
          ],
          [
           "Simulation 1360"
          ],
          [
           "Simulation 1361"
          ],
          [
           "Simulation 1362"
          ],
          [
           "Simulation 1363"
          ],
          [
           "Simulation 1364"
          ],
          [
           "Simulation 1365"
          ],
          [
           "Simulation 1366"
          ],
          [
           "Simulation 1367"
          ],
          [
           "Simulation 1368"
          ],
          [
           "Simulation 1369"
          ],
          [
           "Simulation 1370"
          ],
          [
           "Simulation 1371"
          ],
          [
           "Simulation 1372"
          ],
          [
           "Simulation 1373"
          ],
          [
           "Simulation 1374"
          ],
          [
           "Simulation 1375"
          ],
          [
           "Simulation 1376"
          ],
          [
           "Simulation 1377"
          ],
          [
           "Simulation 1378"
          ],
          [
           "Simulation 1379"
          ],
          [
           "Simulation 1380"
          ],
          [
           "Simulation 1381"
          ],
          [
           "Simulation 1382"
          ],
          [
           "Simulation 1383"
          ],
          [
           "Simulation 1384"
          ],
          [
           "Simulation 1385"
          ],
          [
           "Simulation 1386"
          ],
          [
           "Simulation 1387"
          ],
          [
           "Simulation 1388"
          ],
          [
           "Simulation 1389"
          ],
          [
           "Simulation 1390"
          ],
          [
           "Simulation 1391"
          ],
          [
           "Simulation 1392"
          ],
          [
           "Simulation 1393"
          ],
          [
           "Simulation 1394"
          ],
          [
           "Simulation 1395"
          ],
          [
           "Simulation 1396"
          ],
          [
           "Simulation 1397"
          ],
          [
           "Simulation 1398"
          ],
          [
           "Simulation 1399"
          ],
          [
           "Simulation 1400"
          ],
          [
           "Simulation 1401"
          ],
          [
           "Simulation 1402"
          ],
          [
           "Simulation 1403"
          ],
          [
           "Simulation 1404"
          ],
          [
           "Simulation 1405"
          ],
          [
           "Simulation 1406"
          ],
          [
           "Simulation 1407"
          ],
          [
           "Simulation 1408"
          ],
          [
           "Simulation 1409"
          ],
          [
           "Simulation 1410"
          ],
          [
           "Simulation 1411"
          ],
          [
           "Simulation 1412"
          ],
          [
           "Simulation 1413"
          ],
          [
           "Simulation 1414"
          ],
          [
           "Simulation 1415"
          ],
          [
           "Simulation 1416"
          ],
          [
           "Simulation 1417"
          ],
          [
           "Simulation 1418"
          ],
          [
           "Simulation 1419"
          ],
          [
           "Simulation 1420"
          ],
          [
           "Simulation 1421"
          ],
          [
           "Simulation 1422"
          ],
          [
           "Simulation 1423"
          ],
          [
           "Simulation 1424"
          ],
          [
           "Simulation 1425"
          ],
          [
           "Simulation 1426"
          ],
          [
           "Simulation 1427"
          ],
          [
           "Simulation 1428"
          ],
          [
           "Simulation 1429"
          ],
          [
           "Simulation 1430"
          ],
          [
           "Simulation 1431"
          ],
          [
           "Simulation 1432"
          ],
          [
           "Simulation 1433"
          ],
          [
           "Simulation 1434"
          ],
          [
           "Simulation 1435"
          ],
          [
           "Simulation 1436"
          ],
          [
           "Simulation 1437"
          ],
          [
           "Simulation 1438"
          ],
          [
           "Simulation 1439"
          ],
          [
           "Simulation 1440"
          ],
          [
           "Simulation 1441"
          ],
          [
           "Simulation 1442"
          ],
          [
           "Simulation 1443"
          ],
          [
           "Simulation 1444"
          ],
          [
           "Simulation 1445"
          ],
          [
           "Simulation 1446"
          ],
          [
           "Simulation 1447"
          ],
          [
           "Simulation 1448"
          ],
          [
           "Simulation 1449"
          ],
          [
           "Simulation 1450"
          ],
          [
           "Simulation 1451"
          ],
          [
           "Simulation 1452"
          ],
          [
           "Simulation 1453"
          ],
          [
           "Simulation 1454"
          ],
          [
           "Simulation 1455"
          ],
          [
           "Simulation 1456"
          ],
          [
           "Simulation 1457"
          ],
          [
           "Simulation 1458"
          ],
          [
           "Simulation 1459"
          ],
          [
           "Simulation 1460"
          ],
          [
           "Simulation 1461"
          ],
          [
           "Simulation 1462"
          ],
          [
           "Simulation 1463"
          ],
          [
           "Simulation 1464"
          ],
          [
           "Simulation 1465"
          ],
          [
           "Simulation 1466"
          ],
          [
           "Simulation 1467"
          ],
          [
           "Simulation 1468"
          ],
          [
           "Simulation 1469"
          ],
          [
           "Simulation 1470"
          ],
          [
           "Simulation 1471"
          ],
          [
           "Simulation 1472"
          ],
          [
           "Simulation 1473"
          ],
          [
           "Simulation 1474"
          ],
          [
           "Simulation 1475"
          ],
          [
           "Simulation 1476"
          ],
          [
           "Simulation 1477"
          ],
          [
           "Simulation 1478"
          ],
          [
           "Simulation 1479"
          ],
          [
           "Simulation 1480"
          ],
          [
           "Simulation 1481"
          ],
          [
           "Simulation 1482"
          ],
          [
           "Simulation 1483"
          ],
          [
           "Simulation 1484"
          ],
          [
           "Simulation 1485"
          ],
          [
           "Simulation 1486"
          ],
          [
           "Simulation 1487"
          ],
          [
           "Simulation 1488"
          ],
          [
           "Simulation 1489"
          ],
          [
           "Simulation 1490"
          ],
          [
           "Simulation 1491"
          ],
          [
           "Simulation 1492"
          ],
          [
           "Simulation 1493"
          ],
          [
           "Simulation 1494"
          ],
          [
           "Simulation 1495"
          ],
          [
           "Simulation 1496"
          ],
          [
           "Simulation 1497"
          ],
          [
           "Simulation 1498"
          ],
          [
           "Simulation 1499"
          ]
         ],
         "hovertemplate": "Risk (Standard Deviation of the Portfolio)=%{x}<br>Expected Return=%{y}<br>Simulation_Number=%{customdata[0]}<br>Sharpe Ratio=%{marker.color}<extra></extra>",
         "legendgroup": "",
         "marker": {
          "color": [
           1.572,
           1.9,
           1.535,
           1.645,
           1.655,
           1.463,
           1.58,
           1.62,
           1.765,
           1.571,
           1.926,
           1.69,
           1.69,
           1.655,
           1.636,
           1.886,
           1.679,
           1.805,
           1.787,
           1.503,
           1.9,
           1.722,
           1.676,
           1.62,
           1.628,
           1.596,
           1.764,
           1.982,
           1.683,
           1.857,
           1.954,
           1.616,
           1.56,
           1.458,
           1.456,
           1.505,
           1.654,
           1.656,
           1.558,
           1.97,
           1.701,
           1.693,
           1.95,
           1.638,
           1.864,
           1.754,
           1.533,
           1.688,
           1.603,
           1.586,
           1.316,
           1.415,
           1.54,
           1.51,
           1.713,
           1.579,
           1.52,
           1.798,
           1.692,
           1.659,
           1.426,
           1.661,
           1.555,
           1.591,
           1.586,
           1.662,
           1.679,
           1.624,
           1.797,
           1.453,
           1.682,
           1.729,
           1.472,
           1.449,
           1.584,
           1.657,
           1.471,
           1.458,
           1.611,
           1.716,
           1.546,
           1.819,
           1.781,
           1.62,
           1.64,
           1.774,
           1.635,
           1.557,
           1.782,
           1.808,
           1.813,
           1.921,
           1.599,
           1.542,
           1.618,
           1.625,
           1.581,
           1.735,
           1.49,
           1.62,
           1.511,
           1.501,
           1.508,
           1.881,
           1.501,
           1.695,
           1.706,
           1.791,
           1.672,
           1.856,
           1.764,
           1.651,
           1.778,
           1.511,
           1.649,
           1.588,
           1.762,
           1.512,
           1.826,
           1.661,
           1.664,
           1.661,
           1.68,
           1.732,
           1.564,
           1.572,
           1.638,
           1.611,
           1.519,
           1.8,
           1.688,
           1.833,
           1.876,
           1.648,
           1.79,
           1.614,
           1.594,
           1.769,
           1.767,
           1.618,
           1.443,
           1.917,
           1.601,
           1.744,
           1.404,
           1.591,
           1.926,
           1.74,
           1.452,
           1.687,
           1.661,
           1.542,
           1.757,
           1.487,
           1.706,
           1.462,
           1.682,
           1.979,
           1.587,
           1.455,
           1.525,
           1.709,
           1.452,
           1.822,
           1.388,
           1.521,
           1.746,
           1.708,
           1.654,
           1.933,
           1.426,
           1.411,
           1.805,
           1.547,
           1.521,
           1.974,
           1.71,
           1.733,
           1.699,
           1.818,
           1.616,
           1.716,
           1.513,
           1.437,
           1.674,
           1.576,
           1.666,
           1.653,
           1.842,
           1.551,
           1.383,
           1.5,
           1.609,
           1.852,
           1.754,
           1.502,
           1.655,
           1.582,
           1.774,
           1.708,
           1.656,
           1.636,
           1.747,
           1.583,
           1.627,
           1.592,
           1.929,
           1.595,
           1.648,
           1.521,
           1.949,
           1.857,
           1.687,
           1.677,
           1.76,
           1.539,
           1.625,
           1.556,
           1.657,
           1.838,
           1.631,
           1.614,
           1.615,
           1.666,
           1.571,
           1.674,
           1.659,
           1.687,
           1.584,
           1.722,
           1.71,
           1.648,
           1.75,
           1.523,
           1.768,
           1.612,
           1.602,
           1.619,
           1.545,
           1.819,
           1.808,
           1.942,
           1.802,
           1.82,
           1.698,
           1.702,
           1.522,
           1.995,
           1.609,
           1.386,
           1.596,
           1.71,
           1.605,
           1.734,
           1.468,
           1.601,
           1.732,
           1.57,
           1.698,
           1.735,
           1.6,
           1.833,
           1.886,
           1.736,
           1.733,
           1.894,
           1.702,
           1.665,
           1.771,
           1.691,
           1.71,
           1.535,
           1.862,
           1.587,
           1.7,
           1.83,
           1.828,
           1.691,
           1.673,
           1.648,
           2.053,
           1.745,
           1.714,
           1.543,
           1.848,
           1.708,
           1.918,
           1.528,
           1.646,
           1.898,
           1.632,
           1.643,
           1.603,
           1.645,
           1.674,
           1.599,
           1.573,
           1.576,
           1.897,
           1.573,
           1.979,
           1.759,
           1.517,
           1.809,
           1.857,
           1.859,
           1.613,
           1.891,
           1.673,
           1.609,
           1.786,
           1.424,
           1.46,
           1.876,
           1.344,
           1.792,
           1.831,
           1.739,
           1.765,
           1.615,
           1.949,
           1.565,
           1.627,
           1.537,
           1.878,
           1.399,
           1.461,
           1.494,
           1.636,
           1.513,
           1.838,
           1.898,
           1.534,
           1.865,
           1.953,
           1.547,
           1.858,
           1.768,
           1.679,
           1.776,
           1.568,
           1.627,
           1.826,
           1.676,
           1.722,
           1.704,
           1.655,
           1.635,
           1.834,
           1.687,
           1.591,
           1.856,
           1.481,
           1.587,
           1.527,
           1.471,
           1.735,
           1.806,
           1.65,
           1.806,
           1.939,
           1.745,
           1.509,
           1.524,
           1.518,
           1.703,
           1.701,
           1.832,
           1.69,
           1.546,
           1.69,
           1.654,
           1.698,
           1.754,
           1.653,
           1.934,
           1.674,
           1.721,
           1.736,
           1.648,
           1.831,
           1.609,
           1.652,
           1.527,
           1.517,
           1.567,
           1.532,
           1.621,
           1.544,
           1.863,
           1.966,
           1.788,
           1.764,
           1.338,
           1.544,
           1.69,
           1.602,
           1.658,
           1.582,
           1.854,
           1.47,
           1.655,
           1.843,
           1.76,
           1.576,
           1.508,
           1.814,
           1.659,
           1.746,
           1.859,
           1.737,
           1.224,
           1.684,
           1.61,
           1.381,
           1.732,
           1.764,
           1.873,
           1.625,
           1.764,
           1.975,
           1.991,
           1.724,
           1.837,
           1.616,
           2.013,
           1.536,
           1.467,
           1.724,
           1.623,
           1.653,
           1.643,
           1.725,
           1.867,
           1.588,
           1.824,
           1.846,
           1.512,
           1.649,
           1.631,
           1.631,
           1.706,
           1.518,
           1.705,
           1.606,
           1.766,
           1.497,
           1.793,
           1.646,
           1.645,
           1.719,
           1.721,
           1.958,
           1.575,
           1.631,
           1.635,
           1.883,
           1.399,
           1.444,
           1.631,
           1.756,
           1.682,
           1.727,
           1.585,
           1.578,
           1.58,
           1.713,
           2.033,
           1.551,
           1.321,
           1.644,
           1.754,
           1.74,
           1.635,
           1.555,
           1.903,
           1.979,
           1.434,
           1.732,
           1.731,
           1.906,
           1.713,
           1.53,
           1.571,
           1.642,
           1.74,
           1.664,
           1.362,
           1.316,
           1.579,
           1.699,
           1.799,
           1.652,
           1.581,
           1.654,
           1.582,
           1.417,
           1.516,
           1.748,
           1.767,
           1.718,
           1.545,
           1.629,
           1.805,
           1.574,
           1.788,
           1.787,
           1.468,
           1.642,
           1.499,
           1.65,
           1.547,
           1.689,
           1.625,
           1.514,
           1.47,
           1.627,
           1.931,
           1.741,
           1.352,
           1.63,
           1.624,
           1.649,
           1.682,
           1.772,
           1.738,
           1.771,
           1.656,
           1.735,
           1.697,
           1.647,
           1.594,
           1.7,
           1.257,
           1.609,
           1.703,
           1.849,
           1.68,
           1.412,
           1.965,
           1.961,
           1.526,
           1.746,
           1.887,
           2.046,
           1.677,
           1.74,
           1.869,
           1.78,
           1.64,
           1.612,
           1.674,
           1.873,
           1.579,
           1.994,
           1.843,
           1.794,
           1.599,
           1.59,
           1.609,
           1.556,
           1.642,
           1.743,
           1.618,
           1.768,
           1.749,
           1.661,
           1.653,
           1.678,
           1.869,
           1.936,
           1.624,
           1.531,
           1.659,
           1.523,
           1.62,
           1.583,
           1.778,
           1.713,
           1.483,
           1.734,
           1.639,
           1.707,
           1.597,
           1.771,
           1.747,
           1.761,
           1.54,
           1.419,
           1.747,
           1.326,
           1.399,
           1.75,
           1.724,
           1.574,
           1.608,
           2.034,
           1.849,
           1.686,
           1.723,
           1.653,
           1.442,
           1.611,
           1.971,
           1.635,
           1.559,
           1.477,
           1.406,
           1.882,
           1.571,
           1.65,
           1.63,
           1.656,
           1.705,
           1.727,
           1.647,
           1.885,
           1.717,
           1.977,
           1.622,
           1.55,
           1.702,
           1.682,
           1.589,
           1.931,
           1.952,
           1.565,
           1.641,
           1.694,
           1.621,
           1.768,
           1.621,
           1.688,
           1.649,
           1.602,
           1.597,
           1.696,
           1.721,
           1.67,
           1.772,
           1.612,
           1.741,
           1.682,
           1.602,
           1.834,
           1.72,
           1.364,
           1.691,
           1.438,
           1.522,
           1.349,
           1.559,
           1.7,
           1.495,
           1.487,
           1.735,
           1.579,
           1.432,
           1.913,
           1.952,
           1.534,
           1.548,
           2.064,
           1.637,
           1.447,
           1.369,
           1.851,
           1.75,
           1.579,
           1.589,
           1.588,
           1.646,
           1.396,
           1.642,
           2.061,
           1.716,
           1.699,
           1.657,
           1.664,
           1.615,
           1.72,
           1.6,
           1.718,
           1.667,
           1.718,
           1.589,
           1.804,
           1.486,
           1.661,
           1.617,
           1.649,
           1.695,
           1.581,
           1.511,
           1.767,
           1.828,
           1.406,
           1.793,
           1.677,
           1.575,
           1.796,
           1.73,
           1.634,
           1.92,
           1.722,
           1.507,
           1.568,
           1.83,
           1.641,
           1.691,
           1.963,
           1.581,
           1.676,
           1.595,
           1.785,
           1.615,
           1.784,
           1.92,
           1.361,
           1.532,
           1.549,
           1.656,
           1.442,
           1.69,
           1.578,
           1.682,
           1.536,
           1.453,
           1.717,
           1.293,
           1.837,
           1.678,
           1.845,
           1.621,
           1.738,
           1.684,
           1.856,
           1.553,
           1.601,
           1.698,
           1.532,
           1.757,
           1.736,
           1.772,
           1.632,
           1.879,
           1.61,
           1.617,
           1.867,
           1.728,
           1.725,
           1.726,
           1.666,
           1.661,
           1.835,
           1.705,
           1.646,
           1.47,
           1.781,
           1.665,
           1.829,
           1.667,
           1.79,
           1.485,
           1.737,
           1.705,
           1.802,
           1.699,
           1.892,
           1.896,
           1.471,
           1.676,
           1.638,
           1.604,
           1.684,
           1.612,
           1.59,
           1.757,
           1.7,
           1.839,
           1.656,
           1.621,
           1.608,
           1.891,
           1.728,
           1.829,
           1.7,
           1.713,
           1.676,
           1.556,
           1.604,
           1.555,
           1.873,
           1.685,
           1.737,
           1.757,
           1.636,
           1.686,
           1.671,
           1.613,
           1.549,
           1.563,
           1.574,
           1.728,
           1.397,
           1.384,
           1.563,
           1.717,
           1.756,
           1.774,
           1.905,
           1.98,
           1.635,
           1.712,
           1.611,
           1.704,
           1.706,
           1.697,
           1.672,
           1.765,
           1.783,
           1.671,
           1.697,
           1.81,
           1.519,
           1.637,
           1.509,
           1.557,
           1.815,
           1.81,
           1.535,
           1.822,
           1.783,
           1.436,
           1.635,
           1.564,
           1.824,
           1.762,
           1.47,
           1.813,
           1.588,
           1.68,
           1.893,
           1.452,
           1.566,
           1.752,
           1.641,
           1.664,
           1.532,
           1.489,
           1.294,
           1.615,
           1.723,
           1.771,
           1.824,
           1.681,
           1.621,
           1.689,
           1.78,
           1.601,
           1.751,
           1.433,
           1.795,
           1.719,
           1.822,
           1.533,
           1.576,
           1.573,
           1.667,
           1.624,
           1.569,
           1.567,
           1.466,
           1.654,
           1.792,
           1.692,
           1.591,
           1.73,
           1.71,
           1.58,
           1.644,
           1.653,
           1.625,
           1.736,
           1.777,
           1.733,
           1.68,
           1.752,
           1.694,
           1.642,
           1.813,
           1.644,
           1.67,
           1.413,
           1.611,
           1.595,
           1.853,
           1.61,
           1.481,
           1.651,
           1.656,
           1.634,
           2.075,
           1.702,
           1.755,
           1.631,
           1.619,
           1.833,
           1.503,
           1.535,
           1.629,
           1.625,
           1.705,
           1.702,
           1.727,
           1.467,
           1.827,
           1.403,
           1.45,
           1.529,
           1.647,
           1.602,
           1.766,
           1.624,
           1.759,
           1.825,
           1.683,
           1.441,
           1.696,
           1.627,
           1.627,
           1.682,
           1.766,
           1.576,
           1.659,
           1.768,
           1.655,
           1.813,
           1.664,
           1.835,
           1.779,
           1.386,
           1.561,
           1.598,
           1.591,
           1.704,
           1.686,
           1.698,
           1.612,
           1.792,
           1.798,
           1.382,
           1.469,
           1.654,
           1.882,
           1.587,
           1.739,
           1.483,
           1.717,
           1.693,
           1.623,
           1.677,
           1.622,
           1.905,
           1.609,
           1.706,
           1.485,
           1.643,
           1.633,
           1.583,
           1.803,
           1.576,
           1.571,
           1.916,
           1.602,
           1.783,
           1.578,
           1.583,
           1.668,
           1.742,
           1.673,
           1.614,
           1.684,
           1.705,
           1.699,
           1.584,
           1.693,
           1.562,
           1.663,
           1.699,
           1.797,
           1.581,
           1.276,
           1.553,
           2.016,
           1.64,
           1.792,
           1.67,
           1.81,
           1.75,
           1.954,
           1.542,
           1.595,
           1.555,
           1.745,
           1.808,
           1.411,
           1.647,
           1.692,
           1.711,
           1.97,
           1.743,
           1.704,
           1.69,
           1.805,
           1.63,
           1.372,
           1.561,
           1.614,
           1.468,
           1.78,
           1.604,
           1.59,
           1.688,
           1.471,
           1.762,
           1.539,
           1.696,
           1.617,
           1.587,
           1.627,
           1.716,
           1.62,
           1.678,
           1.697,
           1.647,
           1.768,
           1.722,
           1.639,
           1.756,
           1.605,
           1.636,
           1.817,
           1.691,
           1.574,
           1.537,
           1.787,
           1.618,
           1.618,
           1.61,
           1.663,
           1.701,
           1.734,
           1.622,
           1.658,
           1.721,
           1.601,
           1.821,
           1.543,
           1.604,
           1.747,
           1.634,
           1.552,
           1.595,
           1.917,
           1.635,
           1.714,
           1.875,
           1.579,
           1.67,
           1.696,
           1.545,
           1.655,
           1.675,
           1.448,
           1.802,
           1.498,
           1.7,
           1.779,
           1.678,
           1.471,
           1.66,
           1.678,
           1.628,
           1.907,
           1.652,
           1.75,
           1.759,
           1.417,
           1.539,
           1.568,
           1.801,
           1.779,
           1.82,
           1.795,
           1.546,
           1.914,
           1.6,
           1.652,
           1.74,
           1.642,
           1.555,
           1.8,
           1.456,
           1.685,
           1.915,
           1.61,
           1.624,
           1.539,
           1.659,
           1.724,
           1.739,
           1.702,
           1.919,
           1.569,
           1.568,
           1.608,
           1.692,
           1.825,
           1.471,
           1.596,
           1.709,
           1.643,
           1.611,
           1.706,
           1.58,
           1.82,
           1.724,
           1.656,
           1.354,
           1.883,
           1.631,
           1.77,
           1.706,
           1.702,
           1.885,
           1.764,
           1.795,
           2.023,
           1.545,
           1.488,
           1.574,
           1.806,
           1.607,
           1.526,
           1.602,
           1.696,
           1.621,
           1.557,
           1.776,
           1.881,
           1.801,
           1.549,
           1.901,
           1.584,
           1.661,
           1.605,
           1.729,
           1.664,
           1.697,
           1.771,
           1.449,
           1.356,
           1.841,
           1.493,
           1.807,
           1.643,
           1.483,
           1.713,
           1.495,
           1.83,
           1.815,
           1.536,
           1.656,
           1.781,
           1.683,
           1.718,
           1.645,
           1.726,
           1.668,
           1.91,
           1.568,
           1.66,
           1.611,
           1.447,
           1.937,
           1.824,
           1.806,
           1.675,
           2.075,
           1.552,
           1.525,
           1.674,
           1.515,
           1.782,
           1.948,
           1.697,
           1.817,
           1.504,
           1.806,
           1.711,
           1.901,
           1.601,
           1.783,
           1.614,
           1.555,
           1.715,
           2.008,
           1.352,
           1.746,
           1.79,
           1.531,
           1.393,
           1.716,
           1.758,
           1.563,
           1.593,
           1.688,
           1.883,
           1.686,
           1.466,
           1.989,
           1.639,
           1.788,
           1.63,
           1.828,
           1.509,
           1.673,
           1.602,
           2.033,
           1.771,
           1.639,
           1.687,
           1.508,
           1.844,
           1.655,
           1.246,
           1.749,
           1.928,
           1.92,
           1.559,
           1.71,
           1.665,
           1.502,
           1.722,
           1.68,
           1.734,
           1.547,
           1.835,
           1.745,
           1.775,
           1.807,
           1.377,
           1.585,
           1.62,
           1.476,
           1.71,
           1.719,
           1.845,
           1.407,
           1.778,
           1.68,
           1.559,
           1.766,
           1.416,
           1.474,
           1.674,
           1.514,
           1.474,
           1.881,
           1.75,
           1.449,
           1.58,
           1.589,
           1.683,
           1.89,
           1.58,
           1.834,
           1.62,
           1.806,
           1.771,
           1.669,
           1.652,
           1.5,
           1.604,
           1.732,
           1.855,
           1.791,
           1.72,
           1.683,
           1.648,
           1.56,
           1.752,
           1.596,
           1.558,
           1.947,
           1.653,
           1.742,
           1.402,
           1.415,
           1.572,
           1.385,
           1.241,
           1.574,
           1.669,
           1.733,
           1.593,
           1.786,
           1.673,
           1.755,
           1.539,
           1.614,
           1.62,
           1.604,
           1.695,
           1.729,
           1.84,
           1.577,
           1.754,
           1.667,
           1.674,
           1.802,
           1.487,
           1.729,
           1.639,
           1.711,
           1.468,
           1.636,
           1.211,
           1.359,
           1.52,
           1.639,
           1.513,
           1.759,
           1.525,
           1.562,
           1.811,
           1.595,
           1.486,
           1.793,
           1.826,
           1.5,
           1.598,
           1.915,
           1.608,
           1.777,
           1.677,
           1.518,
           1.767,
           1.642,
           1.555,
           1.428,
           1.862,
           1.664,
           1.565,
           1.696,
           1.544,
           1.446,
           1.547,
           1.764,
           1.928,
           1.671,
           1.884,
           1.573,
           1.64,
           1.64,
           1.961,
           1.769,
           1.702,
           1.419,
           1.987,
           1.795,
           1.821,
           1.661,
           1.781,
           1.552,
           1.529,
           1.758,
           1.59,
           1.724,
           1.401,
           1.567,
           1.732,
           1.84,
           1.449,
           1.726,
           1.538,
           1.63,
           1.808,
           1.692,
           1.564,
           1.887,
           1.566,
           1.451,
           1.154,
           1.728,
           1.834,
           1.473,
           1.759,
           1.611,
           1.689,
           1.599,
           1.888,
           1.581,
           1.729,
           1.711,
           1.593,
           1.339,
           1.948,
           2.072,
           1.779,
           1.715,
           1.666,
           1.781,
           1.712,
           1.487,
           1.605,
           1.68,
           1.824,
           1.586,
           1.435,
           1.895,
           1.672,
           1.69,
           1.663,
           1.708,
           1.496,
           1.668,
           1.634,
           1.711,
           1.854,
           2.036,
           1.636,
           1.613,
           1.606,
           1.63,
           1.441,
           1.62,
           1.944,
           1.36,
           1.438,
           1.692,
           1.616,
           1.581,
           1.571,
           1.662,
           1.743,
           1.651,
           1.755,
           1.62,
           1.731,
           1.563,
           1.69,
           1.797,
           1.635,
           1.785,
           1.868,
           1.652,
           1.937,
           1.631,
           1.558,
           1.574,
           1.63,
           1.752,
           1.455,
           1.631,
           1.544,
           1.451,
           1.496,
           1.659,
           2.009,
           1.671,
           1.673,
           1.734,
           1.709,
           1.834,
           1.716,
           1.753,
           1.655,
           1.399,
           1.638,
           1.694,
           1.562,
           1.514,
           1.443,
           1.533,
           1.614,
           1.646,
           1.587,
           1.928,
           1.297,
           1.665,
           1.853,
           1.694,
           1.829,
           1.619,
           1.61,
           1.561,
           1.562,
           1.721
          ],
          "coloraxis": "coloraxis",
          "opacity": 0.33,
          "size": 10,
          "symbol": "circle"
         },
         "mode": "markers",
         "name": "",
         "showlegend": false,
         "type": "scattergl",
         "x": [
          0.1511297930980966,
          0.11426771581124212,
          0.19752616173260817,
          0.1549171255632048,
          0.14973789910583743,
          0.18880555218804818,
          0.16499680905037492,
          0.16868629214012032,
          0.13409248219205994,
          0.16998343469257898,
          0.1185111916858277,
          0.17178089715055905,
          0.1317988215839462,
          0.14540515044391594,
          0.17276130609605037,
          0.12235787569839136,
          0.12061914544276015,
          0.12957529514770869,
          0.13326468545863268,
          0.18240015543613103,
          0.10891022441377046,
          0.1597567097381314,
          0.14606612095785593,
          0.15993618235444598,
          0.19303496114901939,
          0.14912938835562878,
          0.1019283996762442,
          0.0948226973459334,
          0.12576416689359693,
          0.10069996071408838,
          0.13538399663159956,
          0.14480939754122635,
          0.19179942648202863,
          0.21235413327193003,
          0.20551033917421105,
          0.1452688619826766,
          0.14189108897776037,
          0.1460599940731594,
          0.1847295645131691,
          0.1334222535755286,
          0.15218416853723624,
          0.15491755064339816,
          0.13398640131349868,
          0.14544420174816922,
          0.11711549474957746,
          0.1414196388856133,
          0.17260138051479612,
          0.1602656191055327,
          0.15412493591526844,
          0.19126349192920422,
          0.19091727438664582,
          0.2579515225210513,
          0.15840727862079107,
          0.15687746905370373,
          0.14292945506412194,
          0.15240407500284148,
          0.17808098364090263,
          0.14840162692026165,
          0.158900564306405,
          0.1466591709393467,
          0.1623249598383788,
          0.1496456774711277,
          0.17479651407680888,
          0.16755826337445517,
          0.15507041160772342,
          0.18880090434590885,
          0.14455986275178992,
          0.16380519051931428,
          0.13159492239718668,
          0.19216949095694985,
          0.1705196238422422,
          0.14386425240617928,
          0.13978492146784996,
          0.22535394017928925,
          0.19672158010386392,
          0.13335195228128108,
          0.2366085113394263,
          0.21506930516553444,
          0.13761299175126235,
          0.1654795677491806,
          0.17409920756443042,
          0.15238746463621056,
          0.16985302141476524,
          0.1713086098548181,
          0.1474363701480724,
          0.13077979684051655,
          0.14819204890151721,
          0.1749145241193845,
          0.14319354613000304,
          0.11911706260650066,
          0.12968683049854215,
          0.12258338955838964,
          0.15679265254472383,
          0.17425004589903095,
          0.18494577077942662,
          0.15638301799668317,
          0.12067064796964926,
          0.14923510850054805,
          0.22183841433640797,
          0.12143294538065458,
          0.15769972724880404,
          0.19519580184224472,
          0.1784228010364467,
          0.0956750695250565,
          0.20179309772170476,
          0.1358429639608211,
          0.1553448704681072,
          0.12615320010369135,
          0.12397163037641898,
          0.11683673394221354,
          0.12251388116605055,
          0.15278535116241213,
          0.10871648325818381,
          0.15923537458836773,
          0.15088640422506938,
          0.14939655901690374,
          0.13391766454597978,
          0.22570034184049026,
          0.14102237203523207,
          0.15822514431722945,
          0.17222255422803046,
          0.14292827551547127,
          0.16242899826614687,
          0.11779116667238947,
          0.16972781290113662,
          0.16088542297013916,
          0.16689171135485578,
          0.182766911966139,
          0.18355465628752934,
          0.13220808992669272,
          0.17926790262585632,
          0.12476738213047756,
          0.11085816428633152,
          0.1658663301375957,
          0.12089726597404679,
          0.1562054387983515,
          0.1678764374988969,
          0.14572494682374212,
          0.13352661025279441,
          0.15514881310992246,
          0.1715678692744032,
          0.11174938835218222,
          0.1688355912900223,
          0.15689630142134595,
          0.16544773423702325,
          0.19974264040267273,
          0.12743551119947127,
          0.12805167743085683,
          0.21617370869246522,
          0.16536398981756217,
          0.1677903060707118,
          0.14995895792051908,
          0.15837205303091784,
          0.2030840998451056,
          0.14855440559132613,
          0.19202930717092956,
          0.1434903813206111,
          0.11441250669999768,
          0.17025975998746085,
          0.18619452437913514,
          0.18843740022607752,
          0.1362724935879649,
          0.18770612391715882,
          0.12061666894250503,
          0.19776121443245573,
          0.18494710510041443,
          0.15752497974100943,
          0.1647864272275195,
          0.15035264236133075,
          0.11351312244877995,
          0.18448649001444906,
          0.2017564164634848,
          0.1399727364094218,
          0.18266236198020322,
          0.18415810578954178,
          0.12495055397854667,
          0.12692391800855415,
          0.12404786506681195,
          0.13633809460643806,
          0.15298789368006602,
          0.17119625686036505,
          0.11763807323018072,
          0.17830912891579176,
          0.21208576918751038,
          0.1301288100619679,
          0.18452960535868945,
          0.15622170996620272,
          0.18526885707993032,
          0.12101686940844819,
          0.1461886380865564,
          0.2141033637391249,
          0.17115114072602278,
          0.19861492818575985,
          0.13910741944851476,
          0.12455179165932723,
          0.16618287386502797,
          0.16303815498112592,
          0.18034510904667658,
          0.12893053120777292,
          0.1328645025331973,
          0.14214006161097203,
          0.17603869946192263,
          0.1495944587658274,
          0.16987758576586787,
          0.15949210556886206,
          0.18698017770113542,
          0.10899062430585277,
          0.15601679104104063,
          0.13834949545531267,
          0.1895968788441859,
          0.12155542092726555,
          0.11564253484051301,
          0.1460147961226518,
          0.17163481135787717,
          0.12447344172415237,
          0.21101031187666114,
          0.11938607525198111,
          0.1545858028059907,
          0.15808273788511482,
          0.13531103199005018,
          0.135175169929502,
          0.15042381380772182,
          0.15797895703015416,
          0.14449430074387848,
          0.17375970801932075,
          0.16002046779910734,
          0.13720352468426175,
          0.1306440356819096,
          0.14189981801370796,
          0.1262340545024637,
          0.15246397023740152,
          0.15409680411884874,
          0.1737696338055444,
          0.16989278343375855,
          0.12734881175104856,
          0.19833769062930814,
          0.1730276140972335,
          0.17400081131394765,
          0.17245230312108398,
          0.13814000513547856,
          0.14412780607620898,
          0.11800964850669636,
          0.12199157099127314,
          0.14697615775902279,
          0.14624948895599227,
          0.1352626840209048,
          0.17536459552084688,
          0.09698942222519871,
          0.14544336069143282,
          0.20987398019449163,
          0.17827810257774987,
          0.12184671386508152,
          0.17417856135343085,
          0.11354025647853544,
          0.17316709912121392,
          0.13407924061259266,
          0.14151024107449384,
          0.18388727893004594,
          0.14778001246644118,
          0.13033704865647897,
          0.16512065618083235,
          0.15277054452556857,
          0.13400011714564966,
          0.12378854168966962,
          0.15951419313782508,
          0.1068512828869859,
          0.11892470668750577,
          0.17656482958258968,
          0.12343442057966515,
          0.1376263238304956,
          0.14248830194100823,
          0.16357431381024007,
          0.128540263585264,
          0.18306960398446018,
          0.17330595986703426,
          0.11521092544876091,
          0.1029928272478025,
          0.17135069323941615,
          0.15786353933714514,
          0.1582434621647043,
          0.10876029223013486,
          0.12859253277005525,
          0.1578809150379577,
          0.1598066130993423,
          0.1544658617320244,
          0.14249508722637247,
          0.1032546887373934,
          0.17084951280567193,
          0.16834702794371884,
          0.13349901471090767,
          0.16265183029679783,
          0.1261751542834905,
          0.13453248359112607,
          0.14798513688378143,
          0.15173816240976687,
          0.15471074091141432,
          0.18082778106826047,
          0.16498411813778122,
          0.12604413453825639,
          0.17125820693950408,
          0.10690055567621899,
          0.15881416274114135,
          0.1555448417107783,
          0.12684882319321944,
          0.157582194435087,
          0.11116643767675248,
          0.12790092572143819,
          0.11778021543854987,
          0.16665279725397739,
          0.15696090561020998,
          0.11544688197398782,
          0.16542184902279677,
          0.1758987557733766,
          0.12030007418392638,
          0.1947413841895321,
          0.1490266103687963,
          0.14770628235571834,
          0.15972863715556182,
          0.13803413924721702,
          0.1705453747486558,
          0.1482941074151325,
          0.15507158961390474,
          0.1681896532186148,
          0.14457382432285323,
          0.11004394168348591,
          0.21518788395187152,
          0.2142718903999961,
          0.19377256069741675,
          0.1728248576417829,
          0.14758638583033815,
          0.12210818641824568,
          0.12208402292722055,
          0.1671653036722284,
          0.1450424987384847,
          0.11820498530193176,
          0.19115509159960073,
          0.12254416002677238,
          0.1351594505847929,
          0.13510577020988201,
          0.1487711626351221,
          0.19371705154312494,
          0.15450495217076246,
          0.13452351385643097,
          0.13689290251442007,
          0.1318325609858823,
          0.1574507738106275,
          0.15190925861023502,
          0.17048188630011873,
          0.15033577995229555,
          0.15041570043896638,
          0.14219968229651445,
          0.11952662515808231,
          0.14924191823660732,
          0.2044804452761835,
          0.14797619277167773,
          0.16347996317765995,
          0.1290324452337474,
          0.13403461712514547,
          0.1470910174954378,
          0.12593272969117394,
          0.13675400723320746,
          0.15418085188673472,
          0.187720313115228,
          0.1796958447901707,
          0.16721655007535985,
          0.16288789675214538,
          0.14283259703304887,
          0.1344458330063411,
          0.12933825485192427,
          0.19311039938328858,
          0.12745766076960424,
          0.16336488596994506,
          0.14619248216417355,
          0.12716480097208932,
          0.1623184292250614,
          0.13008376539663735,
          0.16224823205590944,
          0.14724384364253776,
          0.14060823682387935,
          0.1383804016008375,
          0.12382964284483067,
          0.2084131480673729,
          0.17324287512382663,
          0.16774377833826792,
          0.20109065784236949,
          0.12030967898942943,
          0.181229402329074,
          0.16128589462737586,
          0.1717117336987343,
          0.14166003036573016,
          0.12019487441868375,
          0.13885904643006236,
          0.14438064190731495,
          0.2261445086676722,
          0.18445865975713832,
          0.11867542164088536,
          0.18774014821138815,
          0.16219049514479264,
          0.20599714983911474,
          0.12361219868384021,
          0.1778242990210303,
          0.13055534948378703,
          0.10627215316516553,
          0.12798694373627628,
          0.1660889888655721,
          0.20871665416637056,
          0.12720466364794397,
          0.161725926535359,
          0.12564747603029852,
          0.11075396128034304,
          0.14911892069339963,
          0.24769442248646611,
          0.17417800738406025,
          0.16160509519682936,
          0.21437132043723456,
          0.15498334785417647,
          0.1538531571241467,
          0.13077364119505402,
          0.16080447675084866,
          0.11626230583687273,
          0.10570674620629719,
          0.11277593911693949,
          0.13048079120239514,
          0.12615710830638943,
          0.1464219716819172,
          0.11141448739785875,
          0.18629096326733247,
          0.16875236285427184,
          0.13154756466907497,
          0.1685082860081852,
          0.13473154132465034,
          0.14311243735044568,
          0.130835059253964,
          0.12182270937653122,
          0.19700836948696046,
          0.12129283116978093,
          0.11800966088981728,
          0.1832694232494777,
          0.16282334837262794,
          0.18331787351161744,
          0.14069770799123024,
          0.11737552220941803,
          0.15770018498090524,
          0.15573718968107994,
          0.15924839609387428,
          0.1387341454083594,
          0.1639027788056406,
          0.14563528790883867,
          0.15878697847196038,
          0.17176344728354492,
          0.13239471213903142,
          0.16635875719435225,
          0.11121357964875529,
          0.12962842818601622,
          0.15439889472418278,
          0.14261321440387398,
          0.14602993610412984,
          0.2291213038576074,
          0.24892308454514817,
          0.16837042421862808,
          0.12917648664536585,
          0.1443284901403466,
          0.1550431425263932,
          0.16128975061987585,
          0.19377140456351785,
          0.1557132712467362,
          0.10927443678928316,
          0.10356796341452187,
          0.17655280369320298,
          0.2304869431835341,
          0.12119085873651611,
          0.15571577096511557,
          0.13253313488401525,
          0.16066164522296178,
          0.18360827089281842,
          0.10812643351489692,
          0.12851386051954614,
          0.18821794635500286,
          0.1401970764224721,
          0.13250750082413937,
          0.13190566270555473,
          0.14642170112161762,
          0.1663748485640889,
          0.17522948946024042,
          0.14421368896050954,
          0.12813623611618344,
          0.17262726582421853,
          0.24315890780938124,
          0.21747266503702756,
          0.1403795594179373,
          0.13631994034127837,
          0.12461023132898563,
          0.1281127345239845,
          0.17465470994344615,
          0.13178846827849916,
          0.1725556009506242,
          0.21735595264340687,
          0.14953524628245268,
          0.14862242077218432,
          0.12055560141465937,
          0.16243662770788755,
          0.16940580958096071,
          0.16706181269235537,
          0.11914190931627036,
          0.1599390702597983,
          0.12938341899258338,
          0.1514737394695959,
          0.2003220525699684,
          0.14810006271527534,
          0.1900650856617234,
          0.16044878232034812,
          0.19605629490014875,
          0.17019841277861014,
          0.15135024522242532,
          0.19605409254824152,
          0.23854717315709134,
          0.16337336796410798,
          0.11751966408829549,
          0.15100553810228784,
          0.22549212319191153,
          0.15276310746001534,
          0.1598594545169353,
          0.1374462109745572,
          0.12629310708415886,
          0.12158417284657366,
          0.1234543734279707,
          0.13934236992970084,
          0.11596244608995959,
          0.13898550042009714,
          0.15684813767345518,
          0.15828011737353784,
          0.16914149875640302,
          0.14932372971946262,
          0.23305674871295518,
          0.15653615246570785,
          0.12347261590511846,
          0.11500394410696228,
          0.15072451870012119,
          0.25280320885432106,
          0.11063870041365483,
          0.10376491701761868,
          0.1395451887436678,
          0.13762966574521562,
          0.1052151259633287,
          0.1188854267926944,
          0.14877667162040556,
          0.12605282366063694,
          0.12097958515023699,
          0.12764136579312196,
          0.15924504973341036,
          0.1356017710766816,
          0.1511484319681528,
          0.12637885967825768,
          0.1844013362925248,
          0.11462128116544784,
          0.12369869829311651,
          0.14860363086929795,
          0.1133716485863362,
          0.14205622773683554,
          0.18259702401747133,
          0.13892951830129213,
          0.16887189115770612,
          0.1600977995081082,
          0.16693798961457354,
          0.13450296343768828,
          0.1514387292517394,
          0.17184312060521553,
          0.15571389192946022,
          0.16049934380625072,
          0.12905898393862034,
          0.10500066244618002,
          0.1516279735833244,
          0.18724253382380454,
          0.14090334179440134,
          0.17196907641587483,
          0.13688992707816391,
          0.14312545527062154,
          0.12573364096823877,
          0.15938075690292147,
          0.17764619858910752,
          0.15236292194482987,
          0.15257729688717805,
          0.16344276268820648,
          0.163858563327797,
          0.12979339738647314,
          0.13599834373490569,
          0.14210866767310143,
          0.15503511127103087,
          0.24937051678847663,
          0.16008548264333308,
          0.21459386807007985,
          0.23339825206433856,
          0.13499001489433615,
          0.1443974463256732,
          0.18314121635758993,
          0.15751509608224812,
          0.09992114934036425,
          0.13851305153765484,
          0.125736610431474,
          0.1471723689987232,
          0.16756514043526982,
          0.1973189387035928,
          0.1340651544115039,
          0.12321632668525402,
          0.19745315318476236,
          0.16449413860869408,
          0.18304316643594373,
          0.2502494022234868,
          0.11297819555423731,
          0.19464574597677392,
          0.14116342225486855,
          0.14925807123456453,
          0.15771414674425405,
          0.1288527023382829,
          0.14044280333350573,
          0.1435015551530979,
          0.10209874393103503,
          0.14365126123221503,
          0.12063460880998836,
          0.11947661316583032,
          0.17289781060235798,
          0.13712250383157173,
          0.12727134453019864,
          0.17297784195763494,
          0.10627055386247032,
          0.12799089490503204,
          0.1252572013761362,
          0.15385798007560822,
          0.15620039640481814,
          0.16379077030516928,
          0.14732775661277092,
          0.13440951667988113,
          0.13709157504937547,
          0.15726508117341653,
          0.162536547541709,
          0.1606929335670211,
          0.1557496167780855,
          0.15680777428081885,
          0.15118341138159802,
          0.12651126332102083,
          0.1751461831286553,
          0.12872933745231308,
          0.11398207324103962,
          0.1686065935090758,
          0.1199410104821794,
          0.13260705645358423,
          0.2213325863571987,
          0.15918450146701518,
          0.15077307544200205,
          0.1889611344249243,
          0.2156514891147904,
          0.18341125366474095,
          0.11689695564205833,
          0.188166239452052,
          0.14011266830872757,
          0.13767397990076236,
          0.15187065003929803,
          0.20460309821306755,
          0.1069591270432369,
          0.10823008165601464,
          0.18436831022964853,
          0.2029592704690836,
          0.09461670706476077,
          0.12879282061516195,
          0.20065702669396387,
          0.21381862600403653,
          0.11828552492574931,
          0.15822591263397823,
          0.1409635936928227,
          0.13297252495169448,
          0.14979380817311583,
          0.12761627236593037,
          0.211098473979064,
          0.13438416684655638,
          0.1055323492542455,
          0.13964158560810924,
          0.15971029013087826,
          0.14925052278003487,
          0.1202953916891133,
          0.17394134688543195,
          0.1551105880504761,
          0.1805245956884828,
          0.1408239732138936,
          0.17850884905269532,
          0.14360114329614615,
          0.18385090350179195,
          0.14845525842743576,
          0.18163048497629344,
          0.11075915936776834,
          0.1715059848673829,
          0.13135337340507397,
          0.15313047010974756,
          0.18012399229729134,
          0.15230758650453452,
          0.16676506786661868,
          0.11364131543309583,
          0.23835489606351842,
          0.1604894431768604,
          0.16037377974730724,
          0.1390192359503547,
          0.12828856682292608,
          0.12923174556010353,
          0.15080043419419034,
          0.11829086516333233,
          0.13317212043435245,
          0.164754267512592,
          0.17997170689092432,
          0.11515147454749983,
          0.16040531152148532,
          0.15717653144125684,
          0.10130317153368987,
          0.18317475795302118,
          0.16514269208537433,
          0.17127611800162199,
          0.12387104529084464,
          0.15019313135234516,
          0.11063624035372412,
          0.10273160707500596,
          0.23600463169021085,
          0.1917743701320245,
          0.12859262919581363,
          0.16639639178871354,
          0.21283641431361705,
          0.14594749830768036,
          0.1353585910154467,
          0.18631027127071756,
          0.15130629605651869,
          0.21281525393764444,
          0.1652934290004384,
          0.24275516140774245,
          0.11974280800432828,
          0.16951601023581592,
          0.14762214809752242,
          0.16248962342899967,
          0.1616571743484745,
          0.15485556877250306,
          0.10742468096265231,
          0.18959583697278312,
          0.1803876370337111,
          0.15062079645088355,
          0.1828684884835611,
          0.16450491501719686,
          0.12170163213569778,
          0.13896998524906484,
          0.14696329241564976,
          0.12239043508791321,
          0.15813130479682738,
          0.14467743225955482,
          0.10210596659943437,
          0.12882848988304574,
          0.1292716030235376,
          0.16349875059529176,
          0.1632957950463197,
          0.16585331505709294,
          0.10927755356111048,
          0.12449425642932498,
          0.1215252455644875,
          0.15993019757685706,
          0.11539278506361687,
          0.1650669135446448,
          0.13118377461321978,
          0.1255876750164725,
          0.14683900800780067,
          0.21302100221224368,
          0.141521555910329,
          0.15447811093194852,
          0.11928049248678471,
          0.17281439179172745,
          0.1317080839227176,
          0.1098722826475699,
          0.16065110054175516,
          0.1801586672253027,
          0.15765359218724567,
          0.16179731181747886,
          0.1627359936626524,
          0.15597195114731943,
          0.17695579579525886,
          0.14816840455534952,
          0.15200215345408125,
          0.1186105526435505,
          0.13610848485918245,
          0.17030245011652032,
          0.1483237538471597,
          0.12481210946781517,
          0.12954062797851362,
          0.11675177334738286,
          0.16034162288877696,
          0.1422422315371429,
          0.16040119846612297,
          0.1946070281230053,
          0.13471901958487267,
          0.1287560246592653,
          0.1056661640527583,
          0.17904779265889245,
          0.12431571293389158,
          0.12875086757852416,
          0.1619489073332042,
          0.1508435160241769,
          0.16143543254299814,
          0.15234241736975168,
          0.18952053968883573,
          0.1320834663037303,
          0.1296773880745947,
          0.13083770987048604,
          0.23390521639562045,
          0.20133150620171325,
          0.17184421032828318,
          0.13343594133838213,
          0.13791678508267288,
          0.12234946741803601,
          0.1184077425643023,
          0.10838179065278583,
          0.16501479834370206,
          0.14230996415814587,
          0.17128116014609954,
          0.18808105338656236,
          0.12761940541136582,
          0.1548829892769474,
          0.14923812706169817,
          0.12685896431557345,
          0.1270368826598276,
          0.17243771586653228,
          0.16491987709074976,
          0.1304740673686768,
          0.17760145843059205,
          0.18315649553432672,
          0.18566133099912793,
          0.16092407997948224,
          0.11827075512916325,
          0.12303653625257371,
          0.12310818193747929,
          0.11040890995210238,
          0.13103840751693188,
          0.21040356636063023,
          0.14685139399644312,
          0.15144205588618065,
          0.131568204350196,
          0.13746607731319238,
          0.20583389405639904,
          0.1322535653820264,
          0.16317424031072797,
          0.12306164744883458,
          0.11730271795999136,
          0.18632316632398324,
          0.20777358008404231,
          0.1402930289793133,
          0.14415694161596024,
          0.16122945293610758,
          0.17153290800030202,
          0.20152254914946022,
          0.23006881379986147,
          0.1369041271098758,
          0.1378741945896801,
          0.11074040319632328,
          0.14076807164168686,
          0.12552347052313706,
          0.1486002296638826,
          0.12841646009512644,
          0.12625233262235158,
          0.13923465128262602,
          0.12393521625890305,
          0.23118232625833024,
          0.12386901399729323,
          0.1717390753035375,
          0.11908527725983555,
          0.20395590931511698,
          0.1617966181006313,
          0.14904253708149356,
          0.15263252756698248,
          0.1341907597729613,
          0.14515400840111703,
          0.1589673975809575,
          0.21037236107108462,
          0.1643499432306177,
          0.11448098953830513,
          0.14239749320317324,
          0.16917576778377658,
          0.15317756927141932,
          0.11751864189777113,
          0.17331038396686888,
          0.19243423703831472,
          0.1565253810552644,
          0.18193049992642152,
          0.1335431661874356,
          0.14298903120393713,
          0.14117202268127663,
          0.14359633386489318,
          0.1377202459125767,
          0.17149404022455272,
          0.1801878915220715,
          0.10966320949858586,
          0.15021196256992622,
          0.14099254595763522,
          0.1685544190274911,
          0.15361243104626346,
          0.16552181397803317,
          0.122390589787771,
          0.16539534424132732,
          0.15819897649062342,
          0.14901378040194335,
          0.14443839671453165,
          0.12704158675785052,
          0.10811757436818185,
          0.13542130932570054,
          0.13661955331032774,
          0.1579991072211747,
          0.1596116082475576,
          0.14216733801206163,
          0.13405346781756794,
          0.159695337797443,
          0.12021589703765702,
          0.16762753326286478,
          0.15519892096206345,
          0.15675359775904502,
          0.13305389696248324,
          0.17923544776872852,
          0.11521602025211385,
          0.19440435260282152,
          0.21321489438224211,
          0.1409630951410766,
          0.15273609625191878,
          0.17758436204933342,
          0.13703732272727334,
          0.1674376006172571,
          0.14903024574143045,
          0.1062572153185798,
          0.16778928800513926,
          0.21823134638892472,
          0.11385107771116099,
          0.1636861602562654,
          0.17431316157367538,
          0.1423858116502613,
          0.12541867661008055,
          0.14906982504683985,
          0.14779118639304004,
          0.150347095803639,
          0.15304978628942023,
          0.12305345187954773,
          0.13143400604838262,
          0.11073583220718,
          0.13284252579807404,
          0.21939431849632504,
          0.190565610724265,
          0.14848146267496684,
          0.16113014346342255,
          0.1626615624546607,
          0.15718012811524365,
          0.15488054972351978,
          0.12056790389722655,
          0.13843365372323868,
          0.12844851969374993,
          0.22113148628028495,
          0.1921022121475776,
          0.14931540096317286,
          0.0943057771001385,
          0.12826746535509448,
          0.12785647909138223,
          0.19876619086090702,
          0.154683647798399,
          0.1534013313092403,
          0.16672191443478443,
          0.13142836833684918,
          0.16347701799305908,
          0.11216568415504108,
          0.20030864447581329,
          0.1784736824730432,
          0.16606585286540498,
          0.14512659818288814,
          0.15861638290236796,
          0.11877268272706526,
          0.11713271716880665,
          0.16924291989027526,
          0.16727985384351454,
          0.1103016563927523,
          0.15601202496532213,
          0.1310501303258483,
          0.11400916958998676,
          0.1583321551531762,
          0.1679851146853638,
          0.13559672741332437,
          0.16316734003967695,
          0.161017904189898,
          0.12567533359086186,
          0.1319033744018553,
          0.12666320239788353,
          0.14683936949082133,
          0.1450801423841333,
          0.1263115406132644,
          0.16092880776384166,
          0.1579339939600845,
          0.13069668781333801,
          0.15200947892240943,
          0.23507049411278827,
          0.16269774143134777,
          0.1060179334330971,
          0.17168524749795128,
          0.15318464296327922,
          0.15104510846880848,
          0.14570870499313612,
          0.13669463634275986,
          0.10267440920616358,
          0.2155515977667491,
          0.18054911050263164,
          0.18358704766589604,
          0.1132044698826808,
          0.12663994782651894,
          0.2022042425810752,
          0.1284129202669587,
          0.14143654337671158,
          0.15378726342343826,
          0.10523456547245526,
          0.13947588415204593,
          0.16122544617878612,
          0.13895013042371848,
          0.1311535722581389,
          0.17881655422059103,
          0.19711124994710252,
          0.23505640737542477,
          0.1642146203361135,
          0.17483874490867404,
          0.1313473503728715,
          0.16441549750571716,
          0.1725880792633516,
          0.15146180296321582,
          0.17727014237534872,
          0.1280062471617533,
          0.16474152456647964,
          0.13570993280188903,
          0.13738077176146204,
          0.15613961274356616,
          0.1507516591756574,
          0.15865681133658607,
          0.12755503328354942,
          0.1650955014849948,
          0.1454199846730771,
          0.16480847569579268,
          0.1404540011862987,
          0.11780151956381293,
          0.1479032226351309,
          0.12774006305756222,
          0.16495236155434634,
          0.1888128164129617,
          0.12470899433407993,
          0.1508649377709787,
          0.17408208322198762,
          0.16942154299812406,
          0.14366005622871728,
          0.16495250283704097,
          0.1563046762797762,
          0.1559680218730184,
          0.14929792047947382,
          0.1529484709308485,
          0.13633604708549152,
          0.18357296336160464,
          0.1424026213681904,
          0.163672951747558,
          0.15027323136523305,
          0.11628619697577142,
          0.1681355317784548,
          0.1521626675542695,
          0.11437740449584476,
          0.18843818223934702,
          0.14996297214423424,
          0.1569364081628292,
          0.137202652787323,
          0.17795254867449894,
          0.13178680915882762,
          0.14801855949402928,
          0.17221053963977737,
          0.1295826533052598,
          0.14939931007582075,
          0.20993317964451064,
          0.13528808171041698,
          0.1498940362517133,
          0.19064920787724388,
          0.10937756760504895,
          0.19428357135412058,
          0.12978505750170566,
          0.13629839996188142,
          0.17657489336340038,
          0.17418081781344882,
          0.12870477905967972,
          0.15462784447727784,
          0.16594788305478456,
          0.1134284983196809,
          0.1525517823291331,
          0.1400705599909416,
          0.1290804107820454,
          0.21269545017841193,
          0.1909329889726575,
          0.17337075983337735,
          0.12455361722200411,
          0.12229174731228458,
          0.12501276637089268,
          0.16861858503347205,
          0.17862390982468712,
          0.12385401737875454,
          0.159083594744829,
          0.1261176410986361,
          0.14149244402070155,
          0.12284668434144017,
          0.1698503475482319,
          0.13476660001406965,
          0.14577157415680078,
          0.15226897435174644,
          0.10193390258612015,
          0.15210646514219014,
          0.15357523833458656,
          0.15614939676480666,
          0.12394772033087444,
          0.16257429971072399,
          0.1808038793861875,
          0.1402666227639306,
          0.12198638034114462,
          0.18474828997184264,
          0.1789345828176591,
          0.1518954973014936,
          0.16176771740538434,
          0.1345716304561006,
          0.17075144875617618,
          0.15930945062246407,
          0.13437094995264706,
          0.15591180448728661,
          0.16400440217130768,
          0.1576626285884231,
          0.17979067775535168,
          0.1464358887506344,
          0.17145989504162518,
          0.16616026445888596,
          0.2553097698935938,
          0.1336144641075229,
          0.14171962388259698,
          0.12676153747818697,
          0.16092778888122067,
          0.1317271871793449,
          0.12578658081941083,
          0.12616718970119808,
          0.12215350477642703,
          0.10339547562714378,
          0.15700127707210873,
          0.20694995417830062,
          0.20120857590854027,
          0.12292633145878994,
          0.16756133949341379,
          0.16876898090507186,
          0.16787640824542513,
          0.1389543132229118,
          0.1643185821444883,
          0.1681929012171132,
          0.14589614600728967,
          0.12602824719943148,
          0.14335731351780018,
          0.16577515890754033,
          0.12672860942085903,
          0.18191181740063242,
          0.15578669890952135,
          0.1811021567427865,
          0.1427822273126021,
          0.14950164975499705,
          0.1506205664597044,
          0.12559996260732437,
          0.22703619459604543,
          0.22260268823435897,
          0.1296026564176622,
          0.16410394869941972,
          0.14121432648076263,
          0.13552104145751723,
          0.15309608890215312,
          0.12288296892091309,
          0.1859317178746778,
          0.12961813724576918,
          0.12337986694744031,
          0.14214102945535476,
          0.14700189734113442,
          0.10046109973030971,
          0.17824656449105786,
          0.1540303344231976,
          0.1327611335993421,
          0.15903306564078978,
          0.1339751093464265,
          0.10875306273447248,
          0.18635512980566585,
          0.14964238788062975,
          0.17275285658120215,
          0.16539131599197288,
          0.12808473474297585,
          0.11511436969614101,
          0.1108355685937632,
          0.1336888919231939,
          0.102630215787049,
          0.2011468650928503,
          0.16075896938930975,
          0.15301896550070745,
          0.19345943840614196,
          0.1324587915364827,
          0.11613986995067627,
          0.15430843438438194,
          0.12046735832830494,
          0.2074361557610338,
          0.1267379377802288,
          0.12865794388312002,
          0.11666369445566821,
          0.19856223022497266,
          0.14379183253121924,
          0.1371680249101027,
          0.21495161666870152,
          0.14324308529271915,
          0.10120890622856989,
          0.222278816439393,
          0.12523948019799835,
          0.12993549289705314,
          0.16561307451276702,
          0.19453158029383685,
          0.1673296544152598,
          0.1464639666271708,
          0.17631008797665984,
          0.17767708040938696,
          0.18168438074056575,
          0.1284977297114323,
          0.15365726256141915,
          0.1970843050107697,
          0.11527339793762,
          0.15272483995014605,
          0.1350818570226969,
          0.1534430599166584,
          0.13736657465356147,
          0.18070247254903593,
          0.146002524252887,
          0.17119939326091269,
          0.09751102280786061,
          0.10732731531347575,
          0.14910813353808258,
          0.16651872388711553,
          0.13638236992259728,
          0.12301995938854288,
          0.1275610294756237,
          0.21951353015272856,
          0.14571275571549716,
          0.12001970344512825,
          0.12443972109164629,
          0.17757155021883494,
          0.14898926628761078,
          0.16339763656806797,
          0.17313110880530302,
          0.14631886087257687,
          0.13868060646850072,
          0.11942057985398202,
          0.13179184865720428,
          0.14651949045043652,
          0.12411903479818084,
          0.12487319392637641,
          0.13557649209353717,
          0.21166090019290174,
          0.1593209731223544,
          0.17833987357074987,
          0.19264670580299748,
          0.15413527430333093,
          0.14181900011463935,
          0.12906588535384272,
          0.2409446666513367,
          0.1409265033009188,
          0.146371442677756,
          0.1635452308080795,
          0.13350303926228918,
          0.19753791469475773,
          0.14003594358997776,
          0.16818404005650958,
          0.18881140749907166,
          0.19290859699153168,
          0.13070614327629362,
          0.1524777905815288,
          0.18504910172042832,
          0.19299948305266432,
          0.13986423557442568,
          0.16910937908927023,
          0.11812908769262147,
          0.17040268039132475,
          0.12371860230544808,
          0.15723825645485368,
          0.12708072192326195,
          0.14449119916631634,
          0.14263491450005528,
          0.16096714252477987,
          0.20692749017275033,
          0.13659748974449196,
          0.16053688072301564,
          0.12536541348369426,
          0.11855041881565621,
          0.1220599257614675,
          0.1580011560002118,
          0.13929478692929753,
          0.12870163637609647,
          0.13248905726161062,
          0.16244740860538728,
          0.129266547072097,
          0.10009608546007967,
          0.17059713253432496,
          0.1382914418069997,
          0.20552830963664895,
          0.20246331358333253,
          0.15401100856517044,
          0.19767122611390892,
          0.26014949025732126,
          0.15469542432639,
          0.1911768815649892,
          0.10855885553239107,
          0.1528563935460138,
          0.13280804986310416,
          0.15439059708646127,
          0.17046732881404592,
          0.14242965051958212,
          0.165004553122864,
          0.1681644507803484,
          0.1749913417368534,
          0.13418406107378128,
          0.15655790554910762,
          0.14108101790667452,
          0.1813458603472531,
          0.1560710702104304,
          0.18477270375381846,
          0.14800501970175964,
          0.1203129719710544,
          0.1975821956185932,
          0.1451397727365767,
          0.1548327180141749,
          0.14521944883016283,
          0.19445630048449844,
          0.1570136691593084,
          0.21686109178902188,
          0.2365085889301034,
          0.14258704179699994,
          0.1491372266089053,
          0.14869453961426446,
          0.12175052949886794,
          0.17659748198306807,
          0.16560591597659136,
          0.12373051458459863,
          0.19406794579374745,
          0.1544942803208033,
          0.14501977867716698,
          0.10732984860107606,
          0.217439763815441,
          0.1677715989126162,
          0.1269017326865641,
          0.16160310706495,
          0.14539469839335642,
          0.18328779850757435,
          0.18355535626352687,
          0.14886601588425613,
          0.16080834341924982,
          0.17593298271792596,
          0.1751422221756835,
          0.1281561475641915,
          0.1665077518817404,
          0.18069317194480497,
          0.1472441922915969,
          0.1864061648183884,
          0.19645794628849464,
          0.17693148976570508,
          0.125472392503068,
          0.10567808879192203,
          0.16857403034662038,
          0.13676958352638557,
          0.1896302715301309,
          0.16608120258131062,
          0.1410628611895349,
          0.11241112906295476,
          0.14895051665740183,
          0.15003075808510896,
          0.23889402896612838,
          0.09152589654494672,
          0.12970180649825525,
          0.14766469931957735,
          0.1538323210753533,
          0.11516073251400417,
          0.1942599755539763,
          0.18508056156162908,
          0.126323448519785,
          0.17455153299019727,
          0.13630449124044772,
          0.21595752329034795,
          0.19794354441034187,
          0.13529949714320705,
          0.12623661870669306,
          0.1698729700386428,
          0.1557543376242984,
          0.19065306454713798,
          0.152154806520506,
          0.12308038815488216,
          0.12648500538866955,
          0.15989995709677152,
          0.1256368821033199,
          0.1755817513855481,
          0.17231238975652421,
          0.2652789711782962,
          0.14385871650889642,
          0.12086934574959776,
          0.1700850614126783,
          0.13591318508704137,
          0.14825244163588616,
          0.15811022997297794,
          0.14087519531151943,
          0.12442085334541973,
          0.1516745816876325,
          0.11302309343168669,
          0.14123237596966914,
          0.15139039186647754,
          0.24499359560361098,
          0.10921467832243206,
          0.108650966304837,
          0.13149371751864702,
          0.17084690522920548,
          0.14955200099467578,
          0.12168119519287313,
          0.14675254510255742,
          0.15805782161517817,
          0.1700111804662483,
          0.1339053883321215,
          0.11952796567668461,
          0.15688274455835996,
          0.19786493093145968,
          0.13896636525359177,
          0.1594034477977294,
          0.15833722914061255,
          0.15944815296804704,
          0.167595782743094,
          0.20901466874629493,
          0.16674724694160478,
          0.13226944953121217,
          0.15180236580478104,
          0.12213396650515534,
          0.10032246787625974,
          0.15374813208819907,
          0.1302159299223318,
          0.17539033151242847,
          0.14025777571639708,
          0.18928184817850263,
          0.13353748563135057,
          0.09804998127697237,
          0.2543505735161532,
          0.20904965709076886,
          0.1234921926972267,
          0.1739167773650514,
          0.13179374845178768,
          0.17307514799309004,
          0.15471588906665454,
          0.1554801557463527,
          0.149776167331679,
          0.1222587104687705,
          0.11263790037174748,
          0.16420504900751048,
          0.1919985720388116,
          0.14621866654940419,
          0.13830006222653926,
          0.1631904741979096,
          0.12128581884801938,
          0.1057960295838622,
          0.162008713752758,
          0.1274664357345275,
          0.13992655116430613,
          0.14116542955095512,
          0.15299006077217903,
          0.15928454783216078,
          0.12526349184049895,
          0.1629156663809126,
          0.18666328989112563,
          0.19255447160272846,
          0.21751730170515418,
          0.21586517242107878,
          0.15293745672233142,
          0.11813622028402182,
          0.16569158288138702,
          0.14088408177367542,
          0.1700015916988757,
          0.1450339246972204,
          0.1257610448133884,
          0.13717170421623134,
          0.15260619264276046,
          0.15786432263941283,
          0.20835111274366552,
          0.15057064831778658,
          0.1333563423746492,
          0.16492633671478923,
          0.18476900140031394,
          0.19778281273505385,
          0.19259092012191714,
          0.19338375612796802,
          0.157754938197542,
          0.14285448301909326,
          0.11112300894333746,
          0.21244924210170693,
          0.1307673675483905,
          0.12062497045286047,
          0.1723363514354048,
          0.14456908604056182,
          0.169332131983764,
          0.18499261990548013,
          0.19991361641760605,
          0.1392776819213808,
          0.13276294228952618
         ],
         "xaxis": "x",
         "y": [
          0.2487887723057362,
          0.22834565532239282,
          0.31441828812135275,
          0.26608180332121545,
          0.25904426647629397,
          0.2874670557693001,
          0.2718705436170667,
          0.2845178000711103,
          0.24785935031770798,
          0.2782340120867721,
          0.2394852947574011,
          0.3016263362140176,
          0.2340427698699791,
          0.25195689664911075,
          0.29394991979887763,
          0.24205755735037912,
          0.21371671482594792,
          0.2451203928760034,
          0.24940867648802187,
          0.2853755446563202,
          0.21820073240968538,
          0.2863916052878033,
          0.25610372974972734,
          0.2704179535736209,
          0.3254188021704848,
          0.24923975688383765,
          0.19108427900721492,
          0.19913477561928336,
          0.22284728032884257,
          0.19826405526892746,
          0.27577474611906905,
          0.2452478516537733,
          0.3103990596869405,
          0.3207851678290781,
          0.31043091865181577,
          0.22991887748443746,
          0.24586773512379992,
          0.2530971553144853,
          0.2990513448674097,
          0.2740873302954093,
          0.2701789428125242,
          0.2735300644699424,
          0.27252585764706433,
          0.24943828879239072,
          0.22956169869953139,
          0.25933520247125214,
          0.27586931774280565,
          0.2817083275634354,
          0.2583684206620116,
          0.31459058607910184,
          0.26248941028299416,
          0.37622312529734014,
          0.25515118622681815,
          0.24813358481861195,
          0.25610697362100016,
          0.25188489905621414,
          0.28188247539113204,
          0.2780592218714489,
          0.28005756603061005,
          0.25456044657244487,
          0.24279270405202252,
          0.2597379554077439,
          0.28300813165203914,
          0.2778931839704253,
          0.25718598813695803,
          0.32502147591168146,
          0.254020280244524,
          0.2772955960940262,
          0.2477744065896842,
          0.2905093451273431,
          0.29799438742730544,
          0.25994286739519923,
          0.21704246154827656,
          0.3378205385082572,
          0.32293230986558247,
          0.2322598046878999,
          0.35921776191881927,
          0.32489495913298416,
          0.23300193761585722,
          0.2952093602834683,
          0.2803518404473792,
          0.28838572046718675,
          0.31380788803195897,
          0.28876884476706555,
          0.25310847868097747,
          0.24318857921372664,
          0.2534852207295919,
          0.28353736163887383,
          0.2663625089077954,
          0.22665938214590478,
          0.24640850633385775,
          0.2467615566225623,
          0.2619868997418745,
          0.2798715425207591,
          0.3105639607567086,
          0.26535052016829214,
          0.20203484521948684,
          0.2702206077864601,
          0.34169388576996523,
          0.2079955339181285,
          0.24956247329197942,
          0.30419156115647056,
          0.2803771276056037,
          0.19124514825176792,
          0.31418968148824555,
          0.24147244005004467,
          0.27627157327337004,
          0.23723316981164594,
          0.21847685664234703,
          0.2281274976680494,
          0.22740081790605532,
          0.26347706618877376,
          0.20452014101934124,
          0.2517721459025273,
          0.26004862040841303,
          0.2485387284172556,
          0.24716788986324764,
          0.3525843480624916,
          0.26874174097281905,
          0.2739816789272509,
          0.29784284663620947,
          0.24869656429134354,
          0.2840629083068152,
          0.21522178681090795,
          0.2766543764238353,
          0.26407918245177536,
          0.2846608813308009,
          0.30570909431770704,
          0.29001588537316186,
          0.24921542151199966,
          0.31388673235107417,
          0.23994822895408852,
          0.21921283022105628,
          0.2845116017373442,
          0.22763549615506923,
          0.2633026607337531,
          0.27887621566196313,
          0.26909842712460635,
          0.24721904296184607,
          0.2622834686853803,
          0.2588853257265559,
          0.22549486243746486,
          0.2814979971946451,
          0.2849183062255476,
          0.24359072674319954,
          0.32910301675418185,
          0.2567012375377513,
          0.23402710056695059,
          0.3251676535361132,
          0.2902802277446153,
          0.2898778269070708,
          0.24244166681539256,
          0.2894737854448575,
          0.3131998717155047,
          0.2646406351840552,
          0.2919307643727762,
          0.25256054933953753,
          0.2376391493997536,
          0.28146143517298366,
          0.28218270762919134,
          0.2986301499498634,
          0.24410368957833045,
          0.28384259654025545,
          0.23099917765698877,
          0.28579046518157336,
          0.2926097815329036,
          0.28629587334006973,
          0.29264370823159236,
          0.25998897476195937,
          0.23065203092074096,
          0.2742588294649565,
          0.2958369959203009,
          0.26387701019140547,
          0.2938407499647622,
          0.2913759432159322,
          0.25786351571523186,
          0.22831925884586807,
          0.22624662540951695,
          0.2428685824944407,
          0.2893690922566265,
          0.2878124146987187,
          0.21305825691874228,
          0.28100604197942625,
          0.3159789970370915,
          0.22902050871116716,
          0.3020497062592199,
          0.27147889225598554,
          0.31744130331879844,
          0.23417602228373632,
          0.23800688228549827,
          0.30734498096988255,
          0.2678997513025241,
          0.33074998418594825,
          0.2689094741795837,
          0.22970692515506191,
          0.2608286703653329,
          0.2810618293384966,
          0.29658404301068403,
          0.23995343153902096,
          0.23820532406748232,
          0.2466505855292744,
          0.299212430076137,
          0.27254973479653466,
          0.28022868831095427,
          0.2707941455334629,
          0.30883062786979315,
          0.22143268546649011,
          0.26001943053791665,
          0.23925241898233277,
          0.29968076118671844,
          0.24818435234503763,
          0.2259959624606398,
          0.2575607320652261,
          0.29899904788840587,
          0.23035683898988701,
          0.33590379422580413,
          0.20518828376625328,
          0.25172800246716776,
          0.2731492804236964,
          0.2599452309289861,
          0.23168442092077848,
          0.25405143188647333,
          0.26635522832920866,
          0.2519893227614853,
          0.28422493371980107,
          0.2790851361800466,
          0.23887629524530998,
          0.23160656092597687,
          0.23602499206342178,
          0.22865552195687547,
          0.27190858168811677,
          0.2651891469087576,
          0.31525725433932517,
          0.2700332093637752,
          0.2363965920465427,
          0.33091304064520466,
          0.28842192749141815,
          0.2928795608134602,
          0.2777473384707703,
          0.2625162420122006,
          0.27186815994903923,
          0.24039893424832098,
          0.2310797158295386,
          0.27868808763404046,
          0.25952435200568547,
          0.24141917997600734,
          0.27806217921189563,
          0.20471023696312743,
          0.24527307835900686,
          0.3020514232388645,
          0.29573610396084665,
          0.21955850879802483,
          0.2908605910858224,
          0.20816376862390543,
          0.2654803094680868,
          0.2259020830045474,
          0.2564029215050836,
          0.29998466449248035,
          0.26211484729521917,
          0.23736719660312794,
          0.27547101972244853,
          0.291275010182329,
          0.26391444969401484,
          0.22611774285715372,
          0.2877068919096628,
          0.21365821610411312,
          0.21368909973175162,
          0.3051704125760336,
          0.2298239312560042,
          0.24401256574829094,
          0.2549485186226959,
          0.26226308192199294,
          0.25053959336822706,
          0.30176473709292173,
          0.30580264852216177,
          0.22211147633440934,
          0.19951111706844385,
          0.30107841769813704,
          0.2753034994501914,
          0.27208394962747173,
          0.2345085027946701,
          0.2356835125885712,
          0.28186416658522945,
          0.25785275909858574,
          0.2967303984595355,
          0.2545882799511298,
          0.20924284998248796,
          0.2722581660728378,
          0.28831183837969254,
          0.2646692530691894,
          0.2766609218692696,
          0.2185121969010311,
          0.22683380218235613,
          0.2546304312688702,
          0.265305362651634,
          0.25866892906388744,
          0.2955964110588032,
          0.27118669140038926,
          0.2503368034656005,
          0.2806370669644881,
          0.2228184334238801,
          0.29059989327968655,
          0.2471753584986275,
          0.24069843533472582,
          0.3038394020988228,
          0.21785228003464432,
          0.21759395873710757,
          0.23395548331078178,
          0.28997716024619136,
          0.26382849147060544,
          0.2174576198665746,
          0.24685280127143044,
          0.2680482528658108,
          0.2369007201366592,
          0.2728784711973159,
          0.27835442402368704,
          0.28162814714752743,
          0.2890666934869559,
          0.254933410290206,
          0.286656697369735,
          0.300278577902888,
          0.2539149692674412,
          0.2849482222077983,
          0.2333850187243672,
          0.2178539847964362,
          0.3123272083294423,
          0.3241989780717116,
          0.3006446509148883,
          0.29400961288774285,
          0.23459148772787447,
          0.23567217323339998,
          0.24294046608444778,
          0.267732557957348,
          0.28169563180429097,
          0.24209832175578463,
          0.3070537945470631,
          0.23898669852145085,
          0.25022174378129364,
          0.23807450978509206,
          0.27548871331378205,
          0.31505557862909334,
          0.26269414675398783,
          0.2569064109695224,
          0.2406556321474849,
          0.2382918878253146,
          0.2795180172595661,
          0.2626714859957107,
          0.2900254716202754,
          0.28688973683464314,
          0.2650479848716654,
          0.237451023765012,
          0.23303550334193038,
          0.2323257079401255,
          0.33572356803891973,
          0.23724856708929634,
          0.2517848832859197,
          0.23513192948931783,
          0.25328623121552923,
          0.25387968202146727,
          0.23864603846294727,
          0.27647024580028423,
          0.28025389102191034,
          0.29443979904845363,
          0.28510700088872554,
          0.2650038964261304,
          0.288715800692859,
          0.2541667847254124,
          0.2574929541542318,
          0.22985514074621274,
          0.3097856610012001,
          0.22658577455960716,
          0.28149490077557415,
          0.25943662803808715,
          0.2343535352494246,
          0.27950946577659647,
          0.2627842696720871,
          0.2827923080831688,
          0.26470619487487923,
          0.2552885400856753,
          0.2393248720981068,
          0.23800695866786264,
          0.3464796838621443,
          0.2974679803616757,
          0.2673580044124916,
          0.3162504846431228,
          0.19977387395404655,
          0.2889193261490147,
          0.27271373809707194,
          0.2763357957642913,
          0.27513440661942534,
          0.24753500038305906,
          0.2594892515212309,
          0.26591613603458225,
          0.3138238765082103,
          0.2960623848129571,
          0.21175575706351218,
          0.31208698445335237,
          0.2800880068676076,
          0.3372041476442115,
          0.24036471248558908,
          0.27265430721123285,
          0.2273697710913233,
          0.20712232098181996,
          0.23647039382921758,
          0.2730814517647376,
          0.3259292897653456,
          0.24201322350246052,
          0.27952301950295333,
          0.23056305445956607,
          0.2171597732165778,
          0.2702151691601916,
          0.3143052185420715,
          0.3045514648827963,
          0.2715081929521372,
          0.3073247110766139,
          0.27969837968817884,
          0.28268061486503127,
          0.25614417400516604,
          0.2724763453478105,
          0.21633597076565741,
          0.22004888780764642,
          0.23576924956789772,
          0.23625297101049236,
          0.24301010911415005,
          0.24786705355867006,
          0.23547021551189695,
          0.2973380962898007,
          0.25879932148861406,
          0.2380661877575741,
          0.2847137061686399,
          0.23396301816338413,
          0.24642724672679422,
          0.2368833951993956,
          0.2387262227503328,
          0.32411641685138953,
          0.23244775111105745,
          0.22903162224963036,
          0.2882894099760619,
          0.27967342296615083,
          0.3102344528976058,
          0.24076427120365487,
          0.21143145489545725,
          0.25063794258984406,
          0.2767896888722057,
          0.26702653026495954,
          0.25629625033029785,
          0.2566586061670029,
          0.27237343842412637,
          0.2726221361837254,
          0.2938624787575832,
          0.23884534456686057,
          0.29751602634656776,
          0.22897578705693017,
          0.21546451850447637,
          0.2630994009980371,
          0.24435988401394831,
          0.2862873660554629,
          0.3316840804170482,
          0.37079255252621146,
          0.2859135142635967,
          0.23810796609539067,
          0.25395017494591904,
          0.27893769153867926,
          0.2669568122055983,
          0.3170119255248939,
          0.2572894363841916,
          0.19846820210962451,
          0.2217528763589187,
          0.28507440074284834,
          0.31565176529387184,
          0.21046929075198703,
          0.28432989760336885,
          0.24184932367101,
          0.27386689870683667,
          0.2967429969143655,
          0.2169563068467312,
          0.26553711033671634,
          0.28123025159146553,
          0.25402298938933027,
          0.24063493681301704,
          0.2626846651924227,
          0.2621277966492157,
          0.265859674709828,
          0.28656238035898435,
          0.2480898092768677,
          0.23424698422637488,
          0.29855179089579753,
          0.3423663747550398,
          0.29748106818240927,
          0.232961175551208,
          0.24289508174211802,
          0.23535958397414014,
          0.22282167971541228,
          0.2872996624702224,
          0.22919197214185158,
          0.2842778382935491,
          0.3191323828496741,
          0.23797308459545816,
          0.27096547049676195,
          0.22428636418941816,
          0.29037717657914885,
          0.27294128294324516,
          0.2833763225698258,
          0.22633895239430665,
          0.26297701080078073,
          0.2426200187215062,
          0.28197645921454684,
          0.3052370496125739,
          0.2544565622417365,
          0.2961308953306362,
          0.27594949680693986,
          0.31461169064939726,
          0.2986551734946463,
          0.25721193918765695,
          0.30799055748602366,
          0.36180436315890463,
          0.2769908475977721,
          0.23816145585711257,
          0.27410996149710953,
          0.3161567142621293,
          0.26021710203419457,
          0.2709342666616849,
          0.23791166911908587,
          0.2236355454737624,
          0.2266876277316093,
          0.22578086250728502,
          0.25802058246711795,
          0.2033129703491055,
          0.2523136876495897,
          0.27747676207986033,
          0.2719478578090199,
          0.28081423328271865,
          0.2651347559096392,
          0.30419098884474705,
          0.26307680363029323,
          0.2215404037460999,
          0.2238470296933307,
          0.2644726767524096,
          0.36831586842332464,
          0.22866447537457996,
          0.21471102466390096,
          0.22419892567909616,
          0.25150619282360365,
          0.2097386613900732,
          0.2545181469481645,
          0.2607203391961422,
          0.23059817649482126,
          0.2373329718651701,
          0.23843524695380494,
          0.2723489153969585,
          0.22982457213900473,
          0.2642187529546663,
          0.24797668897181574,
          0.302450550249501,
          0.23981504492468295,
          0.2392491117576919,
          0.2778278466283136,
          0.19256220708292598,
          0.2370902759787953,
          0.3051151415818615,
          0.22746758117196056,
          0.2885898400511871,
          0.2903434718802322,
          0.28128745883400735,
          0.24902100658070234,
          0.2760490031241877,
          0.2966237501092509,
          0.2687151754449314,
          0.28054424745535256,
          0.25239017090265936,
          0.21450534634141133,
          0.25742253689154526,
          0.29798013404080514,
          0.24506185678885975,
          0.2731366047779853,
          0.23297750738501807,
          0.23788089315155497,
          0.23481455774417265,
          0.2842969892241161,
          0.2746170464600047,
          0.27551498619244025,
          0.2612625979122808,
          0.2901684852394853,
          0.2729466936796138,
          0.24109675861074562,
          0.24889265148161793,
          0.2615013729613788,
          0.24999930925852512,
          0.3650713124050852,
          0.29094017559388885,
          0.2958097920938033,
          0.3377070561750606,
          0.2474807493483617,
          0.2602557880402875,
          0.29947486929024525,
          0.26452280138319345,
          0.21452248796002912,
          0.267299432443044,
          0.22329795820981466,
          0.264780481916237,
          0.2882830239736788,
          0.29575628413200145,
          0.22726514101686177,
          0.2540649963664211,
          0.3340318678846299,
          0.2677245301381826,
          0.281574575232843,
          0.36314480327041687,
          0.2238579358263486,
          0.3170195769006069,
          0.2442020780606639,
          0.2544790242603526,
          0.2723628589793599,
          0.23089920727713506,
          0.25382278128712493,
          0.24756365955408843,
          0.20365051402203713,
          0.2579052047910715,
          0.24968090477202323,
          0.20506010907049704,
          0.2791627965132071,
          0.24457730643659759,
          0.22531462390818544,
          0.28606629258649524,
          0.21642135553279146,
          0.26109300594373647,
          0.20730216256979794,
          0.26367504901566435,
          0.2758146146386568,
          0.27671931337695227,
          0.2717432823617431,
          0.22910189662819447,
          0.24262251054554057,
          0.270553277100512,
          0.2715956588658232,
          0.26781677969649315,
          0.2753504282470049,
          0.2811762228021873,
          0.26371656720682296,
          0.23545731395924044,
          0.29349979315189395,
          0.23541330554522397,
          0.20291480407026904,
          0.28142516366054315,
          0.23116211507160034,
          0.23928579978501058,
          0.3132496943120149,
          0.28050035346001617,
          0.22809587689398908,
          0.2989104457444729,
          0.30209827920703103,
          0.29715315546509874,
          0.2099818078575489,
          0.29246659313971957,
          0.21952338853663772,
          0.25007157868619795,
          0.25111803009161604,
          0.3041672420425827,
          0.21587382823354961,
          0.22253129489932405,
          0.29410591282704,
          0.32550834813223395,
          0.20653388898907188,
          0.22211214346027053,
          0.30158974705646296,
          0.30396985139300636,
          0.23018234342822658,
          0.2880978066026363,
          0.2338885459663283,
          0.2224952764932241,
          0.2491130743214612,
          0.2212719293343308,
          0.30586763513362,
          0.23195614306096288,
          0.2287163910323412,
          0.2508295406947892,
          0.28252064239625846,
          0.2586040208339299,
          0.2113858779839835,
          0.29210604165148674,
          0.2780682949395651,
          0.30002749587816424,
          0.2531678651102156,
          0.30889275308761754,
          0.25799732362065286,
          0.30332526475078136,
          0.27899767807930137,
          0.28114296465842414,
          0.19524271561967005,
          0.2886374207092456,
          0.2277994697824767,
          0.2707395550005586,
          0.29594841424076707,
          0.24137566920519687,
          0.30591686763187487,
          0.21901759611806085,
          0.3463580881478666,
          0.29906769611624245,
          0.28021244580254356,
          0.23021377991962408,
          0.24159991898831928,
          0.23476593437934398,
          0.25765708172158847,
          0.23832458363242034,
          0.2405607858926468,
          0.2595030959362476,
          0.29339620207731465,
          0.22194557494696315,
          0.27442224365232876,
          0.27707842411600486,
          0.2100602627597348,
          0.3008355298016262,
          0.2880597962409552,
          0.28446208734090866,
          0.23241487440445935,
          0.2538069249047642,
          0.20856816778325277,
          0.20853223043022392,
          0.33247449202916185,
          0.3050316870171288,
          0.21041660946511095,
          0.28686020262609563,
          0.31817847914967456,
          0.25789800236092186,
          0.22480267023824893,
          0.32467993948189894,
          0.24369677023143954,
          0.32044724078907744,
          0.29513414319169756,
          0.325181005334239,
          0.2312303199022151,
          0.2956744971748667,
          0.28358166956016306,
          0.2746943339184518,
          0.2922413405128456,
          0.27199132053216174,
          0.21057304195823173,
          0.3057640201735757,
          0.30009131557508645,
          0.2669809687482383,
          0.2914356024065378,
          0.30022211084974587,
          0.2225564776638406,
          0.25744124415583186,
          0.2511524402274638,
          0.24118907938546752,
          0.2658040542046843,
          0.24511954434389435,
          0.20183719712810014,
          0.23384535996602407,
          0.2341931346022732,
          0.2934080324269883,
          0.2833347107038108,
          0.286717879172684,
          0.21172541134004508,
          0.22347291632596836,
          0.21121905146792977,
          0.2464148966015442,
          0.2167010764949929,
          0.2861091790015365,
          0.2511358627277221,
          0.22064022423686613,
          0.2740966732507274,
          0.32768006624565854,
          0.2570933007970488,
          0.27467505066754366,
          0.22624239229443605,
          0.30483657855671503,
          0.26049812850829945,
          0.21959837167187202,
          0.24761205083332433,
          0.31316655446674835,
          0.26941986328869366,
          0.27081580359406926,
          0.2852846767941468,
          0.26267288137808187,
          0.2926134743082571,
          0.27158235355607185,
          0.2696988716023645,
          0.22938509467775797,
          0.23662991408357287,
          0.2872331111373933,
          0.24978630933452245,
          0.2472287291814782,
          0.23511265590899,
          0.2247861846552302,
          0.2838704441345438,
          0.2549033271192381,
          0.28000125601444675,
          0.3140517107827921,
          0.22737001582512414,
          0.2114084849298721,
          0.20919725266841122,
          0.31291808257969606,
          0.22720172400646196,
          0.23744343762573666,
          0.2761772051052461,
          0.26550264479048524,
          0.2810097718804654,
          0.25696375056547527,
          0.3047172831785582,
          0.21767395208041276,
          0.21541372292020755,
          0.23727484714538047,
          0.3380737095275657,
          0.28986334642708184,
          0.27985023226917627,
          0.24039040356156396,
          0.2534774702580449,
          0.22824990372200576,
          0.2367643172228786,
          0.22579235574710874,
          0.2810367322070585,
          0.2548134570857376,
          0.28712131097394616,
          0.33166776915673185,
          0.22891937244769892,
          0.2740329984581529,
          0.26073930260534195,
          0.2351762309925437,
          0.2377242142431851,
          0.29941565719741414,
          0.29117187170719877,
          0.24742948656061886,
          0.2810575027884943,
          0.31103348898785155,
          0.2914041022012694,
          0.2617293372628681,
          0.22586932209277566,
          0.2338879638516887,
          0.20016404499948134,
          0.2124452572329318,
          0.24488904827796765,
          0.3133733616085076,
          0.25139299341883153,
          0.24815373459167694,
          0.25115956990173266,
          0.25350290511932716,
          0.313837458290346,
          0.2510402526713208,
          0.2704185553224732,
          0.21804389620315384,
          0.23328898388948496,
          0.281703517513973,
          0.3366432234519253,
          0.25700948786614985,
          0.24783386358359805,
          0.27960216743905825,
          0.274061039158191,
          0.3114096701195229,
          0.3088625233353523,
          0.23237039209105798,
          0.24885126876998928,
          0.20732937197783716,
          0.26795570231026483,
          0.22221814658681793,
          0.25209685275252164,
          0.22818631541294362,
          0.2359896002107906,
          0.23418408633884333,
          0.2282126665399151,
          0.3424355550156893,
          0.2336210369563854,
          0.30649737278726635,
          0.22817033200878284,
          0.3239004121558182,
          0.26624660093241787,
          0.2457412104079001,
          0.26575408070773276,
          0.2291660040320408,
          0.239009545364697,
          0.2602889643730716,
          0.31963078471765544,
          0.28304210187623524,
          0.21637144641202657,
          0.25216406646637896,
          0.28039191568936195,
          0.2762458182799235,
          0.21222787316992603,
          0.2851183246078405,
          0.32757113161236795,
          0.26991114357351637,
          0.3068939311800299,
          0.24304136307029112,
          0.2653834155403125,
          0.255920583081997,
          0.25246456717951304,
          0.2525473328614299,
          0.30180160156455377,
          0.3070778740507303,
          0.21010448161776105,
          0.25824590697969596,
          0.24673465738430655,
          0.24941781053440776,
          0.25872528745371537,
          0.2752310314831772,
          0.23805255633889205,
          0.2775216274204187,
          0.24552599869979924,
          0.2572179417803014,
          0.25050272774441573,
          0.21880057636381772,
          0.23559043561962104,
          0.24171691041580845,
          0.25105348224299034,
          0.2689240463004458,
          0.26965559331368794,
          0.27183479300414015,
          0.21270606332606362,
          0.2564198258450274,
          0.20702212987202775,
          0.28368107741687476,
          0.2758962782333796,
          0.2779710421496988,
          0.24105496558976972,
          0.2741268333007201,
          0.2217670908894373,
          0.28400640983415415,
          0.3203537510261498,
          0.22678539803695305,
          0.26284228531151277,
          0.2957400052693364,
          0.2532391036391794,
          0.2832249770540885,
          0.27339397588731806,
          0.2051873972406515,
          0.29367537920938147,
          0.32579137515469986,
          0.20435642356228764,
          0.27760202855129407,
          0.2948196732554133,
          0.25069325283230803,
          0.23277939358792804,
          0.2461085389595592,
          0.25640371302395093,
          0.27712013635407173,
          0.2645437626343131,
          0.2343409986438346,
          0.22990771947815655,
          0.2144326468457594,
          0.24755584086304053,
          0.3153834827617675,
          0.3087118365989773,
          0.24845398061842647,
          0.2676191826021471,
          0.28848407073894433,
          0.27617202449532907,
          0.2742246476927007,
          0.20561252665188512,
          0.25932089405837183,
          0.24218525603330002,
          0.31687705510933806,
          0.2933674137941787,
          0.25825088821843784,
          0.18874771935141155,
          0.21476557658045228,
          0.23354383990750624,
          0.3060585919840922,
          0.27681209611242996,
          0.27101779696866485,
          0.28190529659842123,
          0.2316584723277635,
          0.2764448591769482,
          0.22493592217780103,
          0.3335013407030446,
          0.31574369453982615,
          0.25783909442527625,
          0.2497100622982634,
          0.2702037231978775,
          0.19921773785241226,
          0.22239411252977764,
          0.27794253852378104,
          0.2741038911212564,
          0.22254671207671983,
          0.2611126996156202,
          0.24488072136373293,
          0.19112025626395057,
          0.26181481612127694,
          0.2914189988101507,
          0.2474286773671111,
          0.2842657592688655,
          0.27117652098036266,
          0.2228264058481725,
          0.23617650448391997,
          0.2264147768033353,
          0.24384483519061373,
          0.2568668823641819,
          0.20855750781123655,
          0.2788648013337833,
          0.27951812911897816,
          0.24614437539109166,
          0.25157319705410697,
          0.3111254866671163,
          0.26395589188547663,
          0.22501686438574361,
          0.2928569109221584,
          0.285675451621943,
          0.26345224126390593,
          0.2749256242070175,
          0.25039536331763124,
          0.21186040098910627,
          0.34372490606593165,
          0.2991953460795533,
          0.2967836072075145,
          0.2087364603686929,
          0.24021456727938925,
          0.2965353411240171,
          0.22276662789641422,
          0.25056862582912903,
          0.2744380275162057,
          0.2185308288962183,
          0.25439024026021395,
          0.2859264269641425,
          0.24601602969775818,
          0.24797076696866863,
          0.30266556299913444,
          0.28174048919672856,
          0.37810919234859935,
          0.2762260071385729,
          0.267876269883393,
          0.24506307062196034,
          0.2749222818778196,
          0.28568306989416253,
          0.2669399474379915,
          0.27198792378168873,
          0.23677858796545764,
          0.26472836560841423,
          0.2414712471470195,
          0.23337672359107775,
          0.2590410640352241,
          0.2564786585779495,
          0.2835423582181369,
          0.2178500152542098,
          0.28829136155404783,
          0.2579878565066846,
          0.2827118091318558,
          0.25961839100188494,
          0.2141337831082006,
          0.25371868444975043,
          0.2355080955214329,
          0.27598075410132134,
          0.32020588605538763,
          0.23788663057342255,
          0.26636177757552815,
          0.2852601242996873,
          0.27163170172558737,
          0.26795152954025736,
          0.2781822911288201,
          0.2641000917320345,
          0.26238886546189233,
          0.25959292023141084,
          0.27135521600621076,
          0.24759884438133425,
          0.30893284756508166,
          0.2473806870784594,
          0.29286124267315644,
          0.25182099989210155,
          0.22304845663891978,
          0.27075047772136895,
          0.25523911251523485,
          0.21105483046497178,
          0.31909484844854363,
          0.2439218562546428,
          0.26152180192135405,
          0.2743266152256146,
          0.3022674683281276,
          0.23708678459797092,
          0.2888029615432584,
          0.2831171694004716,
          0.22765412270993707,
          0.2645773702465744,
          0.3355819865025752,
          0.23518855434398528,
          0.2623597304681932,
          0.2873128454706718,
          0.208310412005482,
          0.3023137312039206,
          0.231821024772309,
          0.2537686398452331,
          0.30762014405135285,
          0.2673959775544087,
          0.22495703143473497,
          0.2706417930837388,
          0.2813433801482685,
          0.22758142598500103,
          0.26329422005170144,
          0.25634435004414813,
          0.23831163766786642,
          0.3125602652953648,
          0.3050066722728348,
          0.28303583848700276,
          0.23556703511794977,
          0.22878905545880968,
          0.23875831024359678,
          0.31394776100255206,
          0.28744106970346783,
          0.2482715352121296,
          0.26585315999088566,
          0.21956219392972148,
          0.2573876601001392,
          0.2129441259216772,
          0.2753241137048298,
          0.2538025801011596,
          0.22344177328859294,
          0.26782078289783273,
          0.20645135230742911,
          0.2561684717279473,
          0.2606531809398764,
          0.2516316730733153,
          0.21681948175753052,
          0.29150614072206643,
          0.32560644130630095,
          0.24999515178623566,
          0.2453587389593321,
          0.30104192076902336,
          0.29189914137343237,
          0.25541989376919905,
          0.28495737739270605,
          0.2568427655442729,
          0.26248008285949953,
          0.26543654023570307,
          0.24094853167806224,
          0.26748224953123545,
          0.2754686651738452,
          0.2802736239353978,
          0.29532451179764274,
          0.2777500601333817,
          0.30678272532214984,
          0.28639036913167115,
          0.35700626875767105,
          0.26278240207268555,
          0.24240650789936535,
          0.23562822977225345,
          0.2857263885360549,
          0.235436956903532,
          0.24835519238257686,
          0.2337724877002651,
          0.23050796157741857,
          0.22042107587359888,
          0.25388545121594563,
          0.3192069759445735,
          0.32791161746443936,
          0.23324993781427772,
          0.2804430782575557,
          0.2688491569507116,
          0.2802318255640849,
          0.24692267771340037,
          0.2776189916298775,
          0.2732004122215743,
          0.2703979250480071,
          0.248266576156981,
          0.2694902467020574,
          0.2680478867942443,
          0.25216631593643674,
          0.29941787331923747,
          0.2700236190382728,
          0.30195092723966804,
          0.2580831950408852,
          0.2599920612385622,
          0.2668967001228423,
          0.23372966765252065,
          0.34025825139882465,
          0.3129900614625203,
          0.24978214617244143,
          0.256231418152612,
          0.26635402519424806,
          0.2339507396306483,
          0.2383035296987113,
          0.2217110495600734,
          0.2891501044786049,
          0.24846123935535186,
          0.2352074642431722,
          0.22962665978769933,
          0.2547220572003407,
          0.19015196198808895,
          0.3111483109687338,
          0.275922734207624,
          0.2296343123386045,
          0.28567197684577544,
          0.23476106242471387,
          0.21892571475913586,
          0.30353482094613793,
          0.2596563883626184,
          0.2896193007370046,
          0.25057002792265926,
          0.2593657330455026,
          0.22116358217799464,
          0.21141153701030083,
          0.23522987313021204,
          0.22416567355452705,
          0.323482844995546,
          0.2564270328461811,
          0.26739359666769225,
          0.3044251730658908,
          0.2473078755858172,
          0.23750600980507733,
          0.2731190041785313,
          0.23017134437909537,
          0.32328951166911696,
          0.2400786659190919,
          0.23137316733939264,
          0.23301716683572118,
          0.3291997780499191,
          0.267589013265457,
          0.23256592906093493,
          0.34559772009051476,
          0.25694135851185146,
          0.21445228893685309,
          0.3118310852254538,
          0.22988121962607122,
          0.2438740969395868,
          0.2647663723419596,
          0.28216685743701625,
          0.29845724936784895,
          0.2686967904037162,
          0.286799852126588,
          0.2942833136815284,
          0.3179097766297042,
          0.2532527890270512,
          0.2703277340727097,
          0.3001592621576322,
          0.24052969340287034,
          0.26156656426968544,
          0.2528329499808944,
          0.2613365262261947,
          0.2622995240382925,
          0.28388248653633874,
          0.25543738353930373,
          0.2855001012442406,
          0.20946522721350969,
          0.20128229034564596,
          0.25558101906587793,
          0.2922365349327595,
          0.21692574890489877,
          0.23814772596093164,
          0.22240702859132536,
          0.28480832672390993,
          0.2660976708824261,
          0.24263724184356908,
          0.25017802256909505,
          0.2880366089963528,
          0.26607953765732373,
          0.2832471812076244,
          0.2712067580768223,
          0.2631699918537158,
          0.2442122516197879,
          0.21831892205451656,
          0.21518513341414455,
          0.2801246378725382,
          0.22782418607883678,
          0.2328497536618462,
          0.2562854991260325,
          0.3026126890189396,
          0.26372396221528155,
          0.30012879928733166,
          0.2955619650876216,
          0.27481970976685616,
          0.2550588400892081,
          0.24942125621530353,
          0.350350027611404,
          0.2617945284691838,
          0.25710272621264824,
          0.2662667651056381,
          0.24704646001164307,
          0.2910402307778037,
          0.21768431197489804,
          0.29280997637307127,
          0.29716859910151233,
          0.29563251801388507,
          0.257100395846988,
          0.27809831893870574,
          0.27945996546783214,
          0.3162651898320525,
          0.23345572433884326,
          0.29586027246974944,
          0.23452464864748662,
          0.28052855815153477,
          0.2381643847884752,
          0.2660098967540529,
          0.24071524380680367,
          0.26718084726890134,
          0.24927936189017935,
          0.2772077745936439,
          0.3215664886222838,
          0.23032578161551814,
          0.28927471787254844,
          0.24376850859942467,
          0.22354918885624614,
          0.22117424104428973,
          0.2771475704810312,
          0.24080599156161991,
          0.21203251634958234,
          0.2433550679387519,
          0.2705544904570636,
          0.21261350200467993,
          0.20610733960330468,
          0.2931827164982671,
          0.25219896461317026,
          0.29934947695476666,
          0.29767685503597563,
          0.2532962717432723,
          0.2849447055504968,
          0.3341774175758013,
          0.25478020351377356,
          0.33025994386909996,
          0.1993859734214438,
          0.25480819919689696,
          0.2485034482872892,
          0.26954252823402397,
          0.31034309532654764,
          0.23044843273577229,
          0.27749083371171146,
          0.28359095463141254,
          0.2918892912074308,
          0.23873047727643995,
          0.28188916514333057,
          0.27089753810982675,
          0.29717344510588556,
          0.2850169276005748,
          0.31924000602776514,
          0.25906756838179434,
          0.22810492355904952,
          0.3051095343524871,
          0.26219868154907605,
          0.26502931701282156,
          0.2597590418418303,
          0.29668637668272985,
          0.26811108232957903,
          0.2739660079107674,
          0.3325680459169523,
          0.2280426076565752,
          0.2556200905694048,
          0.23621311820106036,
          0.22537261432010247,
          0.2805047539980022,
          0.2699641045256134,
          0.23534582926054848,
          0.3207316277993586,
          0.2407927712096282,
          0.271265622512549,
          0.20724283343696226,
          0.33749427784533054,
          0.2793647363221205,
          0.2543143830036338,
          0.27118042965431044,
          0.26960032116829613,
          0.318645231756926,
          0.2898694823208187,
          0.27435521982850214,
          0.27536278675279113,
          0.28488732480451306,
          0.26135304256125236,
          0.2498277236378516,
          0.28826397740624193,
          0.2940821026240008,
          0.26095832900305027,
          0.2989789113370761,
          0.2952343440384053,
          0.28499136660997637,
          0.23252447431822354,
          0.21503098336042908,
          0.2929228651319382,
          0.2689478469540459,
          0.30955378867644906,
          0.2836164477458682,
          0.24261393830308314,
          0.2316528328564794,
          0.2747759742068652,
          0.26654854022250535,
          0.3502539818357034,
          0.19313930366945303,
          0.244007715963805,
          0.2801972747005624,
          0.26679400439214507,
          0.21630835670615756,
          0.31275285734214026,
          0.29418760948442624,
          0.23331979123643484,
          0.2888564170829789,
          0.24623995114157612,
          0.31386326092833766,
          0.32141748009821,
          0.24556231061656175,
          0.24352242007278563,
          0.2574256415398408,
          0.28013135319667637,
          0.30444624935499626,
          0.2593059721797118,
          0.2338222270259795,
          0.22520395416167424,
          0.26127676187272336,
          0.2482976906309421,
          0.28622558209722226,
          0.2613239084010542,
          0.3174438434621312,
          0.25982223745143385,
          0.23291422564161268,
          0.2617325077261887,
          0.25034668690197426,
          0.2500748236601599,
          0.27829062934017723,
          0.2364973697287595,
          0.24616812337439442,
          0.25096622956196596,
          0.20662079955232054,
          0.2528240185781995,
          0.2523914656537223,
          0.3393102954175811,
          0.22399533120328136,
          0.2363229071180907,
          0.2452207933175306,
          0.30423843617750884,
          0.260439540121478,
          0.22791868924024236,
          0.26250773023542107,
          0.2462459885005256,
          0.2840500012257436,
          0.23626696305157202,
          0.22925557602563598,
          0.26007004329164324,
          0.2951053945197617,
          0.2746497592740271,
          0.27784068095352193,
          0.27891208116671207,
          0.2764007247730528,
          0.2974356684140096,
          0.3240169240885631,
          0.28933603394621465,
          0.22736009713875902,
          0.2710097011883786,
          0.23772212269368476,
          0.2154683609229054,
          0.2627962184548079,
          0.22122316614206647,
          0.29299570988789575,
          0.2399118944403811,
          0.28392167313847816,
          0.22758765907479378,
          0.2018825587599756,
          0.357217930231431,
          0.31179963001336986,
          0.220191576565771,
          0.29234827087649623,
          0.2196597349142735,
          0.28317743728139366,
          0.2684505107508313,
          0.28228047195757405,
          0.25850642189464407,
          0.2258361912494956,
          0.19373197519949883,
          0.29548544651265385,
          0.31124928173517047,
          0.25832643864857857,
          0.25979000308207034,
          0.27798814406044,
          0.22769777455289658,
          0.20888571362649525,
          0.27892895358771347,
          0.2581610018737022,
          0.23951618494142196,
          0.23110919929542578,
          0.252043235758642,
          0.27093956776150796,
          0.23069661958785234,
          0.2482287665538994,
          0.3156650284880984,
          0.30851469543417265,
          0.32680787242090575,
          0.3341919977465537,
          0.26501638322177956,
          0.24860720525082608,
          0.2880847945543284,
          0.2469850077833816,
          0.3060141351365597,
          0.25916678592928855,
          0.2419392794819263,
          0.24660542547047018,
          0.27879306167529905,
          0.27258402468366405,
          0.3028094866359926,
          0.2578184693013883,
          0.23716066787528078,
          0.26883695269721586,
          0.29093732530988853,
          0.296668799153328,
          0.3065656008075126,
          0.3233854217042687,
          0.270926074344998,
          0.23790064343750483,
          0.22546208963216485,
          0.28686212644860437,
          0.22899729479844522,
          0.23475783959597132,
          0.3031183853631695,
          0.27571595604920857,
          0.2854628340829018,
          0.30915938760213496,
          0.3233278286239296,
          0.22882225967294892,
          0.2397783749222096
         ],
         "yaxis": "y"
        },
        {
         "hoverinfo": "text",
         "marker": {
          "color": "#54AC88",
          "size": 20,
          "symbol": "x"
         },
         "name": "Min Risk Portfolio",
         "text": [
          "Min. Risk Portfolio"
         ],
         "type": "scatter",
         "x": [
          0.09152589654494672
         ],
         "y": [
          0.19313930366945303
         ]
        },
        {
         "hoverinfo": "text",
         "marker": {
          "color": "#B07AA1",
          "size": 20,
          "symbol": "star"
         },
         "name": "Max Sharpe Portfolio",
         "text": [
          "Max. Sharpe Portfolio"
         ],
         "type": "scatter",
         "x": [
          0.10811757436818185
         ],
         "y": [
          0.23559043561962104
         ]
        }
       ],
       "layout": {
        "autosize": true,
        "coloraxis": {
         "colorbar": {
          "title": {
           "text": "Sharpe Ratio"
          }
         },
         "colorscale": [
          [
           0,
           "rgb(209, 238, 234)"
          ],
          [
           0.16666666666666666,
           "rgb(168, 219, 217)"
          ],
          [
           0.3333333333333333,
           "rgb(133, 196, 201)"
          ],
          [
           0.5,
           "rgb(104, 171, 184)"
          ],
          [
           0.6666666666666666,
           "rgb(79, 144, 166)"
          ],
          [
           0.8333333333333334,
           "rgb(59, 115, 143)"
          ],
          [
           1,
           "rgb(42, 86, 116)"
          ]
         ]
        },
        "font": {
         "size": 16
        },
        "legend": {
         "tracegroupgap": 0,
         "x": 0.01,
         "xanchor": "left",
         "y": 0.95,
         "yanchor": "top"
        },
        "margin": {
         "t": 60
        },
        "paper_bgcolor": "White",
        "plot_bgcolor": "White",
        "template": {
         "data": {
          "bar": [
           {
            "error_x": {
             "color": "#2a3f5f"
            },
            "error_y": {
             "color": "#2a3f5f"
            },
            "marker": {
             "line": {
              "color": "#E5ECF6",
              "width": 0.5
             },
             "pattern": {
              "fillmode": "overlay",
              "size": 10,
              "solidity": 0.2
             }
            },
            "type": "bar"
           }
          ],
          "barpolar": [
           {
            "marker": {
             "line": {
              "color": "#E5ECF6",
              "width": 0.5
             },
             "pattern": {
              "fillmode": "overlay",
              "size": 10,
              "solidity": 0.2
             }
            },
            "type": "barpolar"
           }
          ],
          "carpet": [
           {
            "aaxis": {
             "endlinecolor": "#2a3f5f",
             "gridcolor": "white",
             "linecolor": "white",
             "minorgridcolor": "white",
             "startlinecolor": "#2a3f5f"
            },
            "baxis": {
             "endlinecolor": "#2a3f5f",
             "gridcolor": "white",
             "linecolor": "white",
             "minorgridcolor": "white",
             "startlinecolor": "#2a3f5f"
            },
            "type": "carpet"
           }
          ],
          "choropleth": [
           {
            "colorbar": {
             "outlinewidth": 0,
             "ticks": ""
            },
            "type": "choropleth"
           }
          ],
          "contour": [
           {
            "colorbar": {
             "outlinewidth": 0,
             "ticks": ""
            },
            "colorscale": [
             [
              0,
              "#0d0887"
             ],
             [
              0.1111111111111111,
              "#46039f"
             ],
             [
              0.2222222222222222,
              "#7201a8"
             ],
             [
              0.3333333333333333,
              "#9c179e"
             ],
             [
              0.4444444444444444,
              "#bd3786"
             ],
             [
              0.5555555555555556,
              "#d8576b"
             ],
             [
              0.6666666666666666,
              "#ed7953"
             ],
             [
              0.7777777777777778,
              "#fb9f3a"
             ],
             [
              0.8888888888888888,
              "#fdca26"
             ],
             [
              1,
              "#f0f921"
             ]
            ],
            "type": "contour"
           }
          ],
          "contourcarpet": [
           {
            "colorbar": {
             "outlinewidth": 0,
             "ticks": ""
            },
            "type": "contourcarpet"
           }
          ],
          "heatmap": [
           {
            "colorbar": {
             "outlinewidth": 0,
             "ticks": ""
            },
            "colorscale": [
             [
              0,
              "#0d0887"
             ],
             [
              0.1111111111111111,
              "#46039f"
             ],
             [
              0.2222222222222222,
              "#7201a8"
             ],
             [
              0.3333333333333333,
              "#9c179e"
             ],
             [
              0.4444444444444444,
              "#bd3786"
             ],
             [
              0.5555555555555556,
              "#d8576b"
             ],
             [
              0.6666666666666666,
              "#ed7953"
             ],
             [
              0.7777777777777778,
              "#fb9f3a"
             ],
             [
              0.8888888888888888,
              "#fdca26"
             ],
             [
              1,
              "#f0f921"
             ]
            ],
            "type": "heatmap"
           }
          ],
          "heatmapgl": [
           {
            "colorbar": {
             "outlinewidth": 0,
             "ticks": ""
            },
            "colorscale": [
             [
              0,
              "#0d0887"
             ],
             [
              0.1111111111111111,
              "#46039f"
             ],
             [
              0.2222222222222222,
              "#7201a8"
             ],
             [
              0.3333333333333333,
              "#9c179e"
             ],
             [
              0.4444444444444444,
              "#bd3786"
             ],
             [
              0.5555555555555556,
              "#d8576b"
             ],
             [
              0.6666666666666666,
              "#ed7953"
             ],
             [
              0.7777777777777778,
              "#fb9f3a"
             ],
             [
              0.8888888888888888,
              "#fdca26"
             ],
             [
              1,
              "#f0f921"
             ]
            ],
            "type": "heatmapgl"
           }
          ],
          "histogram": [
           {
            "marker": {
             "pattern": {
              "fillmode": "overlay",
              "size": 10,
              "solidity": 0.2
             }
            },
            "type": "histogram"
           }
          ],
          "histogram2d": [
           {
            "colorbar": {
             "outlinewidth": 0,
             "ticks": ""
            },
            "colorscale": [
             [
              0,
              "#0d0887"
             ],
             [
              0.1111111111111111,
              "#46039f"
             ],
             [
              0.2222222222222222,
              "#7201a8"
             ],
             [
              0.3333333333333333,
              "#9c179e"
             ],
             [
              0.4444444444444444,
              "#bd3786"
             ],
             [
              0.5555555555555556,
              "#d8576b"
             ],
             [
              0.6666666666666666,
              "#ed7953"
             ],
             [
              0.7777777777777778,
              "#fb9f3a"
             ],
             [
              0.8888888888888888,
              "#fdca26"
             ],
             [
              1,
              "#f0f921"
             ]
            ],
            "type": "histogram2d"
           }
          ],
          "histogram2dcontour": [
           {
            "colorbar": {
             "outlinewidth": 0,
             "ticks": ""
            },
            "colorscale": [
             [
              0,
              "#0d0887"
             ],
             [
              0.1111111111111111,
              "#46039f"
             ],
             [
              0.2222222222222222,
              "#7201a8"
             ],
             [
              0.3333333333333333,
              "#9c179e"
             ],
             [
              0.4444444444444444,
              "#bd3786"
             ],
             [
              0.5555555555555556,
              "#d8576b"
             ],
             [
              0.6666666666666666,
              "#ed7953"
             ],
             [
              0.7777777777777778,
              "#fb9f3a"
             ],
             [
              0.8888888888888888,
              "#fdca26"
             ],
             [
              1,
              "#f0f921"
             ]
            ],
            "type": "histogram2dcontour"
           }
          ],
          "mesh3d": [
           {
            "colorbar": {
             "outlinewidth": 0,
             "ticks": ""
            },
            "type": "mesh3d"
           }
          ],
          "parcoords": [
           {
            "line": {
             "colorbar": {
              "outlinewidth": 0,
              "ticks": ""
             }
            },
            "type": "parcoords"
           }
          ],
          "pie": [
           {
            "automargin": true,
            "type": "pie"
           }
          ],
          "scatter": [
           {
            "fillpattern": {
             "fillmode": "overlay",
             "size": 10,
             "solidity": 0.2
            },
            "type": "scatter"
           }
          ],
          "scatter3d": [
           {
            "line": {
             "colorbar": {
              "outlinewidth": 0,
              "ticks": ""
             }
            },
            "marker": {
             "colorbar": {
              "outlinewidth": 0,
              "ticks": ""
             }
            },
            "type": "scatter3d"
           }
          ],
          "scattercarpet": [
           {
            "marker": {
             "colorbar": {
              "outlinewidth": 0,
              "ticks": ""
             }
            },
            "type": "scattercarpet"
           }
          ],
          "scattergeo": [
           {
            "marker": {
             "colorbar": {
              "outlinewidth": 0,
              "ticks": ""
             }
            },
            "type": "scattergeo"
           }
          ],
          "scattergl": [
           {
            "marker": {
             "colorbar": {
              "outlinewidth": 0,
              "ticks": ""
             }
            },
            "type": "scattergl"
           }
          ],
          "scattermapbox": [
           {
            "marker": {
             "colorbar": {
              "outlinewidth": 0,
              "ticks": ""
             }
            },
            "type": "scattermapbox"
           }
          ],
          "scatterpolar": [
           {
            "marker": {
             "colorbar": {
              "outlinewidth": 0,
              "ticks": ""
             }
            },
            "type": "scatterpolar"
           }
          ],
          "scatterpolargl": [
           {
            "marker": {
             "colorbar": {
              "outlinewidth": 0,
              "ticks": ""
             }
            },
            "type": "scatterpolargl"
           }
          ],
          "scatterternary": [
           {
            "marker": {
             "colorbar": {
              "outlinewidth": 0,
              "ticks": ""
             }
            },
            "type": "scatterternary"
           }
          ],
          "surface": [
           {
            "colorbar": {
             "outlinewidth": 0,
             "ticks": ""
            },
            "colorscale": [
             [
              0,
              "#0d0887"
             ],
             [
              0.1111111111111111,
              "#46039f"
             ],
             [
              0.2222222222222222,
              "#7201a8"
             ],
             [
              0.3333333333333333,
              "#9c179e"
             ],
             [
              0.4444444444444444,
              "#bd3786"
             ],
             [
              0.5555555555555556,
              "#d8576b"
             ],
             [
              0.6666666666666666,
              "#ed7953"
             ],
             [
              0.7777777777777778,
              "#fb9f3a"
             ],
             [
              0.8888888888888888,
              "#fdca26"
             ],
             [
              1,
              "#f0f921"
             ]
            ],
            "type": "surface"
           }
          ],
          "table": [
           {
            "cells": {
             "fill": {
              "color": "#EBF0F8"
             },
             "line": {
              "color": "white"
             }
            },
            "header": {
             "fill": {
              "color": "#C8D4E3"
             },
             "line": {
              "color": "white"
             }
            },
            "type": "table"
           }
          ]
         },
         "layout": {
          "annotationdefaults": {
           "arrowcolor": "#2a3f5f",
           "arrowhead": 0,
           "arrowwidth": 1
          },
          "autotypenumbers": "strict",
          "coloraxis": {
           "colorbar": {
            "outlinewidth": 0,
            "ticks": ""
           }
          },
          "colorscale": {
           "diverging": [
            [
             0,
             "#8e0152"
            ],
            [
             0.1,
             "#c51b7d"
            ],
            [
             0.2,
             "#de77ae"
            ],
            [
             0.3,
             "#f1b6da"
            ],
            [
             0.4,
             "#fde0ef"
            ],
            [
             0.5,
             "#f7f7f7"
            ],
            [
             0.6,
             "#e6f5d0"
            ],
            [
             0.7,
             "#b8e186"
            ],
            [
             0.8,
             "#7fbc41"
            ],
            [
             0.9,
             "#4d9221"
            ],
            [
             1,
             "#276419"
            ]
           ],
           "sequential": [
            [
             0,
             "#0d0887"
            ],
            [
             0.1111111111111111,
             "#46039f"
            ],
            [
             0.2222222222222222,
             "#7201a8"
            ],
            [
             0.3333333333333333,
             "#9c179e"
            ],
            [
             0.4444444444444444,
             "#bd3786"
            ],
            [
             0.5555555555555556,
             "#d8576b"
            ],
            [
             0.6666666666666666,
             "#ed7953"
            ],
            [
             0.7777777777777778,
             "#fb9f3a"
            ],
            [
             0.8888888888888888,
             "#fdca26"
            ],
            [
             1,
             "#f0f921"
            ]
           ],
           "sequentialminus": [
            [
             0,
             "#0d0887"
            ],
            [
             0.1111111111111111,
             "#46039f"
            ],
            [
             0.2222222222222222,
             "#7201a8"
            ],
            [
             0.3333333333333333,
             "#9c179e"
            ],
            [
             0.4444444444444444,
             "#bd3786"
            ],
            [
             0.5555555555555556,
             "#d8576b"
            ],
            [
             0.6666666666666666,
             "#ed7953"
            ],
            [
             0.7777777777777778,
             "#fb9f3a"
            ],
            [
             0.8888888888888888,
             "#fdca26"
            ],
            [
             1,
             "#f0f921"
            ]
           ]
          },
          "colorway": [
           "#636efa",
           "#EF553B",
           "#00cc96",
           "#ab63fa",
           "#FFA15A",
           "#19d3f3",
           "#FF6692",
           "#B6E880",
           "#FF97FF",
           "#FECB52"
          ],
          "font": {
           "color": "#2a3f5f"
          },
          "geo": {
           "bgcolor": "white",
           "lakecolor": "white",
           "landcolor": "#E5ECF6",
           "showlakes": true,
           "showland": true,
           "subunitcolor": "white"
          },
          "hoverlabel": {
           "align": "left"
          },
          "hovermode": "closest",
          "mapbox": {
           "style": "light"
          },
          "paper_bgcolor": "white",
          "plot_bgcolor": "#E5ECF6",
          "polar": {
           "angularaxis": {
            "gridcolor": "white",
            "linecolor": "white",
            "ticks": ""
           },
           "bgcolor": "#E5ECF6",
           "radialaxis": {
            "gridcolor": "white",
            "linecolor": "white",
            "ticks": ""
           }
          },
          "scene": {
           "xaxis": {
            "backgroundcolor": "#E5ECF6",
            "gridcolor": "white",
            "gridwidth": 2,
            "linecolor": "white",
            "showbackground": true,
            "ticks": "",
            "zerolinecolor": "white"
           },
           "yaxis": {
            "backgroundcolor": "#E5ECF6",
            "gridcolor": "white",
            "gridwidth": 2,
            "linecolor": "white",
            "showbackground": true,
            "ticks": "",
            "zerolinecolor": "white"
           },
           "zaxis": {
            "backgroundcolor": "#E5ECF6",
            "gridcolor": "white",
            "gridwidth": 2,
            "linecolor": "white",
            "showbackground": true,
            "ticks": "",
            "zerolinecolor": "white"
           }
          },
          "shapedefaults": {
           "line": {
            "color": "#2a3f5f"
           }
          },
          "ternary": {
           "aaxis": {
            "gridcolor": "white",
            "linecolor": "white",
            "ticks": ""
           },
           "baxis": {
            "gridcolor": "white",
            "linecolor": "white",
            "ticks": ""
           },
           "bgcolor": "#E5ECF6",
           "caxis": {
            "gridcolor": "white",
            "linecolor": "white",
            "ticks": ""
           }
          },
          "title": {
           "x": 0.05
          },
          "xaxis": {
           "automargin": true,
           "gridcolor": "white",
           "linecolor": "white",
           "ticks": "",
           "title": {
            "standoff": 15
           },
           "zerolinecolor": "white",
           "zerolinewidth": 2
          },
          "yaxis": {
           "automargin": true,
           "gridcolor": "white",
           "linecolor": "white",
           "ticks": "",
           "title": {
            "standoff": 15
           },
           "zerolinecolor": "white",
           "zerolinewidth": 2
          }
         }
        },
        "title": {
         "text": "Risk vs. Return of All Simulated Portfolios"
        },
        "xaxis": {
         "anchor": "y",
         "domain": [
          0,
          1
         ],
         "gridcolor": "lightgray",
         "tickformat": ".2%",
         "title": {
          "text": "Risk (Standard Deviation of the Portfolio)"
         }
        },
        "yaxis": {
         "anchor": "x",
         "domain": [
          0,
          1
         ],
         "tickformat": ".2%",
         "title": {
          "text": "Expected Return"
         }
        }
       }
      }
     },
     "metadata": {},
     "output_type": "display_data"
    }
   ],
   "source": [
    "simulationViewer.plotRiskVsReturnVsSharpe(TRANSPARENCY_LEVEL=0.33)"
   ]
  },
  {
   "cell_type": "markdown",
   "id": "e95c1c4b",
   "metadata": {},
   "source": [
    "### Save all Relevant Data and Plots"
   ]
  },
  {
   "cell_type": "code",
   "execution_count": 10,
   "id": "df9b4581",
   "metadata": {},
   "outputs": [
    {
     "name": "stdout",
     "output_type": "stream",
     "text": [
      "Input_Parameters saved to:\t\t Output_Data/2025-08-29 10_44/Input_Parameters.csv\n",
      "All_Simulated_Weights saved to:\t\t Output_Data/2025-08-29 10_44/All_Simulated_Weights.csv\n",
      "All_Simulated_Weights_Stats saved to:\t\t Output_Data/2025-08-29 10_44/All_Simulated_Weights_Stats.csv\n",
      "Min_Risk_Portfolio saved to:\t\t Output_Data/2025-08-29 10_44/Min_Risk_Portfolio.csv\n",
      "Max_Sharpe_Portfolio saved to:\t\t Output_Data/2025-08-29 10_44/Max_Sharpe_Portfolio.csv\n",
      "Expected_Returns saved to:\t\t Output_Data/2025-08-29 10_44/Expected_Returns.csv\n",
      "Expected_Returns_Stats saved to:\t\t Output_Data/2025-08-29 10_44/Expected_Returns_Stats.csv\n"
     ]
    }
   ],
   "source": [
    "simulationViewer.exportSimulationData()"
   ]
  }
 ],
 "metadata": {
  "kernelspec": {
   "display_name": "Python 3",
   "language": "python",
   "name": "python3"
  },
  "language_info": {
   "codemirror_mode": {
    "name": "ipython",
    "version": 3
   },
   "file_extension": ".py",
   "mimetype": "text/x-python",
   "name": "python",
   "nbconvert_exporter": "python",
   "pygments_lexer": "ipython3",
   "version": "3.9.2"
  },
  "varInspector": {
   "cols": {
    "lenName": 16,
    "lenType": 16,
    "lenVar": 40
   },
   "kernels_config": {
    "python": {
     "delete_cmd_postfix": "",
     "delete_cmd_prefix": "del ",
     "library": "var_list.py",
     "varRefreshCmd": "print(var_dic_list())"
    },
    "r": {
     "delete_cmd_postfix": ") ",
     "delete_cmd_prefix": "rm(",
     "library": "var_list.r",
     "varRefreshCmd": "cat(var_dic_list()) "
    }
   },
   "oldHeight": 122.85,
   "position": {
    "height": "40px",
    "left": "1170.4px",
    "right": "20px",
    "top": "89px",
    "width": "350px"
   },
   "types_to_exclude": [
    "module",
    "function",
    "builtin_function_or_method",
    "instance",
    "_Feature"
   ],
   "varInspector_section_display": "none",
   "window_display": true
  }
 },
 "nbformat": 4,
 "nbformat_minor": 5
}
