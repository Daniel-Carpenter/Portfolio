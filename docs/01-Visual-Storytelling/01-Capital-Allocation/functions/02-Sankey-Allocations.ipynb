{
 "cells": [
  {
   "cell_type": "markdown",
   "id": "5650af1d",
   "metadata": {},
   "source": [
    "# Sankey Diagram - Capital Allocation"
   ]
  },
  {
   "cell_type": "markdown",
   "id": "56a810f4",
   "metadata": {},
   "source": [
    "## Packages"
   ]
  },
  {
   "cell_type": "code",
   "execution_count": 1,
   "id": "d573e2f5",
   "metadata": {},
   "outputs": [],
   "source": [
    "import pandas as pd\n",
    "import plotly.graph_objects as go"
   ]
  },
  {
   "cell_type": "markdown",
   "id": "c3085b50",
   "metadata": {},
   "source": [
    "## Data Import"
   ]
  },
  {
   "cell_type": "code",
   "execution_count": 2,
   "id": "392525ef",
   "metadata": {},
   "outputs": [],
   "source": [
    "filePath = \"\"\n",
    "excelFileName = \"../data/Sankey Diagram Data.xlsx\"\n",
    "outputFilename = '../../../output/Sankey.png'\n",
    "\n",
    "nodesSheetName = 'Nodes'\n",
    "linksSheetName = 'Links'\n",
    "\n",
    "# Read in nodes data\n",
    "node_df = pd.read_excel(filePath + excelFileName, sheet_name=nodesSheetName, engine='openpyxl')\n",
    "\n",
    "# Read in link data\n",
    "link_df = pd.read_excel(filePath + excelFileName, sheet_name=linksSheetName, engine='openpyxl')"
   ]
  },
  {
   "cell_type": "markdown",
   "id": "bc0cc5e8",
   "metadata": {},
   "source": [
    "## Inputs to Chart Aesthetics"
   ]
  },
  {
   "cell_type": "code",
   "execution_count": 3,
   "id": "b80ce532",
   "metadata": {},
   "outputs": [],
   "source": [
    "titleText       = \"FY 2026 Sources and Uses of Cash\""
   ]
  },
  {
   "cell_type": "code",
   "execution_count": 4,
   "id": "be72dc09",
   "metadata": {},
   "outputs": [],
   "source": [
    "# File name to and dimensions when exporting chart\n",
    "outHeight = 1400 \n",
    "outWidth  = 1700\n",
    "OUTPUT_SCALED_BY = 0.8\n",
    "\n",
    "# Node parameters\n",
    "textFontSize  = 24\n",
    "nodePad       = 30\n",
    "nodeThickness = 17.5\n",
    "nodeLine      = dict(width=0)\n",
    "\n",
    "# Graph parameters\n",
    "\n",
    "## Title\n",
    "titleFontSize   = 27\n",
    "\n",
    "## Caption\n",
    "captionText     = ''\n",
    "captionFontSize = 16\n",
    "\n",
    "## General Fonts\n",
    "fontFamily      = 'Arial'\n",
    "fontColor       = '#363636'\n",
    "paperBgcolor    = 'rgba(0, 0, 0, 0)' # change to 'white' if you want shadows on text \n",
    "plotBgcolor     = 'rgba(0, 0, 0, 0)' # \"\"\n",
    "\n",
    "## Tool tip\n",
    "nodeTextSize  = 12\n",
    "linkHoverTemplate = '%{source.label} → %{target.label}<br>$%{value:,.2f} M'\n",
    "nodeHoverTemplate = f'<span style=\"font-family:{fontFamily}; font-size:{nodeTextSize}px;\">%{{label}}<br>$%{{value:,.2f}} M</span>'"
   ]
  },
  {
   "cell_type": "markdown",
   "id": "07035cd5",
   "metadata": {},
   "source": [
    "## Create/Save the Graph"
   ]
  },
  {
   "cell_type": "code",
   "execution_count": 5,
   "id": "d7e19ae6",
   "metadata": {},
   "outputs": [
    {
     "data": {
      "application/vnd.plotly.v1+json": {
       "config": {
        "plotlyServerURL": "https://plot.ly"
       },
       "data": [
        {
         "arrangement": "snap",
         "link": {
          "color": [
           "#f2a896",
           "#a8d3de",
           "#c7bbdb",
           "#c2dcd1",
           "#a8d3de",
           "#a8d3de",
           "#a8d3de",
           "#a8d3de",
           "#a8d3de",
           "#a8d3de",
           "#a8d3de"
          ],
          "hoverlabel": {
           "font": {
            "family": "Arial"
           }
          },
          "hovertemplate": "%{source.label} → %{target.label}<br>$%{value:,.2f} M",
          "source": [
           1,
           0,
           0,
           0,
           2,
           2,
           2,
           2,
           2,
           2,
           2
          ],
          "target": [
           2,
           2,
           3,
           4,
           5,
           6,
           7,
           8,
           9,
           10,
           11
          ],
          "value": [
           10,
           65,
           15,
           10,
           50,
           5,
           5,
           5,
           5,
           4,
           1
          ]
         },
         "node": {
          "color": [
           "#F1F1F1",
           "#b27a6d",
           "#7a9ba3",
           "#9289a1",
           "#8ea199",
           "#7a9ba3",
           "#7a9ba3",
           "#7a9ba3",
           "#7a9ba3",
           "#7a9ba3",
           "#7a9ba3",
           "#7a9ba3"
          ],
          "hovertemplate": "<span style=\"font-family:Arial; font-size:12px;\">%{label}<br>$%{value:,.2f} M</span>",
          "label": [
           "$75 MM | <b>Sources of Cash<b>",
           "$10 MM | <b>Debt Financing<b>",
           "$85 MM | <b>Uses of Cash<b>",
           "$15 MM | <b>Investments<b>",
           "$10 MM | <b>Retention of Cash<b>",
           "$50 MM | <b>Operating Needs<b>",
           "$5 MM | <b>R&D<b>",
           "$5 MM | <b>Financing Activities<b>",
           "$5 MM | <b>Capital Expenditures<b>",
           "$5 MM | <b>Acquisitions / M&A outflows<b>",
           "$4 MM | <b>Depreciation & Amortization<b>",
           "$1 MM | <b>Shareholder Returns<b>"
          ],
          "line": {
           "width": 0
          },
          "pad": 30,
          "thickness": 17.5,
          "x": [
           0.001,
           0.001,
           0.5,
           0.5,
           0.5,
           0.999,
           0.999,
           0.999,
           0.999,
           0.999,
           0.999,
           0.999
          ],
          "y": [
           0.001,
           0.001,
           0.001,
           0.65,
           0.8,
           0.001,
           0.3,
           0.001,
           0.001,
           0.2,
           0.001,
           0.001
          ]
         },
         "orientation": "h",
         "type": "sankey"
        }
       ],
       "layout": {
        "annotations": [
         {
          "font": {
           "color": "#363636",
           "family": "Arial",
           "size": 16
          },
          "showarrow": false,
          "text": "",
          "x": 0,
          "xanchor": "left",
          "xref": "paper",
          "y": -0.1,
          "yanchor": "bottom",
          "yref": "paper"
         }
        ],
        "font": {
         "color": "#363636",
         "family": "Arial",
         "size": 24
        },
        "height": 1120,
        "paper_bgcolor": "rgba(0, 0, 0, 0)",
        "plot_bgcolor": "rgba(0, 0, 0, 0)",
        "template": {
         "data": {
          "bar": [
           {
            "error_x": {
             "color": "#2a3f5f"
            },
            "error_y": {
             "color": "#2a3f5f"
            },
            "marker": {
             "line": {
              "color": "#E5ECF6",
              "width": 0.5
             },
             "pattern": {
              "fillmode": "overlay",
              "size": 10,
              "solidity": 0.2
             }
            },
            "type": "bar"
           }
          ],
          "barpolar": [
           {
            "marker": {
             "line": {
              "color": "#E5ECF6",
              "width": 0.5
             },
             "pattern": {
              "fillmode": "overlay",
              "size": 10,
              "solidity": 0.2
             }
            },
            "type": "barpolar"
           }
          ],
          "carpet": [
           {
            "aaxis": {
             "endlinecolor": "#2a3f5f",
             "gridcolor": "white",
             "linecolor": "white",
             "minorgridcolor": "white",
             "startlinecolor": "#2a3f5f"
            },
            "baxis": {
             "endlinecolor": "#2a3f5f",
             "gridcolor": "white",
             "linecolor": "white",
             "minorgridcolor": "white",
             "startlinecolor": "#2a3f5f"
            },
            "type": "carpet"
           }
          ],
          "choropleth": [
           {
            "colorbar": {
             "outlinewidth": 0,
             "ticks": ""
            },
            "type": "choropleth"
           }
          ],
          "contour": [
           {
            "colorbar": {
             "outlinewidth": 0,
             "ticks": ""
            },
            "colorscale": [
             [
              0,
              "#0d0887"
             ],
             [
              0.1111111111111111,
              "#46039f"
             ],
             [
              0.2222222222222222,
              "#7201a8"
             ],
             [
              0.3333333333333333,
              "#9c179e"
             ],
             [
              0.4444444444444444,
              "#bd3786"
             ],
             [
              0.5555555555555556,
              "#d8576b"
             ],
             [
              0.6666666666666666,
              "#ed7953"
             ],
             [
              0.7777777777777778,
              "#fb9f3a"
             ],
             [
              0.8888888888888888,
              "#fdca26"
             ],
             [
              1,
              "#f0f921"
             ]
            ],
            "type": "contour"
           }
          ],
          "contourcarpet": [
           {
            "colorbar": {
             "outlinewidth": 0,
             "ticks": ""
            },
            "type": "contourcarpet"
           }
          ],
          "heatmap": [
           {
            "colorbar": {
             "outlinewidth": 0,
             "ticks": ""
            },
            "colorscale": [
             [
              0,
              "#0d0887"
             ],
             [
              0.1111111111111111,
              "#46039f"
             ],
             [
              0.2222222222222222,
              "#7201a8"
             ],
             [
              0.3333333333333333,
              "#9c179e"
             ],
             [
              0.4444444444444444,
              "#bd3786"
             ],
             [
              0.5555555555555556,
              "#d8576b"
             ],
             [
              0.6666666666666666,
              "#ed7953"
             ],
             [
              0.7777777777777778,
              "#fb9f3a"
             ],
             [
              0.8888888888888888,
              "#fdca26"
             ],
             [
              1,
              "#f0f921"
             ]
            ],
            "type": "heatmap"
           }
          ],
          "heatmapgl": [
           {
            "colorbar": {
             "outlinewidth": 0,
             "ticks": ""
            },
            "colorscale": [
             [
              0,
              "#0d0887"
             ],
             [
              0.1111111111111111,
              "#46039f"
             ],
             [
              0.2222222222222222,
              "#7201a8"
             ],
             [
              0.3333333333333333,
              "#9c179e"
             ],
             [
              0.4444444444444444,
              "#bd3786"
             ],
             [
              0.5555555555555556,
              "#d8576b"
             ],
             [
              0.6666666666666666,
              "#ed7953"
             ],
             [
              0.7777777777777778,
              "#fb9f3a"
             ],
             [
              0.8888888888888888,
              "#fdca26"
             ],
             [
              1,
              "#f0f921"
             ]
            ],
            "type": "heatmapgl"
           }
          ],
          "histogram": [
           {
            "marker": {
             "pattern": {
              "fillmode": "overlay",
              "size": 10,
              "solidity": 0.2
             }
            },
            "type": "histogram"
           }
          ],
          "histogram2d": [
           {
            "colorbar": {
             "outlinewidth": 0,
             "ticks": ""
            },
            "colorscale": [
             [
              0,
              "#0d0887"
             ],
             [
              0.1111111111111111,
              "#46039f"
             ],
             [
              0.2222222222222222,
              "#7201a8"
             ],
             [
              0.3333333333333333,
              "#9c179e"
             ],
             [
              0.4444444444444444,
              "#bd3786"
             ],
             [
              0.5555555555555556,
              "#d8576b"
             ],
             [
              0.6666666666666666,
              "#ed7953"
             ],
             [
              0.7777777777777778,
              "#fb9f3a"
             ],
             [
              0.8888888888888888,
              "#fdca26"
             ],
             [
              1,
              "#f0f921"
             ]
            ],
            "type": "histogram2d"
           }
          ],
          "histogram2dcontour": [
           {
            "colorbar": {
             "outlinewidth": 0,
             "ticks": ""
            },
            "colorscale": [
             [
              0,
              "#0d0887"
             ],
             [
              0.1111111111111111,
              "#46039f"
             ],
             [
              0.2222222222222222,
              "#7201a8"
             ],
             [
              0.3333333333333333,
              "#9c179e"
             ],
             [
              0.4444444444444444,
              "#bd3786"
             ],
             [
              0.5555555555555556,
              "#d8576b"
             ],
             [
              0.6666666666666666,
              "#ed7953"
             ],
             [
              0.7777777777777778,
              "#fb9f3a"
             ],
             [
              0.8888888888888888,
              "#fdca26"
             ],
             [
              1,
              "#f0f921"
             ]
            ],
            "type": "histogram2dcontour"
           }
          ],
          "mesh3d": [
           {
            "colorbar": {
             "outlinewidth": 0,
             "ticks": ""
            },
            "type": "mesh3d"
           }
          ],
          "parcoords": [
           {
            "line": {
             "colorbar": {
              "outlinewidth": 0,
              "ticks": ""
             }
            },
            "type": "parcoords"
           }
          ],
          "pie": [
           {
            "automargin": true,
            "type": "pie"
           }
          ],
          "scatter": [
           {
            "fillpattern": {
             "fillmode": "overlay",
             "size": 10,
             "solidity": 0.2
            },
            "type": "scatter"
           }
          ],
          "scatter3d": [
           {
            "line": {
             "colorbar": {
              "outlinewidth": 0,
              "ticks": ""
             }
            },
            "marker": {
             "colorbar": {
              "outlinewidth": 0,
              "ticks": ""
             }
            },
            "type": "scatter3d"
           }
          ],
          "scattercarpet": [
           {
            "marker": {
             "colorbar": {
              "outlinewidth": 0,
              "ticks": ""
             }
            },
            "type": "scattercarpet"
           }
          ],
          "scattergeo": [
           {
            "marker": {
             "colorbar": {
              "outlinewidth": 0,
              "ticks": ""
             }
            },
            "type": "scattergeo"
           }
          ],
          "scattergl": [
           {
            "marker": {
             "colorbar": {
              "outlinewidth": 0,
              "ticks": ""
             }
            },
            "type": "scattergl"
           }
          ],
          "scattermapbox": [
           {
            "marker": {
             "colorbar": {
              "outlinewidth": 0,
              "ticks": ""
             }
            },
            "type": "scattermapbox"
           }
          ],
          "scatterpolar": [
           {
            "marker": {
             "colorbar": {
              "outlinewidth": 0,
              "ticks": ""
             }
            },
            "type": "scatterpolar"
           }
          ],
          "scatterpolargl": [
           {
            "marker": {
             "colorbar": {
              "outlinewidth": 0,
              "ticks": ""
             }
            },
            "type": "scatterpolargl"
           }
          ],
          "scatterternary": [
           {
            "marker": {
             "colorbar": {
              "outlinewidth": 0,
              "ticks": ""
             }
            },
            "type": "scatterternary"
           }
          ],
          "surface": [
           {
            "colorbar": {
             "outlinewidth": 0,
             "ticks": ""
            },
            "colorscale": [
             [
              0,
              "#0d0887"
             ],
             [
              0.1111111111111111,
              "#46039f"
             ],
             [
              0.2222222222222222,
              "#7201a8"
             ],
             [
              0.3333333333333333,
              "#9c179e"
             ],
             [
              0.4444444444444444,
              "#bd3786"
             ],
             [
              0.5555555555555556,
              "#d8576b"
             ],
             [
              0.6666666666666666,
              "#ed7953"
             ],
             [
              0.7777777777777778,
              "#fb9f3a"
             ],
             [
              0.8888888888888888,
              "#fdca26"
             ],
             [
              1,
              "#f0f921"
             ]
            ],
            "type": "surface"
           }
          ],
          "table": [
           {
            "cells": {
             "fill": {
              "color": "#EBF0F8"
             },
             "line": {
              "color": "white"
             }
            },
            "header": {
             "fill": {
              "color": "#C8D4E3"
             },
             "line": {
              "color": "white"
             }
            },
            "type": "table"
           }
          ]
         },
         "layout": {
          "annotationdefaults": {
           "arrowcolor": "#2a3f5f",
           "arrowhead": 0,
           "arrowwidth": 1
          },
          "autotypenumbers": "strict",
          "coloraxis": {
           "colorbar": {
            "outlinewidth": 0,
            "ticks": ""
           }
          },
          "colorscale": {
           "diverging": [
            [
             0,
             "#8e0152"
            ],
            [
             0.1,
             "#c51b7d"
            ],
            [
             0.2,
             "#de77ae"
            ],
            [
             0.3,
             "#f1b6da"
            ],
            [
             0.4,
             "#fde0ef"
            ],
            [
             0.5,
             "#f7f7f7"
            ],
            [
             0.6,
             "#e6f5d0"
            ],
            [
             0.7,
             "#b8e186"
            ],
            [
             0.8,
             "#7fbc41"
            ],
            [
             0.9,
             "#4d9221"
            ],
            [
             1,
             "#276419"
            ]
           ],
           "sequential": [
            [
             0,
             "#0d0887"
            ],
            [
             0.1111111111111111,
             "#46039f"
            ],
            [
             0.2222222222222222,
             "#7201a8"
            ],
            [
             0.3333333333333333,
             "#9c179e"
            ],
            [
             0.4444444444444444,
             "#bd3786"
            ],
            [
             0.5555555555555556,
             "#d8576b"
            ],
            [
             0.6666666666666666,
             "#ed7953"
            ],
            [
             0.7777777777777778,
             "#fb9f3a"
            ],
            [
             0.8888888888888888,
             "#fdca26"
            ],
            [
             1,
             "#f0f921"
            ]
           ],
           "sequentialminus": [
            [
             0,
             "#0d0887"
            ],
            [
             0.1111111111111111,
             "#46039f"
            ],
            [
             0.2222222222222222,
             "#7201a8"
            ],
            [
             0.3333333333333333,
             "#9c179e"
            ],
            [
             0.4444444444444444,
             "#bd3786"
            ],
            [
             0.5555555555555556,
             "#d8576b"
            ],
            [
             0.6666666666666666,
             "#ed7953"
            ],
            [
             0.7777777777777778,
             "#fb9f3a"
            ],
            [
             0.8888888888888888,
             "#fdca26"
            ],
            [
             1,
             "#f0f921"
            ]
           ]
          },
          "colorway": [
           "#636efa",
           "#EF553B",
           "#00cc96",
           "#ab63fa",
           "#FFA15A",
           "#19d3f3",
           "#FF6692",
           "#B6E880",
           "#FF97FF",
           "#FECB52"
          ],
          "font": {
           "color": "#2a3f5f"
          },
          "geo": {
           "bgcolor": "white",
           "lakecolor": "white",
           "landcolor": "#E5ECF6",
           "showlakes": true,
           "showland": true,
           "subunitcolor": "white"
          },
          "hoverlabel": {
           "align": "left"
          },
          "hovermode": "closest",
          "mapbox": {
           "style": "light"
          },
          "paper_bgcolor": "white",
          "plot_bgcolor": "#E5ECF6",
          "polar": {
           "angularaxis": {
            "gridcolor": "white",
            "linecolor": "white",
            "ticks": ""
           },
           "bgcolor": "#E5ECF6",
           "radialaxis": {
            "gridcolor": "white",
            "linecolor": "white",
            "ticks": ""
           }
          },
          "scene": {
           "xaxis": {
            "backgroundcolor": "#E5ECF6",
            "gridcolor": "white",
            "gridwidth": 2,
            "linecolor": "white",
            "showbackground": true,
            "ticks": "",
            "zerolinecolor": "white"
           },
           "yaxis": {
            "backgroundcolor": "#E5ECF6",
            "gridcolor": "white",
            "gridwidth": 2,
            "linecolor": "white",
            "showbackground": true,
            "ticks": "",
            "zerolinecolor": "white"
           },
           "zaxis": {
            "backgroundcolor": "#E5ECF6",
            "gridcolor": "white",
            "gridwidth": 2,
            "linecolor": "white",
            "showbackground": true,
            "ticks": "",
            "zerolinecolor": "white"
           }
          },
          "shapedefaults": {
           "line": {
            "color": "#2a3f5f"
           }
          },
          "ternary": {
           "aaxis": {
            "gridcolor": "white",
            "linecolor": "white",
            "ticks": ""
           },
           "baxis": {
            "gridcolor": "white",
            "linecolor": "white",
            "ticks": ""
           },
           "bgcolor": "#E5ECF6",
           "caxis": {
            "gridcolor": "white",
            "linecolor": "white",
            "ticks": ""
           }
          },
          "title": {
           "x": 0.05
          },
          "xaxis": {
           "automargin": true,
           "gridcolor": "white",
           "linecolor": "white",
           "ticks": "",
           "title": {
            "standoff": 15
           },
           "zerolinecolor": "white",
           "zerolinewidth": 2
          },
          "yaxis": {
           "automargin": true,
           "gridcolor": "white",
           "linecolor": "white",
           "ticks": "",
           "title": {
            "standoff": 15
           },
           "zerolinecolor": "white",
           "zerolinewidth": 2
          }
         }
        },
        "title": {
         "font": {
          "color": "#363636",
          "family": "Arial",
          "size": 27
         },
         "text": "FY 2026 Sources and Uses of Cash",
         "xanchor": "left",
         "yanchor": "top"
        },
        "width": 1360
       }
      }
     },
     "metadata": {},
     "output_type": "display_data"
    }
   ],
   "source": [
    "# NODES ----------------------------------------------------------------\n",
    "\n",
    "# Node Labels\n",
    "NodeLabel =  [f\"${value:.0f} MM | <b>{node}<b>\" for (node, value) in zip(node_df['Node'], node_df['Value']) ]\n",
    "node_df['Label'] = NodeLabel\n",
    "\n",
    "\n",
    "# Create dictionary for nodes\n",
    "nodes = dict(\n",
    "    type='sankey',\n",
    "    orientation='h',\n",
    "    arrangement='snap',\n",
    "    node=dict(\n",
    "        pad=nodePad,\n",
    "        thickness=nodeThickness,\n",
    "        line=nodeLine,\n",
    "        label=node_df['Label'],\n",
    "        color=node_df['Color'],\n",
    "        x=node_df['node_position_x'],\n",
    "        y=node_df['node_position_y'],\n",
    "        hovertemplate=nodeHoverTemplate\n",
    "    )\n",
    ")\n",
    "\n",
    "\n",
    "\n",
    "# LINKS ---------------------------------------------------------------------\n",
    "\n",
    "# Convert node labels to node indices\n",
    "source_indices = [node_df[node_df['Node'] == source].index[0] for source in link_df['Source']]\n",
    "target_indices = [node_df[node_df['Node'] == target].index[0] for target in link_df['Target']]\n",
    "\n",
    "# Create dictionary for links\n",
    "link_dict = dict(\n",
    "    source=source_indices,\n",
    "    target=target_indices,\n",
    "    value=link_df['Value'],\n",
    "    color=link_df['Color'],\n",
    "    hovertemplate=linkHoverTemplate,\n",
    "    hoverlabel=dict(font=dict(family=fontFamily))\n",
    ")\n",
    "\n",
    "# Define nodes and links\n",
    "nodes['link'] = link_dict\n",
    "\n",
    "\n",
    "\n",
    "# CHART LAYOUT ------------------------------------------------------------\n",
    "\n",
    "# Define layout\n",
    "layout = dict(\n",
    "    height=outHeight*OUTPUT_SCALED_BY,\n",
    "    width=outWidth*OUTPUT_SCALED_BY,\n",
    "    title=dict(\n",
    "        text=titleText,\n",
    "        font=dict(size=titleFontSize, family=fontFamily, color=fontColor),\n",
    "        xanchor='left',\n",
    "        yanchor='top'\n",
    "    ),\n",
    "    annotations=[\n",
    "        dict(\n",
    "            text=captionText,\n",
    "            showarrow=False,\n",
    "            font=dict(size=captionFontSize, family=fontFamily, color=fontColor),\n",
    "            xref='paper',\n",
    "            yref='paper',\n",
    "            x=0,\n",
    "            y=-0.1,\n",
    "            xanchor='left',\n",
    "            yanchor='bottom'\n",
    "        )\n",
    "    ],\n",
    "    paper_bgcolor=paperBgcolor,\n",
    "    plot_bgcolor=plotBgcolor,\n",
    "    font=dict(size=textFontSize, family=fontFamily, color=fontColor)\n",
    ")\n",
    "\n",
    "# Create figure\n",
    "fig = go.Figure(data=[nodes], layout=layout)\n",
    "\n",
    "# Show figure\n",
    "fig.show()\n",
    "\n",
    "# Export to PNG\n",
    "fig.write_image(outputFilename, \n",
    "                height=outHeight*OUTPUT_SCALED_BY, width=outWidth*OUTPUT_SCALED_BY)"
   ]
  }
 ],
 "metadata": {
  "kernelspec": {
   "display_name": "Python 3",
   "language": "python",
   "name": "python3"
  },
  "language_info": {
   "codemirror_mode": {
    "name": "ipython",
    "version": 3
   },
   "file_extension": ".py",
   "mimetype": "text/x-python",
   "name": "python",
   "nbconvert_exporter": "python",
   "pygments_lexer": "ipython3",
   "version": "3.9.2"
  },
  "varInspector": {
   "cols": {
    "lenName": 16,
    "lenType": 16,
    "lenVar": 40
   },
   "kernels_config": {
    "python": {
     "delete_cmd_postfix": "",
     "delete_cmd_prefix": "del ",
     "library": "var_list.py",
     "varRefreshCmd": "print(var_dic_list())"
    },
    "r": {
     "delete_cmd_postfix": ") ",
     "delete_cmd_prefix": "rm(",
     "library": "var_list.r",
     "varRefreshCmd": "cat(var_dic_list()) "
    }
   },
   "position": {
    "height": "144.432px",
    "left": "1386.39px",
    "right": "20px",
    "top": "80.9858px",
    "width": "350px"
   },
   "types_to_exclude": [
    "module",
    "function",
    "builtin_function_or_method",
    "instance",
    "_Feature"
   ],
   "window_display": true
  }
 },
 "nbformat": 4,
 "nbformat_minor": 5
}
